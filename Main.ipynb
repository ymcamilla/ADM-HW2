{
 "cells": [
  {
   "cell_type": "markdown",
   "metadata": {},
   "source": [
    "## ADM - Homework 2 - Steam Reviews ##\n",
    "\n",
    "- Camilla Lombardi 1794467\n",
    "- Alice Palmucci 1836723\n",
    "- Aruzhan Kakibay 1996005\n"
   ]
  },
  {
   "cell_type": "markdown",
   "metadata": {},
   "source": [
    "**Libraries**"
   ]
  },
  {
   "cell_type": "code",
   "execution_count": 170,
   "metadata": {},
   "outputs": [],
   "source": [
    "import pandas as pd\n",
    "import numpy as np\n",
    "import matplotlib.pyplot as plt\n",
    "import datetime\n",
    "from datetime import datetime\n",
    "import scipy.stats\n",
    "import seaborn as sns\n",
    "from IPython.display import display, Math, Latex\n",
    "from sklearn import datasets, linear_model\n",
    "from sklearn.metrics import mean_squared_error, r2_score\n",
    "from sklearn.linear_model import LinearRegression"
   ]
  },
  {
   "cell_type": "code",
   "execution_count": 3,
   "metadata": {},
   "outputs": [],
   "source": [
    "def dateparse(time_in_secs):\n",
    "    return pd.to_datetime(time_in_secs, unit='s')"
   ]
  },
  {
   "cell_type": "code",
   "execution_count": 4,
   "metadata": {},
   "outputs": [],
   "source": [
    "data_original = pd.read_csv('./steam_reviews.csv', header='infer',\n",
    "                       parse_dates=['timestamp_created', 'timestamp_updated', 'author.last_played'], \n",
    "                      date_parser=dateparse)"
   ]
  },
  {
   "cell_type": "markdown",
   "metadata": {},
   "source": [
    "#### RQ 1 - Exploratory Data Analysis"
   ]
  },
  {
   "cell_type": "markdown",
   "metadata": {},
   "source": [
    "Exploratory Data Analysis (EDA) is an approach to analyze datasets to summarize their main characteristics. \n",
    "We will start by looking at the dataset: checking the dimensions, the features, missing values. "
   ]
  },
  {
   "cell_type": "markdown",
   "metadata": {},
   "source": [
    "Lets see basic information regarding the dataset"
   ]
  },
  {
   "cell_type": "code",
   "execution_count": 5,
   "metadata": {},
   "outputs": [
    {
     "name": "stdout",
     "output_type": "stream",
     "text": [
      "<class 'pandas.core.frame.DataFrame'>\n",
      "RangeIndex: 21747371 entries, 0 to 21747370\n",
      "Data columns (total 23 columns):\n",
      " #   Column                          Dtype         \n",
      "---  ------                          -----         \n",
      " 0   Unnamed: 0                      int64         \n",
      " 1   app_id                          int64         \n",
      " 2   app_name                        object        \n",
      " 3   review_id                       int64         \n",
      " 4   language                        object        \n",
      " 5   review                          object        \n",
      " 6   timestamp_created               datetime64[ns]\n",
      " 7   timestamp_updated               datetime64[ns]\n",
      " 8   recommended                     bool          \n",
      " 9   votes_helpful                   int64         \n",
      " 10  votes_funny                     int64         \n",
      " 11  weighted_vote_score             float64       \n",
      " 12  comment_count                   int64         \n",
      " 13  steam_purchase                  bool          \n",
      " 14  received_for_free               bool          \n",
      " 15  written_during_early_access     bool          \n",
      " 16  author.steamid                  int64         \n",
      " 17  author.num_games_owned          int64         \n",
      " 18  author.num_reviews              int64         \n",
      " 19  author.playtime_forever         float64       \n",
      " 20  author.playtime_last_two_weeks  float64       \n",
      " 21  author.playtime_at_review       float64       \n",
      " 22  author.last_played              datetime64[ns]\n",
      "dtypes: bool(4), datetime64[ns](3), float64(4), int64(9), object(3)\n",
      "memory usage: 3.2+ GB\n"
     ]
    }
   ],
   "source": [
    "data_original.info()"
   ]
  },
  {
   "cell_type": "markdown",
   "metadata": {},
   "source": [
    "### Dataset consist of 23 columns:\n",
    "1. app_id – the application unique identification number\n",
    "2. app_name – the name of the game\n",
    "3. review_id – unique identity of review\n",
    "4. language – language used in review\n",
    "5. review – the actual review\n",
    "6. timestamp_created – date the review was created (unixtimestamp)\n",
    "7. timestamp_updated – date the review was last updated (unix timestamp)\n",
    "8. recommended – true means it was a positive recommendation\n",
    "9. votes_helpful – the number of users that found this review helpful\n",
    "10. votes_funny – the number of users that found this review funny\n",
    "11. weighted_vote_score – helpfulness score\n",
    "12. comment_count – number of comments posted on this review\n",
    "13. steam_purchase – true if the user purchased the game on Steam\n",
    "14. received_for_free – true if the user checked a box saying they got the app for free\n",
    "15. written_during_early_access – true if the user posted this review while the game was in Early Access\n",
    "16. Author fields:\n",
    "17. steamid – the user’s SteamID\n",
    "18. num_games_owned – number of games owned by the user\n",
    "19. num_reviews – number of reviews written by the user\n",
    "20. playtime_forever – lifetime playtime tracked in this app\n",
    "21. playtime_last_two_weeks – playtime tracked in the past two weeks for this app\n",
    "22. playtime_at_review – playtime when the review was written\n",
    "23. last_played – time for when the user last played"
   ]
  },
  {
   "cell_type": "code",
   "execution_count": 6,
   "metadata": {},
   "outputs": [
    {
     "data": {
      "text/html": [
       "<div>\n",
       "<style scoped>\n",
       "    .dataframe tbody tr th:only-of-type {\n",
       "        vertical-align: middle;\n",
       "    }\n",
       "\n",
       "    .dataframe tbody tr th {\n",
       "        vertical-align: top;\n",
       "    }\n",
       "\n",
       "    .dataframe thead th {\n",
       "        text-align: right;\n",
       "    }\n",
       "</style>\n",
       "<table border=\"1\" class=\"dataframe\">\n",
       "  <thead>\n",
       "    <tr style=\"text-align: right;\">\n",
       "      <th></th>\n",
       "      <th>Unnamed: 0</th>\n",
       "      <th>app_id</th>\n",
       "      <th>app_name</th>\n",
       "      <th>review_id</th>\n",
       "      <th>language</th>\n",
       "      <th>review</th>\n",
       "      <th>timestamp_created</th>\n",
       "      <th>timestamp_updated</th>\n",
       "      <th>recommended</th>\n",
       "      <th>votes_helpful</th>\n",
       "      <th>...</th>\n",
       "      <th>steam_purchase</th>\n",
       "      <th>received_for_free</th>\n",
       "      <th>written_during_early_access</th>\n",
       "      <th>author.steamid</th>\n",
       "      <th>author.num_games_owned</th>\n",
       "      <th>author.num_reviews</th>\n",
       "      <th>author.playtime_forever</th>\n",
       "      <th>author.playtime_last_two_weeks</th>\n",
       "      <th>author.playtime_at_review</th>\n",
       "      <th>author.last_played</th>\n",
       "    </tr>\n",
       "  </thead>\n",
       "  <tbody>\n",
       "    <tr>\n",
       "      <th>0</th>\n",
       "      <td>0</td>\n",
       "      <td>292030</td>\n",
       "      <td>The Witcher 3: Wild Hunt</td>\n",
       "      <td>85185598</td>\n",
       "      <td>schinese</td>\n",
       "      <td>不玩此生遗憾，RPG游戏里的天花板，太吸引人了</td>\n",
       "      <td>2021-01-23 06:00:29</td>\n",
       "      <td>2021-01-23 06:00:29</td>\n",
       "      <td>True</td>\n",
       "      <td>0</td>\n",
       "      <td>...</td>\n",
       "      <td>True</td>\n",
       "      <td>False</td>\n",
       "      <td>False</td>\n",
       "      <td>76561199095369542</td>\n",
       "      <td>6</td>\n",
       "      <td>2</td>\n",
       "      <td>1909.0</td>\n",
       "      <td>1448.0</td>\n",
       "      <td>1909.0</td>\n",
       "      <td>2021-01-22 19:23:03</td>\n",
       "    </tr>\n",
       "    <tr>\n",
       "      <th>1</th>\n",
       "      <td>1</td>\n",
       "      <td>292030</td>\n",
       "      <td>The Witcher 3: Wild Hunt</td>\n",
       "      <td>85185250</td>\n",
       "      <td>schinese</td>\n",
       "      <td>拔DIAO无情打桩机--杰洛特!!!</td>\n",
       "      <td>2021-01-23 05:50:30</td>\n",
       "      <td>2021-01-23 05:50:30</td>\n",
       "      <td>True</td>\n",
       "      <td>0</td>\n",
       "      <td>...</td>\n",
       "      <td>True</td>\n",
       "      <td>False</td>\n",
       "      <td>False</td>\n",
       "      <td>76561198949504115</td>\n",
       "      <td>30</td>\n",
       "      <td>10</td>\n",
       "      <td>2764.0</td>\n",
       "      <td>2743.0</td>\n",
       "      <td>2674.0</td>\n",
       "      <td>2021-01-23 07:18:27</td>\n",
       "    </tr>\n",
       "    <tr>\n",
       "      <th>2</th>\n",
       "      <td>2</td>\n",
       "      <td>292030</td>\n",
       "      <td>The Witcher 3: Wild Hunt</td>\n",
       "      <td>85185111</td>\n",
       "      <td>schinese</td>\n",
       "      <td>巫师3NB</td>\n",
       "      <td>2021-01-23 05:46:40</td>\n",
       "      <td>2021-01-23 05:46:40</td>\n",
       "      <td>True</td>\n",
       "      <td>0</td>\n",
       "      <td>...</td>\n",
       "      <td>True</td>\n",
       "      <td>False</td>\n",
       "      <td>False</td>\n",
       "      <td>76561199090098988</td>\n",
       "      <td>5</td>\n",
       "      <td>1</td>\n",
       "      <td>1061.0</td>\n",
       "      <td>1061.0</td>\n",
       "      <td>1060.0</td>\n",
       "      <td>2021-01-23 06:36:17</td>\n",
       "    </tr>\n",
       "    <tr>\n",
       "      <th>3</th>\n",
       "      <td>3</td>\n",
       "      <td>292030</td>\n",
       "      <td>The Witcher 3: Wild Hunt</td>\n",
       "      <td>85184605</td>\n",
       "      <td>english</td>\n",
       "      <td>One of the best RPG's of all time, worthy of a...</td>\n",
       "      <td>2021-01-23 05:32:50</td>\n",
       "      <td>2021-01-23 05:32:50</td>\n",
       "      <td>True</td>\n",
       "      <td>0</td>\n",
       "      <td>...</td>\n",
       "      <td>True</td>\n",
       "      <td>False</td>\n",
       "      <td>False</td>\n",
       "      <td>76561199054755373</td>\n",
       "      <td>5</td>\n",
       "      <td>3</td>\n",
       "      <td>5587.0</td>\n",
       "      <td>3200.0</td>\n",
       "      <td>5524.0</td>\n",
       "      <td>2021-01-23 06:35:44</td>\n",
       "    </tr>\n",
       "    <tr>\n",
       "      <th>4</th>\n",
       "      <td>4</td>\n",
       "      <td>292030</td>\n",
       "      <td>The Witcher 3: Wild Hunt</td>\n",
       "      <td>85184287</td>\n",
       "      <td>schinese</td>\n",
       "      <td>大作</td>\n",
       "      <td>2021-01-23 05:23:47</td>\n",
       "      <td>2021-01-23 05:23:47</td>\n",
       "      <td>True</td>\n",
       "      <td>0</td>\n",
       "      <td>...</td>\n",
       "      <td>True</td>\n",
       "      <td>False</td>\n",
       "      <td>False</td>\n",
       "      <td>76561199028326951</td>\n",
       "      <td>7</td>\n",
       "      <td>4</td>\n",
       "      <td>217.0</td>\n",
       "      <td>42.0</td>\n",
       "      <td>217.0</td>\n",
       "      <td>2021-01-16 09:10:49</td>\n",
       "    </tr>\n",
       "  </tbody>\n",
       "</table>\n",
       "<p>5 rows × 23 columns</p>\n",
       "</div>"
      ],
      "text/plain": [
       "   Unnamed: 0  app_id                  app_name  review_id  language  \\\n",
       "0           0  292030  The Witcher 3: Wild Hunt   85185598  schinese   \n",
       "1           1  292030  The Witcher 3: Wild Hunt   85185250  schinese   \n",
       "2           2  292030  The Witcher 3: Wild Hunt   85185111  schinese   \n",
       "3           3  292030  The Witcher 3: Wild Hunt   85184605   english   \n",
       "4           4  292030  The Witcher 3: Wild Hunt   85184287  schinese   \n",
       "\n",
       "                                              review   timestamp_created  \\\n",
       "0                            不玩此生遗憾，RPG游戏里的天花板，太吸引人了 2021-01-23 06:00:29   \n",
       "1                                 拔DIAO无情打桩机--杰洛特!!! 2021-01-23 05:50:30   \n",
       "2                                              巫师3NB 2021-01-23 05:46:40   \n",
       "3  One of the best RPG's of all time, worthy of a... 2021-01-23 05:32:50   \n",
       "4                                                 大作 2021-01-23 05:23:47   \n",
       "\n",
       "    timestamp_updated  recommended  votes_helpful  ...  steam_purchase  \\\n",
       "0 2021-01-23 06:00:29         True              0  ...            True   \n",
       "1 2021-01-23 05:50:30         True              0  ...            True   \n",
       "2 2021-01-23 05:46:40         True              0  ...            True   \n",
       "3 2021-01-23 05:32:50         True              0  ...            True   \n",
       "4 2021-01-23 05:23:47         True              0  ...            True   \n",
       "\n",
       "   received_for_free  written_during_early_access     author.steamid  \\\n",
       "0              False                        False  76561199095369542   \n",
       "1              False                        False  76561198949504115   \n",
       "2              False                        False  76561199090098988   \n",
       "3              False                        False  76561199054755373   \n",
       "4              False                        False  76561199028326951   \n",
       "\n",
       "   author.num_games_owned  author.num_reviews  author.playtime_forever  \\\n",
       "0                       6                   2                   1909.0   \n",
       "1                      30                  10                   2764.0   \n",
       "2                       5                   1                   1061.0   \n",
       "3                       5                   3                   5587.0   \n",
       "4                       7                   4                    217.0   \n",
       "\n",
       "   author.playtime_last_two_weeks  author.playtime_at_review  \\\n",
       "0                          1448.0                     1909.0   \n",
       "1                          2743.0                     2674.0   \n",
       "2                          1061.0                     1060.0   \n",
       "3                          3200.0                     5524.0   \n",
       "4                            42.0                      217.0   \n",
       "\n",
       "   author.last_played  \n",
       "0 2021-01-22 19:23:03  \n",
       "1 2021-01-23 07:18:27  \n",
       "2 2021-01-23 06:36:17  \n",
       "3 2021-01-23 06:35:44  \n",
       "4 2021-01-16 09:10:49  \n",
       "\n",
       "[5 rows x 23 columns]"
      ]
     },
     "execution_count": 6,
     "metadata": {},
     "output_type": "execute_result"
    }
   ],
   "source": [
    "data_original.head()"
   ]
  },
  {
   "cell_type": "code",
   "execution_count": 7,
   "metadata": {},
   "outputs": [
    {
     "data": {
      "text/plain": [
       "(21747371, 23)"
      ]
     },
     "execution_count": 7,
     "metadata": {},
     "output_type": "execute_result"
    }
   ],
   "source": [
    "data_original.shape"
   ]
  },
  {
   "cell_type": "markdown",
   "metadata": {},
   "source": [
    "We will know check if there are missing values in the dataset, and depending on in which features we find them, we will decide how to manage them.."
   ]
  },
  {
   "cell_type": "code",
   "execution_count": 8,
   "metadata": {},
   "outputs": [
    {
     "data": {
      "text/plain": [
       "Unnamed: 0                            0\n",
       "app_id                                0\n",
       "app_name                              0\n",
       "review_id                             0\n",
       "language                              0\n",
       "review                            33742\n",
       "timestamp_created                     0\n",
       "timestamp_updated                     0\n",
       "recommended                           0\n",
       "votes_helpful                         0\n",
       "votes_funny                           0\n",
       "weighted_vote_score                   0\n",
       "comment_count                         0\n",
       "steam_purchase                        0\n",
       "received_for_free                     0\n",
       "written_during_early_access           0\n",
       "author.steamid                        0\n",
       "author.num_games_owned                0\n",
       "author.num_reviews                    0\n",
       "author.playtime_forever               2\n",
       "author.playtime_last_two_weeks        2\n",
       "author.playtime_at_review         25682\n",
       "author.last_played                    2\n",
       "dtype: int64"
      ]
     },
     "execution_count": 8,
     "metadata": {},
     "output_type": "execute_result"
    }
   ],
   "source": [
    "data_original.isnull().sum() #if 0 no problem"
   ]
  },
  {
   "cell_type": "markdown",
   "metadata": {},
   "source": [
    "With this method, we count how many missing values there are for each feature.\n",
    "In this dataset, the missing values are in the following features:\n",
    "1. Review\n",
    "2. author.playtime_forever\n",
    "3. author.playtime_last_two_weeks\n",
    "4. author.playtime_at_review\n",
    "5. author.last_played     \n",
    "\n",
    "Now, we believe that the column \"review\" can't be replaced, so we decided to drop all the rows where te feature review is missing.\n",
    "For the remaining features we could replace the missing values with the average value for that feature, but since the number of missing values is so small with respect to the number of observation, we decided to drop also these rows, since it would not affect our further analysis."
   ]
  },
  {
   "cell_type": "code",
   "execution_count": 9,
   "metadata": {},
   "outputs": [
    {
     "data": {
      "text/html": [
       "<div>\n",
       "<style scoped>\n",
       "    .dataframe tbody tr th:only-of-type {\n",
       "        vertical-align: middle;\n",
       "    }\n",
       "\n",
       "    .dataframe tbody tr th {\n",
       "        vertical-align: top;\n",
       "    }\n",
       "\n",
       "    .dataframe thead th {\n",
       "        text-align: right;\n",
       "    }\n",
       "</style>\n",
       "<table border=\"1\" class=\"dataframe\">\n",
       "  <thead>\n",
       "    <tr style=\"text-align: right;\">\n",
       "      <th></th>\n",
       "      <th>Unnamed: 0</th>\n",
       "      <th>app_id</th>\n",
       "      <th>app_name</th>\n",
       "      <th>review_id</th>\n",
       "      <th>language</th>\n",
       "      <th>review</th>\n",
       "      <th>timestamp_created</th>\n",
       "      <th>timestamp_updated</th>\n",
       "      <th>recommended</th>\n",
       "      <th>votes_helpful</th>\n",
       "      <th>...</th>\n",
       "      <th>steam_purchase</th>\n",
       "      <th>received_for_free</th>\n",
       "      <th>written_during_early_access</th>\n",
       "      <th>author.steamid</th>\n",
       "      <th>author.num_games_owned</th>\n",
       "      <th>author.num_reviews</th>\n",
       "      <th>author.playtime_forever</th>\n",
       "      <th>author.playtime_last_two_weeks</th>\n",
       "      <th>author.playtime_at_review</th>\n",
       "      <th>author.last_played</th>\n",
       "    </tr>\n",
       "  </thead>\n",
       "  <tbody>\n",
       "    <tr>\n",
       "      <th>0</th>\n",
       "      <td>0</td>\n",
       "      <td>292030</td>\n",
       "      <td>The Witcher 3: Wild Hunt</td>\n",
       "      <td>85185598</td>\n",
       "      <td>schinese</td>\n",
       "      <td>不玩此生遗憾，RPG游戏里的天花板，太吸引人了</td>\n",
       "      <td>2021-01-23 06:00:29</td>\n",
       "      <td>2021-01-23 06:00:29</td>\n",
       "      <td>True</td>\n",
       "      <td>0</td>\n",
       "      <td>...</td>\n",
       "      <td>True</td>\n",
       "      <td>False</td>\n",
       "      <td>False</td>\n",
       "      <td>76561199095369542</td>\n",
       "      <td>6</td>\n",
       "      <td>2</td>\n",
       "      <td>1909.0</td>\n",
       "      <td>1448.0</td>\n",
       "      <td>1909.0</td>\n",
       "      <td>2021-01-22 19:23:03</td>\n",
       "    </tr>\n",
       "    <tr>\n",
       "      <th>1</th>\n",
       "      <td>1</td>\n",
       "      <td>292030</td>\n",
       "      <td>The Witcher 3: Wild Hunt</td>\n",
       "      <td>85185250</td>\n",
       "      <td>schinese</td>\n",
       "      <td>拔DIAO无情打桩机--杰洛特!!!</td>\n",
       "      <td>2021-01-23 05:50:30</td>\n",
       "      <td>2021-01-23 05:50:30</td>\n",
       "      <td>True</td>\n",
       "      <td>0</td>\n",
       "      <td>...</td>\n",
       "      <td>True</td>\n",
       "      <td>False</td>\n",
       "      <td>False</td>\n",
       "      <td>76561198949504115</td>\n",
       "      <td>30</td>\n",
       "      <td>10</td>\n",
       "      <td>2764.0</td>\n",
       "      <td>2743.0</td>\n",
       "      <td>2674.0</td>\n",
       "      <td>2021-01-23 07:18:27</td>\n",
       "    </tr>\n",
       "    <tr>\n",
       "      <th>2</th>\n",
       "      <td>2</td>\n",
       "      <td>292030</td>\n",
       "      <td>The Witcher 3: Wild Hunt</td>\n",
       "      <td>85185111</td>\n",
       "      <td>schinese</td>\n",
       "      <td>巫师3NB</td>\n",
       "      <td>2021-01-23 05:46:40</td>\n",
       "      <td>2021-01-23 05:46:40</td>\n",
       "      <td>True</td>\n",
       "      <td>0</td>\n",
       "      <td>...</td>\n",
       "      <td>True</td>\n",
       "      <td>False</td>\n",
       "      <td>False</td>\n",
       "      <td>76561199090098988</td>\n",
       "      <td>5</td>\n",
       "      <td>1</td>\n",
       "      <td>1061.0</td>\n",
       "      <td>1061.0</td>\n",
       "      <td>1060.0</td>\n",
       "      <td>2021-01-23 06:36:17</td>\n",
       "    </tr>\n",
       "    <tr>\n",
       "      <th>3</th>\n",
       "      <td>3</td>\n",
       "      <td>292030</td>\n",
       "      <td>The Witcher 3: Wild Hunt</td>\n",
       "      <td>85184605</td>\n",
       "      <td>english</td>\n",
       "      <td>One of the best RPG's of all time, worthy of a...</td>\n",
       "      <td>2021-01-23 05:32:50</td>\n",
       "      <td>2021-01-23 05:32:50</td>\n",
       "      <td>True</td>\n",
       "      <td>0</td>\n",
       "      <td>...</td>\n",
       "      <td>True</td>\n",
       "      <td>False</td>\n",
       "      <td>False</td>\n",
       "      <td>76561199054755373</td>\n",
       "      <td>5</td>\n",
       "      <td>3</td>\n",
       "      <td>5587.0</td>\n",
       "      <td>3200.0</td>\n",
       "      <td>5524.0</td>\n",
       "      <td>2021-01-23 06:35:44</td>\n",
       "    </tr>\n",
       "    <tr>\n",
       "      <th>4</th>\n",
       "      <td>4</td>\n",
       "      <td>292030</td>\n",
       "      <td>The Witcher 3: Wild Hunt</td>\n",
       "      <td>85184287</td>\n",
       "      <td>schinese</td>\n",
       "      <td>大作</td>\n",
       "      <td>2021-01-23 05:23:47</td>\n",
       "      <td>2021-01-23 05:23:47</td>\n",
       "      <td>True</td>\n",
       "      <td>0</td>\n",
       "      <td>...</td>\n",
       "      <td>True</td>\n",
       "      <td>False</td>\n",
       "      <td>False</td>\n",
       "      <td>76561199028326951</td>\n",
       "      <td>7</td>\n",
       "      <td>4</td>\n",
       "      <td>217.0</td>\n",
       "      <td>42.0</td>\n",
       "      <td>217.0</td>\n",
       "      <td>2021-01-16 09:10:49</td>\n",
       "    </tr>\n",
       "    <tr>\n",
       "      <th>...</th>\n",
       "      <td>...</td>\n",
       "      <td>...</td>\n",
       "      <td>...</td>\n",
       "      <td>...</td>\n",
       "      <td>...</td>\n",
       "      <td>...</td>\n",
       "      <td>...</td>\n",
       "      <td>...</td>\n",
       "      <td>...</td>\n",
       "      <td>...</td>\n",
       "      <td>...</td>\n",
       "      <td>...</td>\n",
       "      <td>...</td>\n",
       "      <td>...</td>\n",
       "      <td>...</td>\n",
       "      <td>...</td>\n",
       "      <td>...</td>\n",
       "      <td>...</td>\n",
       "      <td>...</td>\n",
       "      <td>...</td>\n",
       "      <td>...</td>\n",
       "    </tr>\n",
       "    <tr>\n",
       "      <th>21747366</th>\n",
       "      <td>21747371</td>\n",
       "      <td>546560</td>\n",
       "      <td>Half-Life: Alyx</td>\n",
       "      <td>65645125</td>\n",
       "      <td>english</td>\n",
       "      <td>Holy balls</td>\n",
       "      <td>2020-03-23 18:05:04</td>\n",
       "      <td>2020-03-23 18:05:04</td>\n",
       "      <td>True</td>\n",
       "      <td>0</td>\n",
       "      <td>...</td>\n",
       "      <td>True</td>\n",
       "      <td>False</td>\n",
       "      <td>False</td>\n",
       "      <td>76561197967033932</td>\n",
       "      <td>431</td>\n",
       "      <td>7</td>\n",
       "      <td>432.0</td>\n",
       "      <td>0.0</td>\n",
       "      <td>29.0</td>\n",
       "      <td>2020-04-11 17:56:56</td>\n",
       "    </tr>\n",
       "    <tr>\n",
       "      <th>21747367</th>\n",
       "      <td>21747372</td>\n",
       "      <td>546560</td>\n",
       "      <td>Half-Life: Alyx</td>\n",
       "      <td>65645115</td>\n",
       "      <td>english</td>\n",
       "      <td>A tripod thing bears down on you, it looks imm...</td>\n",
       "      <td>2020-03-23 18:04:53</td>\n",
       "      <td>2020-03-23 18:04:53</td>\n",
       "      <td>True</td>\n",
       "      <td>0</td>\n",
       "      <td>...</td>\n",
       "      <td>False</td>\n",
       "      <td>False</td>\n",
       "      <td>False</td>\n",
       "      <td>76561198046495482</td>\n",
       "      <td>70</td>\n",
       "      <td>10</td>\n",
       "      <td>3296.0</td>\n",
       "      <td>15.0</td>\n",
       "      <td>24.0</td>\n",
       "      <td>2021-01-19 18:17:11</td>\n",
       "    </tr>\n",
       "    <tr>\n",
       "      <th>21747368</th>\n",
       "      <td>21747373</td>\n",
       "      <td>546560</td>\n",
       "      <td>Half-Life: Alyx</td>\n",
       "      <td>65645100</td>\n",
       "      <td>english</td>\n",
       "      <td>Honestly this is the best vr game ever</td>\n",
       "      <td>2020-03-23 18:04:33</td>\n",
       "      <td>2020-03-23 18:04:33</td>\n",
       "      <td>True</td>\n",
       "      <td>0</td>\n",
       "      <td>...</td>\n",
       "      <td>True</td>\n",
       "      <td>False</td>\n",
       "      <td>False</td>\n",
       "      <td>76561198176379749</td>\n",
       "      <td>79</td>\n",
       "      <td>17</td>\n",
       "      <td>2654.0</td>\n",
       "      <td>0.0</td>\n",
       "      <td>34.0</td>\n",
       "      <td>2020-06-08 16:29:13</td>\n",
       "    </tr>\n",
       "    <tr>\n",
       "      <th>21747369</th>\n",
       "      <td>21747374</td>\n",
       "      <td>546560</td>\n",
       "      <td>Half-Life: Alyx</td>\n",
       "      <td>65645066</td>\n",
       "      <td>english</td>\n",
       "      <td>Smooth turning is not working right now.\\nIt a...</td>\n",
       "      <td>2020-03-23 18:03:51</td>\n",
       "      <td>2020-04-08 21:47:02</td>\n",
       "      <td>True</td>\n",
       "      <td>0</td>\n",
       "      <td>...</td>\n",
       "      <td>True</td>\n",
       "      <td>False</td>\n",
       "      <td>False</td>\n",
       "      <td>76561198041763187</td>\n",
       "      <td>140</td>\n",
       "      <td>3</td>\n",
       "      <td>210.0</td>\n",
       "      <td>0.0</td>\n",
       "      <td>12.0</td>\n",
       "      <td>2020-05-17 11:36:55</td>\n",
       "    </tr>\n",
       "    <tr>\n",
       "      <th>21747370</th>\n",
       "      <td>21747375</td>\n",
       "      <td>546560</td>\n",
       "      <td>Half-Life: Alyx</td>\n",
       "      <td>65644930</td>\n",
       "      <td>schinese</td>\n",
       "      <td>WMR加载中闪退，无法进入游戏\\nWMR Flashback in Load，cant pl...</td>\n",
       "      <td>2020-03-23 18:01:45</td>\n",
       "      <td>2020-06-13 15:06:40</td>\n",
       "      <td>True</td>\n",
       "      <td>0</td>\n",
       "      <td>...</td>\n",
       "      <td>True</td>\n",
       "      <td>False</td>\n",
       "      <td>False</td>\n",
       "      <td>76561198116747069</td>\n",
       "      <td>253</td>\n",
       "      <td>7</td>\n",
       "      <td>1062.0</td>\n",
       "      <td>0.0</td>\n",
       "      <td>8.0</td>\n",
       "      <td>2020-10-16 14:12:23</td>\n",
       "    </tr>\n",
       "  </tbody>\n",
       "</table>\n",
       "<p>21687951 rows × 23 columns</p>\n",
       "</div>"
      ],
      "text/plain": [
       "          Unnamed: 0  app_id                  app_name  review_id  language  \\\n",
       "0                  0  292030  The Witcher 3: Wild Hunt   85185598  schinese   \n",
       "1                  1  292030  The Witcher 3: Wild Hunt   85185250  schinese   \n",
       "2                  2  292030  The Witcher 3: Wild Hunt   85185111  schinese   \n",
       "3                  3  292030  The Witcher 3: Wild Hunt   85184605   english   \n",
       "4                  4  292030  The Witcher 3: Wild Hunt   85184287  schinese   \n",
       "...              ...     ...                       ...        ...       ...   \n",
       "21747366    21747371  546560           Half-Life: Alyx   65645125   english   \n",
       "21747367    21747372  546560           Half-Life: Alyx   65645115   english   \n",
       "21747368    21747373  546560           Half-Life: Alyx   65645100   english   \n",
       "21747369    21747374  546560           Half-Life: Alyx   65645066   english   \n",
       "21747370    21747375  546560           Half-Life: Alyx   65644930  schinese   \n",
       "\n",
       "                                                     review  \\\n",
       "0                                   不玩此生遗憾，RPG游戏里的天花板，太吸引人了   \n",
       "1                                        拔DIAO无情打桩机--杰洛特!!!   \n",
       "2                                                     巫师3NB   \n",
       "3         One of the best RPG's of all time, worthy of a...   \n",
       "4                                                        大作   \n",
       "...                                                     ...   \n",
       "21747366                                         Holy balls   \n",
       "21747367  A tripod thing bears down on you, it looks imm...   \n",
       "21747368             Honestly this is the best vr game ever   \n",
       "21747369  Smooth turning is not working right now.\\nIt a...   \n",
       "21747370  WMR加载中闪退，无法进入游戏\\nWMR Flashback in Load，cant pl...   \n",
       "\n",
       "           timestamp_created   timestamp_updated  recommended  votes_helpful  \\\n",
       "0        2021-01-23 06:00:29 2021-01-23 06:00:29         True              0   \n",
       "1        2021-01-23 05:50:30 2021-01-23 05:50:30         True              0   \n",
       "2        2021-01-23 05:46:40 2021-01-23 05:46:40         True              0   \n",
       "3        2021-01-23 05:32:50 2021-01-23 05:32:50         True              0   \n",
       "4        2021-01-23 05:23:47 2021-01-23 05:23:47         True              0   \n",
       "...                      ...                 ...          ...            ...   \n",
       "21747366 2020-03-23 18:05:04 2020-03-23 18:05:04         True              0   \n",
       "21747367 2020-03-23 18:04:53 2020-03-23 18:04:53         True              0   \n",
       "21747368 2020-03-23 18:04:33 2020-03-23 18:04:33         True              0   \n",
       "21747369 2020-03-23 18:03:51 2020-04-08 21:47:02         True              0   \n",
       "21747370 2020-03-23 18:01:45 2020-06-13 15:06:40         True              0   \n",
       "\n",
       "          ...  steam_purchase  received_for_free  written_during_early_access  \\\n",
       "0         ...            True              False                        False   \n",
       "1         ...            True              False                        False   \n",
       "2         ...            True              False                        False   \n",
       "3         ...            True              False                        False   \n",
       "4         ...            True              False                        False   \n",
       "...       ...             ...                ...                          ...   \n",
       "21747366  ...            True              False                        False   \n",
       "21747367  ...           False              False                        False   \n",
       "21747368  ...            True              False                        False   \n",
       "21747369  ...            True              False                        False   \n",
       "21747370  ...            True              False                        False   \n",
       "\n",
       "             author.steamid  author.num_games_owned  author.num_reviews  \\\n",
       "0         76561199095369542                       6                   2   \n",
       "1         76561198949504115                      30                  10   \n",
       "2         76561199090098988                       5                   1   \n",
       "3         76561199054755373                       5                   3   \n",
       "4         76561199028326951                       7                   4   \n",
       "...                     ...                     ...                 ...   \n",
       "21747366  76561197967033932                     431                   7   \n",
       "21747367  76561198046495482                      70                  10   \n",
       "21747368  76561198176379749                      79                  17   \n",
       "21747369  76561198041763187                     140                   3   \n",
       "21747370  76561198116747069                     253                   7   \n",
       "\n",
       "          author.playtime_forever  author.playtime_last_two_weeks  \\\n",
       "0                          1909.0                          1448.0   \n",
       "1                          2764.0                          2743.0   \n",
       "2                          1061.0                          1061.0   \n",
       "3                          5587.0                          3200.0   \n",
       "4                           217.0                            42.0   \n",
       "...                           ...                             ...   \n",
       "21747366                    432.0                             0.0   \n",
       "21747367                   3296.0                            15.0   \n",
       "21747368                   2654.0                             0.0   \n",
       "21747369                    210.0                             0.0   \n",
       "21747370                   1062.0                             0.0   \n",
       "\n",
       "          author.playtime_at_review  author.last_played  \n",
       "0                            1909.0 2021-01-22 19:23:03  \n",
       "1                            2674.0 2021-01-23 07:18:27  \n",
       "2                            1060.0 2021-01-23 06:36:17  \n",
       "3                            5524.0 2021-01-23 06:35:44  \n",
       "4                             217.0 2021-01-16 09:10:49  \n",
       "...                             ...                 ...  \n",
       "21747366                       29.0 2020-04-11 17:56:56  \n",
       "21747367                       24.0 2021-01-19 18:17:11  \n",
       "21747368                       34.0 2020-06-08 16:29:13  \n",
       "21747369                       12.0 2020-05-17 11:36:55  \n",
       "21747370                        8.0 2020-10-16 14:12:23  \n",
       "\n",
       "[21687951 rows x 23 columns]"
      ]
     },
     "execution_count": 9,
     "metadata": {},
     "output_type": "execute_result"
    }
   ],
   "source": [
    "data=data_original.dropna(axis=0)\n",
    "data"
   ]
  },
  {
   "cell_type": "code",
   "execution_count": 10,
   "metadata": {},
   "outputs": [
    {
     "data": {
      "text/plain": [
       "(21687951, 23)"
      ]
     },
     "execution_count": 10,
     "metadata": {},
     "output_type": "execute_result"
    }
   ],
   "source": [
    "data.shape"
   ]
  },
  {
   "cell_type": "markdown",
   "metadata": {},
   "source": [
    "We decided to continue with some UNIVARIATE ANALYSIS.."
   ]
  },
  {
   "cell_type": "markdown",
   "metadata": {},
   "source": [
    "We thought it could be interesting to see how many applications we are talking about, and how many reviewers, and how ,any languages are used we have in this dataset."
   ]
  },
  {
   "cell_type": "code",
   "execution_count": 11,
   "metadata": {},
   "outputs": [
    {
     "name": "stdout",
     "output_type": "stream",
     "text": [
      "315\n"
     ]
    }
   ],
   "source": [
    "print(len(data['app_name'].unique()))"
   ]
  },
  {
   "cell_type": "code",
   "execution_count": 12,
   "metadata": {},
   "outputs": [
    {
     "name": "stdout",
     "output_type": "stream",
     "text": [
      "12381952\n"
     ]
    }
   ],
   "source": [
    "print(len(data['author.steamid'].unique()))"
   ]
  },
  {
   "cell_type": "code",
   "execution_count": 13,
   "metadata": {},
   "outputs": [
    {
     "name": "stdout",
     "output_type": "stream",
     "text": [
      "28\n"
     ]
    }
   ],
   "source": [
    "print(len(data['language'].unique()))"
   ]
  },
  {
   "cell_type": "markdown",
   "metadata": {},
   "source": [
    "We can conclude that in this dataset we have 315 applications that have been reviewed, 12.381.952 reviewers and 28 different languages."
   ]
  },
  {
   "cell_type": "markdown",
   "metadata": {},
   "source": [
    "Further on we create a dataset of the quantitatives features that we believe that it could be helpful to analyze. We apply the function describe to show the most important statistics on thiese values."
   ]
  },
  {
   "cell_type": "code",
   "execution_count": 14,
   "metadata": {},
   "outputs": [
    {
     "data": {
      "text/html": [
       "<div>\n",
       "<style scoped>\n",
       "    .dataframe tbody tr th:only-of-type {\n",
       "        vertical-align: middle;\n",
       "    }\n",
       "\n",
       "    .dataframe tbody tr th {\n",
       "        vertical-align: top;\n",
       "    }\n",
       "\n",
       "    .dataframe thead th {\n",
       "        text-align: right;\n",
       "    }\n",
       "</style>\n",
       "<table border=\"1\" class=\"dataframe\">\n",
       "  <thead>\n",
       "    <tr style=\"text-align: right;\">\n",
       "      <th></th>\n",
       "      <th>votes_helpful</th>\n",
       "      <th>votes_funny</th>\n",
       "      <th>weighted_vote_score</th>\n",
       "      <th>author.num_games_owned</th>\n",
       "      <th>author.num_review</th>\n",
       "      <th>author.playtime_forever</th>\n",
       "      <th>author.playtime_last_two_weeks</th>\n",
       "      <th>author.playtime_at_review</th>\n",
       "    </tr>\n",
       "  </thead>\n",
       "  <tbody>\n",
       "    <tr>\n",
       "      <th>0</th>\n",
       "      <td>0</td>\n",
       "      <td>0</td>\n",
       "      <td>0.000000</td>\n",
       "      <td>6</td>\n",
       "      <td>2</td>\n",
       "      <td>1909.0</td>\n",
       "      <td>1448.0</td>\n",
       "      <td>1909.0</td>\n",
       "    </tr>\n",
       "    <tr>\n",
       "      <th>1</th>\n",
       "      <td>0</td>\n",
       "      <td>0</td>\n",
       "      <td>0.000000</td>\n",
       "      <td>30</td>\n",
       "      <td>10</td>\n",
       "      <td>2764.0</td>\n",
       "      <td>2743.0</td>\n",
       "      <td>2674.0</td>\n",
       "    </tr>\n",
       "    <tr>\n",
       "      <th>2</th>\n",
       "      <td>0</td>\n",
       "      <td>0</td>\n",
       "      <td>0.000000</td>\n",
       "      <td>5</td>\n",
       "      <td>1</td>\n",
       "      <td>1061.0</td>\n",
       "      <td>1061.0</td>\n",
       "      <td>1060.0</td>\n",
       "    </tr>\n",
       "    <tr>\n",
       "      <th>3</th>\n",
       "      <td>0</td>\n",
       "      <td>0</td>\n",
       "      <td>0.000000</td>\n",
       "      <td>5</td>\n",
       "      <td>3</td>\n",
       "      <td>5587.0</td>\n",
       "      <td>3200.0</td>\n",
       "      <td>5524.0</td>\n",
       "    </tr>\n",
       "    <tr>\n",
       "      <th>4</th>\n",
       "      <td>0</td>\n",
       "      <td>0</td>\n",
       "      <td>0.000000</td>\n",
       "      <td>7</td>\n",
       "      <td>4</td>\n",
       "      <td>217.0</td>\n",
       "      <td>42.0</td>\n",
       "      <td>217.0</td>\n",
       "    </tr>\n",
       "    <tr>\n",
       "      <th>...</th>\n",
       "      <td>...</td>\n",
       "      <td>...</td>\n",
       "      <td>...</td>\n",
       "      <td>...</td>\n",
       "      <td>...</td>\n",
       "      <td>...</td>\n",
       "      <td>...</td>\n",
       "      <td>...</td>\n",
       "    </tr>\n",
       "    <tr>\n",
       "      <th>21747366</th>\n",
       "      <td>0</td>\n",
       "      <td>0</td>\n",
       "      <td>0.000000</td>\n",
       "      <td>431</td>\n",
       "      <td>7</td>\n",
       "      <td>432.0</td>\n",
       "      <td>0.0</td>\n",
       "      <td>29.0</td>\n",
       "    </tr>\n",
       "    <tr>\n",
       "      <th>21747367</th>\n",
       "      <td>0</td>\n",
       "      <td>0</td>\n",
       "      <td>0.000000</td>\n",
       "      <td>70</td>\n",
       "      <td>10</td>\n",
       "      <td>3296.0</td>\n",
       "      <td>15.0</td>\n",
       "      <td>24.0</td>\n",
       "    </tr>\n",
       "    <tr>\n",
       "      <th>21747368</th>\n",
       "      <td>0</td>\n",
       "      <td>0</td>\n",
       "      <td>0.474138</td>\n",
       "      <td>79</td>\n",
       "      <td>17</td>\n",
       "      <td>2654.0</td>\n",
       "      <td>0.0</td>\n",
       "      <td>34.0</td>\n",
       "    </tr>\n",
       "    <tr>\n",
       "      <th>21747369</th>\n",
       "      <td>0</td>\n",
       "      <td>0</td>\n",
       "      <td>0.386022</td>\n",
       "      <td>140</td>\n",
       "      <td>3</td>\n",
       "      <td>210.0</td>\n",
       "      <td>0.0</td>\n",
       "      <td>12.0</td>\n",
       "    </tr>\n",
       "    <tr>\n",
       "      <th>21747370</th>\n",
       "      <td>0</td>\n",
       "      <td>0</td>\n",
       "      <td>0.416107</td>\n",
       "      <td>253</td>\n",
       "      <td>7</td>\n",
       "      <td>1062.0</td>\n",
       "      <td>0.0</td>\n",
       "      <td>8.0</td>\n",
       "    </tr>\n",
       "  </tbody>\n",
       "</table>\n",
       "<p>21687951 rows × 8 columns</p>\n",
       "</div>"
      ],
      "text/plain": [
       "          votes_helpful  votes_funny  weighted_vote_score  \\\n",
       "0                     0            0             0.000000   \n",
       "1                     0            0             0.000000   \n",
       "2                     0            0             0.000000   \n",
       "3                     0            0             0.000000   \n",
       "4                     0            0             0.000000   \n",
       "...                 ...          ...                  ...   \n",
       "21747366              0            0             0.000000   \n",
       "21747367              0            0             0.000000   \n",
       "21747368              0            0             0.474138   \n",
       "21747369              0            0             0.386022   \n",
       "21747370              0            0             0.416107   \n",
       "\n",
       "          author.num_games_owned  author.num_review  author.playtime_forever  \\\n",
       "0                              6                  2                   1909.0   \n",
       "1                             30                 10                   2764.0   \n",
       "2                              5                  1                   1061.0   \n",
       "3                              5                  3                   5587.0   \n",
       "4                              7                  4                    217.0   \n",
       "...                          ...                ...                      ...   \n",
       "21747366                     431                  7                    432.0   \n",
       "21747367                      70                 10                   3296.0   \n",
       "21747368                      79                 17                   2654.0   \n",
       "21747369                     140                  3                    210.0   \n",
       "21747370                     253                  7                   1062.0   \n",
       "\n",
       "          author.playtime_last_two_weeks  author.playtime_at_review  \n",
       "0                                 1448.0                     1909.0  \n",
       "1                                 2743.0                     2674.0  \n",
       "2                                 1061.0                     1060.0  \n",
       "3                                 3200.0                     5524.0  \n",
       "4                                   42.0                      217.0  \n",
       "...                                  ...                        ...  \n",
       "21747366                             0.0                       29.0  \n",
       "21747367                            15.0                       24.0  \n",
       "21747368                             0.0                       34.0  \n",
       "21747369                             0.0                       12.0  \n",
       "21747370                             0.0                        8.0  \n",
       "\n",
       "[21687951 rows x 8 columns]"
      ]
     },
     "execution_count": 14,
     "metadata": {},
     "output_type": "execute_result"
    }
   ],
   "source": [
    "df_quant=pd.DataFrame(columns=['votes_helpful','votes_funny','weighted_vote_score', 'author.num_games_owned',\n",
    "                               'author.num_review','author.playtime_forever','author.playtime_last_two_weeks',\n",
    "                               'author.playtime_at_review'])\n",
    "df_quant['votes_helpful']=data['votes_helpful']\n",
    "df_quant['votes_funny']=data['votes_funny']\n",
    "df_quant['weighted_vote_score']=data['weighted_vote_score']\n",
    "df_quant['author.num_games_owned']=data['author.num_games_owned']\n",
    "df_quant['author.num_review']=data['author.num_reviews']\n",
    "df_quant['author.playtime_forever']=data['author.playtime_forever']\n",
    "df_quant['author.playtime_last_two_weeks']=data['author.playtime_last_two_weeks']\n",
    "df_quant['author.playtime_at_review']=data['author.playtime_at_review']\n",
    "df_quant"
   ]
  },
  {
   "cell_type": "code",
   "execution_count": 15,
   "metadata": {},
   "outputs": [],
   "source": [
    "pd.set_option('float_format', '{:f}'.format)"
   ]
  },
  {
   "cell_type": "code",
   "execution_count": 16,
   "metadata": {},
   "outputs": [
    {
     "data": {
      "text/html": [
       "<div>\n",
       "<style scoped>\n",
       "    .dataframe tbody tr th:only-of-type {\n",
       "        vertical-align: middle;\n",
       "    }\n",
       "\n",
       "    .dataframe tbody tr th {\n",
       "        vertical-align: top;\n",
       "    }\n",
       "\n",
       "    .dataframe thead th {\n",
       "        text-align: right;\n",
       "    }\n",
       "</style>\n",
       "<table border=\"1\" class=\"dataframe\">\n",
       "  <thead>\n",
       "    <tr style=\"text-align: right;\">\n",
       "      <th></th>\n",
       "      <th>votes_helpful</th>\n",
       "      <th>votes_funny</th>\n",
       "      <th>weighted_vote_score</th>\n",
       "      <th>author.num_games_owned</th>\n",
       "      <th>author.num_review</th>\n",
       "      <th>author.playtime_forever</th>\n",
       "      <th>author.playtime_last_two_weeks</th>\n",
       "      <th>author.playtime_at_review</th>\n",
       "    </tr>\n",
       "  </thead>\n",
       "  <tbody>\n",
       "    <tr>\n",
       "      <th>count</th>\n",
       "      <td>21687951.000000</td>\n",
       "      <td>21687951.000000</td>\n",
       "      <td>21687951.000000</td>\n",
       "      <td>21687951.000000</td>\n",
       "      <td>21687951.000000</td>\n",
       "      <td>21687951.000000</td>\n",
       "      <td>21687951.000000</td>\n",
       "      <td>21687951.000000</td>\n",
       "    </tr>\n",
       "    <tr>\n",
       "      <th>mean</th>\n",
       "      <td>405577.004896</td>\n",
       "      <td>126743.035390</td>\n",
       "      <td>0.165526</td>\n",
       "      <td>1014070.486105</td>\n",
       "      <td>405585.624578</td>\n",
       "      <td>16110.456605</td>\n",
       "      <td>155.589391</td>\n",
       "      <td>8809.662749</td>\n",
       "    </tr>\n",
       "    <tr>\n",
       "      <th>std</th>\n",
       "      <td>1335566582.515957</td>\n",
       "      <td>23331044.843658</td>\n",
       "      <td>0.243449</td>\n",
       "      <td>2111716038.531129</td>\n",
       "      <td>1335566582.671088</td>\n",
       "      <td>37454.278118</td>\n",
       "      <td>730.109973</td>\n",
       "      <td>23892.158280</td>\n",
       "    </tr>\n",
       "    <tr>\n",
       "      <th>min</th>\n",
       "      <td>0.000000</td>\n",
       "      <td>0.000000</td>\n",
       "      <td>0.000000</td>\n",
       "      <td>0.000000</td>\n",
       "      <td>1.000000</td>\n",
       "      <td>0.000000</td>\n",
       "      <td>0.000000</td>\n",
       "      <td>1.000000</td>\n",
       "    </tr>\n",
       "    <tr>\n",
       "      <th>25%</th>\n",
       "      <td>0.000000</td>\n",
       "      <td>0.000000</td>\n",
       "      <td>0.000000</td>\n",
       "      <td>22.000000</td>\n",
       "      <td>2.000000</td>\n",
       "      <td>1253.000000</td>\n",
       "      <td>0.000000</td>\n",
       "      <td>559.000000</td>\n",
       "    </tr>\n",
       "    <tr>\n",
       "      <th>50%</th>\n",
       "      <td>0.000000</td>\n",
       "      <td>0.000000</td>\n",
       "      <td>0.000000</td>\n",
       "      <td>61.000000</td>\n",
       "      <td>4.000000</td>\n",
       "      <td>4315.000000</td>\n",
       "      <td>0.000000</td>\n",
       "      <td>1881.000000</td>\n",
       "    </tr>\n",
       "    <tr>\n",
       "      <th>75%</th>\n",
       "      <td>1.000000</td>\n",
       "      <td>0.000000</td>\n",
       "      <td>0.482914</td>\n",
       "      <td>146.000000</td>\n",
       "      <td>10.000000</td>\n",
       "      <td>14938.000000</td>\n",
       "      <td>0.000000</td>\n",
       "      <td>6825.000000</td>\n",
       "    </tr>\n",
       "    <tr>\n",
       "      <th>max</th>\n",
       "      <td>4398046511106.000000</td>\n",
       "      <td>4294967295.000000</td>\n",
       "      <td>0.995987</td>\n",
       "      <td>4398046511619.000000</td>\n",
       "      <td>4398046511108.000000</td>\n",
       "      <td>3744943.000000</td>\n",
       "      <td>27039.000000</td>\n",
       "      <td>3228103.000000</td>\n",
       "    </tr>\n",
       "  </tbody>\n",
       "</table>\n",
       "</div>"
      ],
      "text/plain": [
       "             votes_helpful       votes_funny  weighted_vote_score  \\\n",
       "count      21687951.000000   21687951.000000      21687951.000000   \n",
       "mean         405577.004896     126743.035390             0.165526   \n",
       "std      1335566582.515957   23331044.843658             0.243449   \n",
       "min               0.000000          0.000000             0.000000   \n",
       "25%               0.000000          0.000000             0.000000   \n",
       "50%               0.000000          0.000000             0.000000   \n",
       "75%               1.000000          0.000000             0.482914   \n",
       "max   4398046511106.000000 4294967295.000000             0.995987   \n",
       "\n",
       "       author.num_games_owned    author.num_review  author.playtime_forever  \\\n",
       "count         21687951.000000      21687951.000000          21687951.000000   \n",
       "mean           1014070.486105        405585.624578             16110.456605   \n",
       "std         2111716038.531129    1335566582.671088             37454.278118   \n",
       "min                  0.000000             1.000000                 0.000000   \n",
       "25%                 22.000000             2.000000              1253.000000   \n",
       "50%                 61.000000             4.000000              4315.000000   \n",
       "75%                146.000000            10.000000             14938.000000   \n",
       "max      4398046511619.000000 4398046511108.000000           3744943.000000   \n",
       "\n",
       "       author.playtime_last_two_weeks  author.playtime_at_review  \n",
       "count                 21687951.000000            21687951.000000  \n",
       "mean                       155.589391                8809.662749  \n",
       "std                        730.109973               23892.158280  \n",
       "min                          0.000000                   1.000000  \n",
       "25%                          0.000000                 559.000000  \n",
       "50%                          0.000000                1881.000000  \n",
       "75%                          0.000000                6825.000000  \n",
       "max                      27039.000000             3228103.000000  "
      ]
     },
     "execution_count": 16,
     "metadata": {},
     "output_type": "execute_result"
    }
   ],
   "source": [
    "df_quant.describe()"
   ]
  },
  {
   "cell_type": "markdown",
   "metadata": {},
   "source": [
    "From the output we see that all the variables have a strange value for the maximum. "
   ]
  },
  {
   "cell_type": "markdown",
   "metadata": {},
   "source": [
    "We continue our Exploratory Data Analysis by showing some of the distribution of the variables, that we consider important. "
   ]
  },
  {
   "cell_type": "code",
   "execution_count": 17,
   "metadata": {},
   "outputs": [
    {
     "data": {
      "text/plain": [
       "<matplotlib.axes._subplots.AxesSubplot at 0x7fdbf0aa7c40>"
      ]
     },
     "execution_count": 17,
     "metadata": {},
     "output_type": "execute_result"
    },
    {
     "data": {
      "image/png": "[encoded data removed]",
      "text/plain": [
       "<Figure size 432x288 with 1 Axes>"
      ]
     },
     "metadata": {
      "needs_background": "light"
     },
     "output_type": "display_data"
    }
   ],
   "source": [
    "#let see the distribution of variables\n",
    "sns.distplot(data['weighted_vote_score'])"
   ]
  },
  {
   "cell_type": "markdown",
   "metadata": {},
   "source": [
    "The plot above shows the distriburion of the feature *weighted vote score*. We can say that most of the time this feature has value 0; and that some other frequent values that it assumes are between 0.4 and 0.6, with a point in 0.5. This is in line with what the feature *weighted vote score* is. "
   ]
  },
  {
   "cell_type": "markdown",
   "metadata": {},
   "source": [
    "Now, we would like to see how many apps have been purchased on steam, and how many have been purchased."
   ]
  },
  {
   "cell_type": "code",
   "execution_count": 18,
   "metadata": {},
   "outputs": [
    {
     "data": {
      "text/html": [
       "<div>\n",
       "<style scoped>\n",
       "    .dataframe tbody tr th:only-of-type {\n",
       "        vertical-align: middle;\n",
       "    }\n",
       "\n",
       "    .dataframe tbody tr th {\n",
       "        vertical-align: top;\n",
       "    }\n",
       "\n",
       "    .dataframe thead th {\n",
       "        text-align: right;\n",
       "    }\n",
       "</style>\n",
       "<table border=\"1\" class=\"dataframe\">\n",
       "  <thead>\n",
       "    <tr style=\"text-align: right;\">\n",
       "      <th></th>\n",
       "      <th>steam_purchase</th>\n",
       "      <th>received_free</th>\n",
       "    </tr>\n",
       "  </thead>\n",
       "  <tbody>\n",
       "    <tr>\n",
       "      <th>0</th>\n",
       "      <td>True</td>\n",
       "      <td>False</td>\n",
       "    </tr>\n",
       "    <tr>\n",
       "      <th>1</th>\n",
       "      <td>True</td>\n",
       "      <td>False</td>\n",
       "    </tr>\n",
       "    <tr>\n",
       "      <th>2</th>\n",
       "      <td>True</td>\n",
       "      <td>False</td>\n",
       "    </tr>\n",
       "    <tr>\n",
       "      <th>3</th>\n",
       "      <td>True</td>\n",
       "      <td>False</td>\n",
       "    </tr>\n",
       "    <tr>\n",
       "      <th>4</th>\n",
       "      <td>True</td>\n",
       "      <td>False</td>\n",
       "    </tr>\n",
       "    <tr>\n",
       "      <th>...</th>\n",
       "      <td>...</td>\n",
       "      <td>...</td>\n",
       "    </tr>\n",
       "    <tr>\n",
       "      <th>21747366</th>\n",
       "      <td>True</td>\n",
       "      <td>False</td>\n",
       "    </tr>\n",
       "    <tr>\n",
       "      <th>21747367</th>\n",
       "      <td>False</td>\n",
       "      <td>False</td>\n",
       "    </tr>\n",
       "    <tr>\n",
       "      <th>21747368</th>\n",
       "      <td>True</td>\n",
       "      <td>False</td>\n",
       "    </tr>\n",
       "    <tr>\n",
       "      <th>21747369</th>\n",
       "      <td>True</td>\n",
       "      <td>False</td>\n",
       "    </tr>\n",
       "    <tr>\n",
       "      <th>21747370</th>\n",
       "      <td>True</td>\n",
       "      <td>False</td>\n",
       "    </tr>\n",
       "  </tbody>\n",
       "</table>\n",
       "<p>21687951 rows × 2 columns</p>\n",
       "</div>"
      ],
      "text/plain": [
       "          steam_purchase  received_free\n",
       "0                   True          False\n",
       "1                   True          False\n",
       "2                   True          False\n",
       "3                   True          False\n",
       "4                   True          False\n",
       "...                  ...            ...\n",
       "21747366            True          False\n",
       "21747367           False          False\n",
       "21747368            True          False\n",
       "21747369            True          False\n",
       "21747370            True          False\n",
       "\n",
       "[21687951 rows x 2 columns]"
      ]
     },
     "execution_count": 18,
     "metadata": {},
     "output_type": "execute_result"
    }
   ],
   "source": [
    "plot_df_apps=pd.DataFrame(columns= ['steam_purchase', 'received_free'])\n",
    "plot_df_apps['steam_purchase']=data['steam_purchase']\n",
    "plot_df_apps['received_free']=data['received_for_free']\n",
    "plot_df_apps"
   ]
  },
  {
   "cell_type": "code",
   "execution_count": 19,
   "metadata": {},
   "outputs": [
    {
     "data": {
      "text/plain": [
       "<matplotlib.axes._subplots.AxesSubplot at 0x7fdbecb849a0>"
      ]
     },
     "execution_count": 19,
     "metadata": {},
     "output_type": "execute_result"
    },
    {
     "data": {
      "image/png": "[encoded data removed]",
      "text/plain": [
       "<Figure size 720x720 with 2 Axes>"
      ]
     },
     "metadata": {
      "needs_background": "light"
     },
     "output_type": "display_data"
    }
   ],
   "source": [
    "fig_app = plt.figure(figsize=(10,10)) \n",
    "fig_dims = (3, 2)\n",
    "\n",
    "# Plot accidents depending on type\n",
    "plt.subplot2grid(fig_dims, (0, 0))\n",
    "plot_df_apps['steam_purchase'].value_counts().plot(kind='bar', \n",
    "                                             title='Purchased on steam')\n",
    "plt.subplot2grid(fig_dims, (0, 1))\n",
    "plot_df_apps['received_free'].value_counts().plot(kind='bar', \n",
    "                                             title='Received for free')\n"
   ]
  },
  {
   "cell_type": "code",
   "execution_count": 22,
   "metadata": {},
   "outputs": [
    {
     "data": {
      "text/plain": [
       "<Figure size 432x288 with 0 Axes>"
      ]
     },
     "metadata": {},
     "output_type": "display_data"
    },
    {
     "data": {
      "image/png": "[encoded data removed]",
      "text/plain": [
       "<Figure size 1224x576 with 3 Axes>"
      ]
     },
     "metadata": {
      "needs_background": "light"
     },
     "output_type": "display_data"
    }
   ],
   "source": [
    "recomm_amount = data[\"recommended\"].value_counts()\n",
    "recomm_amount = recomm_amount/sum(recomm_amount)\n",
    "\n",
    "\n",
    "helpful=data[\"votes_helpful\"].value_counts()\n",
    "my_bins=[0,1,2,10,50,max(helpful)]\n",
    "out=pd.cut(data[\"votes_helpful\"],bins=my_bins,include_lowest=True)\n",
    "ax=out.value_counts(sort=False)\n",
    "ax=ax/sum(ax)\n",
    "#print(ax)\n",
    "\n",
    "funny=data[\"votes_funny\"].value_counts()\n",
    "my_bins=[0,1,2,10,50,max(funny)]\n",
    "out2=pd.cut(data[\"votes_funny\"],bins=my_bins,include_lowest=True)\n",
    "bx=out2.value_counts(sort=False)\n",
    "bx=bx/sum(bx)\n",
    "#print(bx)\n",
    "\n",
    "\n",
    "\n",
    "plt.figure()\n",
    "fig=plt.figure(figsize=(17,8))\n",
    "plt.subplot(131)\n",
    "recomm_amount.plot.bar(\n",
    "    title='Recommended',\n",
    "ylabel='Percentage',)\n",
    "plt.yticks(np.arange(0,1,0.1))\n",
    "plt.xticks([0,1],['Yes','No'])\n",
    "\n",
    "plt.subplot(132)\n",
    "ax.plot.bar(title=\"Votes_helpful\",ylabel='Percentage')\n",
    "plt.xticks([0,1,2,3,4,5],['0','1','2','3-10','11-50','>50'])\n",
    "plt.yticks(np.arange(0,1,0.1))\n",
    "\n",
    "plt.subplot(133)\n",
    "bx.plot.bar(title=\"Votes_funny\",ylabel='Percentage')\n",
    "plt.xticks([0,1,2,3,4,5],['0','1','2','3-10','11-50','>50'])\n",
    "plt.yticks(np.arange(0,1,0.1))\n",
    "\n",
    "plt.show()"
   ]
  },
  {
   "cell_type": "markdown",
   "metadata": {},
   "source": [
    "It could also be interesting to study the behaviour of the authors regarding the update of their reviews. We compute the time it passes between the creation and the update of a review and analyze the most important statistics.  "
   ]
  },
  {
   "cell_type": "code",
   "execution_count": 23,
   "metadata": {},
   "outputs": [
    {
     "data": {
      "text/plain": [
       "0           0 days 00:00:00\n",
       "1           0 days 00:00:00\n",
       "2           0 days 00:00:00\n",
       "3           0 days 00:00:00\n",
       "4           0 days 00:00:00\n",
       "                 ...       \n",
       "21747366    0 days 00:00:00\n",
       "21747367    0 days 00:00:00\n",
       "21747368    0 days 00:00:00\n",
       "21747369   16 days 03:43:11\n",
       "21747370   81 days 21:04:55\n",
       "Length: 21687951, dtype: timedelta64[ns]"
      ]
     },
     "execution_count": 23,
     "metadata": {},
     "output_type": "execute_result"
    }
   ],
   "source": [
    "duration=data['timestamp_updated']-data['timestamp_created']\n",
    "duration"
   ]
  },
  {
   "cell_type": "code",
   "execution_count": 24,
   "metadata": {},
   "outputs": [
    {
     "data": {
      "text/plain": [
       "count                       21687951\n",
       "mean      36 days 04:59:57.478384160\n",
       "std      179 days 04:45:07.656314762\n",
       "min                -1 days +23:59:56\n",
       "25%                  0 days 00:00:00\n",
       "50%                  0 days 00:00:00\n",
       "75%                  0 days 00:00:00\n",
       "max               8069 days 20:08:16\n",
       "dtype: object"
      ]
     },
     "execution_count": 24,
     "metadata": {},
     "output_type": "execute_result"
    }
   ],
   "source": [
    "duration.describe()"
   ]
  },
  {
   "cell_type": "markdown",
   "metadata": {},
   "source": [
    "By analyzing the basic statistics we observe that most of the values is 0, since the third quantile is 0. This means that most of the time the review written in first place will not be updated. "
   ]
  },
  {
   "cell_type": "markdown",
   "metadata": {},
   "source": [
    "Our Exploratory Data Analysis continues with BIVARIATE ANALYSIS. The aim of this is to check if there are relationships between some features and their behaviour."
   ]
  },
  {
   "cell_type": "code",
   "execution_count": 25,
   "metadata": {
    "tags": []
   },
   "outputs": [],
   "source": [
    "playtime_review=data['author.playtime_at_review']\n",
    "wvs=data['weighted_vote_score']\n",
    "playtime_twoweeks=data['author.playtime_last_two_weeks']\n",
    "playtime_ever=data['author.playtime_forever']"
   ]
  },
  {
   "cell_type": "code",
   "execution_count": 26,
   "metadata": {},
   "outputs": [
    {
     "data": {
      "text/html": [
       "<div>\n",
       "<style scoped>\n",
       "    .dataframe tbody tr th:only-of-type {\n",
       "        vertical-align: middle;\n",
       "    }\n",
       "\n",
       "    .dataframe tbody tr th {\n",
       "        vertical-align: top;\n",
       "    }\n",
       "\n",
       "    .dataframe thead th {\n",
       "        text-align: right;\n",
       "    }\n",
       "</style>\n",
       "<table border=\"1\" class=\"dataframe\">\n",
       "  <thead>\n",
       "    <tr style=\"text-align: right;\">\n",
       "      <th></th>\n",
       "      <th>playtime_review</th>\n",
       "      <th>wvs</th>\n",
       "      <th>playtime_twoweeks</th>\n",
       "      <th>playtime_ever</th>\n",
       "    </tr>\n",
       "  </thead>\n",
       "  <tbody>\n",
       "    <tr>\n",
       "      <th>0</th>\n",
       "      <td>1909.000000</td>\n",
       "      <td>0.000000</td>\n",
       "      <td>1448.000000</td>\n",
       "      <td>1909.000000</td>\n",
       "    </tr>\n",
       "    <tr>\n",
       "      <th>1</th>\n",
       "      <td>2674.000000</td>\n",
       "      <td>0.000000</td>\n",
       "      <td>2743.000000</td>\n",
       "      <td>2764.000000</td>\n",
       "    </tr>\n",
       "    <tr>\n",
       "      <th>2</th>\n",
       "      <td>1060.000000</td>\n",
       "      <td>0.000000</td>\n",
       "      <td>1061.000000</td>\n",
       "      <td>1061.000000</td>\n",
       "    </tr>\n",
       "    <tr>\n",
       "      <th>3</th>\n",
       "      <td>5524.000000</td>\n",
       "      <td>0.000000</td>\n",
       "      <td>3200.000000</td>\n",
       "      <td>5587.000000</td>\n",
       "    </tr>\n",
       "    <tr>\n",
       "      <th>4</th>\n",
       "      <td>217.000000</td>\n",
       "      <td>0.000000</td>\n",
       "      <td>42.000000</td>\n",
       "      <td>217.000000</td>\n",
       "    </tr>\n",
       "    <tr>\n",
       "      <th>...</th>\n",
       "      <td>...</td>\n",
       "      <td>...</td>\n",
       "      <td>...</td>\n",
       "      <td>...</td>\n",
       "    </tr>\n",
       "    <tr>\n",
       "      <th>21747366</th>\n",
       "      <td>29.000000</td>\n",
       "      <td>0.000000</td>\n",
       "      <td>0.000000</td>\n",
       "      <td>432.000000</td>\n",
       "    </tr>\n",
       "    <tr>\n",
       "      <th>21747367</th>\n",
       "      <td>24.000000</td>\n",
       "      <td>0.000000</td>\n",
       "      <td>15.000000</td>\n",
       "      <td>3296.000000</td>\n",
       "    </tr>\n",
       "    <tr>\n",
       "      <th>21747368</th>\n",
       "      <td>34.000000</td>\n",
       "      <td>0.474138</td>\n",
       "      <td>0.000000</td>\n",
       "      <td>2654.000000</td>\n",
       "    </tr>\n",
       "    <tr>\n",
       "      <th>21747369</th>\n",
       "      <td>12.000000</td>\n",
       "      <td>0.386022</td>\n",
       "      <td>0.000000</td>\n",
       "      <td>210.000000</td>\n",
       "    </tr>\n",
       "    <tr>\n",
       "      <th>21747370</th>\n",
       "      <td>8.000000</td>\n",
       "      <td>0.416107</td>\n",
       "      <td>0.000000</td>\n",
       "      <td>1062.000000</td>\n",
       "    </tr>\n",
       "  </tbody>\n",
       "</table>\n",
       "<p>21687951 rows × 4 columns</p>\n",
       "</div>"
      ],
      "text/plain": [
       "          playtime_review      wvs  playtime_twoweeks  playtime_ever\n",
       "0             1909.000000 0.000000        1448.000000    1909.000000\n",
       "1             2674.000000 0.000000        2743.000000    2764.000000\n",
       "2             1060.000000 0.000000        1061.000000    1061.000000\n",
       "3             5524.000000 0.000000        3200.000000    5587.000000\n",
       "4              217.000000 0.000000          42.000000     217.000000\n",
       "...                   ...      ...                ...            ...\n",
       "21747366        29.000000 0.000000           0.000000     432.000000\n",
       "21747367        24.000000 0.000000          15.000000    3296.000000\n",
       "21747368        34.000000 0.474138           0.000000    2654.000000\n",
       "21747369        12.000000 0.386022           0.000000     210.000000\n",
       "21747370         8.000000 0.416107           0.000000    1062.000000\n",
       "\n",
       "[21687951 rows x 4 columns]"
      ]
     },
     "execution_count": 26,
     "metadata": {},
     "output_type": "execute_result"
    }
   ],
   "source": [
    "play_wvs=pd.DataFrame(columns=['playtime_review','wvs', 'playtime_twoweeks', 'playtime_ever'])\n",
    "play_wvs['playtime_review']=playtime_review\n",
    "play_wvs['wvs']=wvs\n",
    "play_wvs['playtime_twoweeks']=playtime_twoweeks\n",
    "play_wvs['playtime_ever']=playtime_ever\n",
    "play_wvs\n"
   ]
  },
  {
   "cell_type": "code",
   "execution_count": 27,
   "metadata": {},
   "outputs": [
    {
     "data": {
      "text/html": [
       "<div>\n",
       "<style scoped>\n",
       "    .dataframe tbody tr th:only-of-type {\n",
       "        vertical-align: middle;\n",
       "    }\n",
       "\n",
       "    .dataframe tbody tr th {\n",
       "        vertical-align: top;\n",
       "    }\n",
       "\n",
       "    .dataframe thead th {\n",
       "        text-align: right;\n",
       "    }\n",
       "</style>\n",
       "<table border=\"1\" class=\"dataframe\">\n",
       "  <thead>\n",
       "    <tr style=\"text-align: right;\">\n",
       "      <th></th>\n",
       "      <th>playtime_review</th>\n",
       "      <th>wvs</th>\n",
       "      <th>playtime_twoweeks</th>\n",
       "      <th>playtime_ever</th>\n",
       "    </tr>\n",
       "  </thead>\n",
       "  <tbody>\n",
       "    <tr>\n",
       "      <th>playtime_review</th>\n",
       "      <td>1.000000</td>\n",
       "      <td>0.009896</td>\n",
       "      <td>0.246081</td>\n",
       "      <td>0.833586</td>\n",
       "    </tr>\n",
       "    <tr>\n",
       "      <th>wvs</th>\n",
       "      <td>0.009896</td>\n",
       "      <td>1.000000</td>\n",
       "      <td>-0.022257</td>\n",
       "      <td>0.046574</td>\n",
       "    </tr>\n",
       "    <tr>\n",
       "      <th>playtime_twoweeks</th>\n",
       "      <td>0.246081</td>\n",
       "      <td>-0.022257</td>\n",
       "      <td>1.000000</td>\n",
       "      <td>0.357940</td>\n",
       "    </tr>\n",
       "    <tr>\n",
       "      <th>playtime_ever</th>\n",
       "      <td>0.833586</td>\n",
       "      <td>0.046574</td>\n",
       "      <td>0.357940</td>\n",
       "      <td>1.000000</td>\n",
       "    </tr>\n",
       "  </tbody>\n",
       "</table>\n",
       "</div>"
      ],
      "text/plain": [
       "                   playtime_review       wvs  playtime_twoweeks  playtime_ever\n",
       "playtime_review           1.000000  0.009896           0.246081       0.833586\n",
       "wvs                       0.009896  1.000000          -0.022257       0.046574\n",
       "playtime_twoweeks         0.246081 -0.022257           1.000000       0.357940\n",
       "playtime_ever             0.833586  0.046574           0.357940       1.000000"
      ]
     },
     "execution_count": 27,
     "metadata": {},
     "output_type": "execute_result"
    }
   ],
   "source": [
    "play_wvs_corr=play_wvs.corr()\n",
    "play_wvs_corr"
   ]
  },
  {
   "cell_type": "code",
   "execution_count": 28,
   "metadata": {},
   "outputs": [
    {
     "data": {
      "text/plain": [
       "<matplotlib.axes._subplots.AxesSubplot at 0x7fdbeadc1fd0>"
      ]
     },
     "execution_count": 28,
     "metadata": {},
     "output_type": "execute_result"
    },
    {
     "data": {
      "image/png": "[encoded data removed]",
      "text/plain": [
       "<Figure size 432x288 with 2 Axes>"
      ]
     },
     "metadata": {
      "needs_background": "light"
     },
     "output_type": "display_data"
    }
   ],
   "source": [
    "sns.heatmap(play_wvs_corr)"
   ]
  },
  {
   "cell_type": "markdown",
   "metadata": {},
   "source": [
    "We thought it would be interesting to analyze the relationship between the playtime of the author and the *weighted vote score*. In this heat map we can see that there is a high correlation between the *playtime_ever* (so the time each author spent playing at the game) and the *playtime_review* which is the amount of time the author played at the game before writing the review. This could be interpret as the fact that most of the authors just play at the game for the purpose of writing the review.\n",
    "\n",
    "Another fact to highlight is the negative correlation between *playtime_twoweeks* and the *weighted vote score*; in general from this heatmap we can affirm that there is no correlation between the time spent by the author playing the game and the weighted vote score."
   ]
  },
  {
   "cell_type": "markdown",
   "metadata": {},
   "source": [
    "### RQ 2 - Let's explore the dataset by finding simple insights into the reviews."
   ]
  },
  {
   "cell_type": "markdown",
   "metadata": {},
   "source": [
    "#### RQ 2.1 - NUMBER OF REVIEWS FOR EACH APP"
   ]
  },
  {
   "cell_type": "code",
   "execution_count": 29,
   "metadata": {},
   "outputs": [],
   "source": [
    "n_reviews_per_app=data['app_name'].value_counts()"
   ]
  },
  {
   "cell_type": "code",
   "execution_count": 30,
   "metadata": {},
   "outputs": [
    {
     "data": {
      "text/plain": [
       "<matplotlib.axes._subplots.AxesSubplot at 0x7fdc914790d0>"
      ]
     },
     "execution_count": 30,
     "metadata": {},
     "output_type": "execute_result"
    },
    {
     "name": "stderr",
     "output_type": "stream",
     "text": [
      "/Users/camilla/opt/anaconda3/lib/python3.8/site-packages/matplotlib/backends/backend_agg.py:214: RuntimeWarning: Glyph 19977 missing from current font.\n",
      "  font.set_text(s, 0.0, flags=flags)\n",
      "/Users/camilla/opt/anaconda3/lib/python3.8/site-packages/matplotlib/backends/backend_agg.py:214: RuntimeWarning: Glyph 22269 missing from current font.\n",
      "  font.set_text(s, 0.0, flags=flags)\n",
      "/Users/camilla/opt/anaconda3/lib/python3.8/site-packages/matplotlib/backends/backend_agg.py:214: RuntimeWarning: Glyph 32676 missing from current font.\n",
      "  font.set_text(s, 0.0, flags=flags)\n",
      "/Users/camilla/opt/anaconda3/lib/python3.8/site-packages/matplotlib/backends/backend_agg.py:214: RuntimeWarning: Glyph 33521 missing from current font.\n",
      "  font.set_text(s, 0.0, flags=flags)\n",
      "/Users/camilla/opt/anaconda3/lib/python3.8/site-packages/matplotlib/backends/backend_agg.py:214: RuntimeWarning: Glyph 20256 missing from current font.\n",
      "  font.set_text(s, 0.0, flags=flags)\n",
      "/Users/camilla/opt/anaconda3/lib/python3.8/site-packages/matplotlib/backends/backend_agg.py:214: RuntimeWarning: Glyph 65290 missing from current font.\n",
      "  font.set_text(s, 0.0, flags=flags)\n",
      "/Users/camilla/opt/anaconda3/lib/python3.8/site-packages/matplotlib/backends/backend_agg.py:214: RuntimeWarning: Glyph 40857 missing from current font.\n",
      "  font.set_text(s, 0.0, flags=flags)\n",
      "/Users/camilla/opt/anaconda3/lib/python3.8/site-packages/matplotlib/backends/backend_agg.py:214: RuntimeWarning: Glyph 23830 missing from current font.\n",
      "  font.set_text(s, 0.0, flags=flags)\n",
      "/Users/camilla/opt/anaconda3/lib/python3.8/site-packages/matplotlib/backends/backend_agg.py:183: RuntimeWarning: Glyph 19977 missing from current font.\n",
      "  font.set_text(s, 0, flags=flags)\n",
      "/Users/camilla/opt/anaconda3/lib/python3.8/site-packages/matplotlib/backends/backend_agg.py:183: RuntimeWarning: Glyph 22269 missing from current font.\n",
      "  font.set_text(s, 0, flags=flags)\n",
      "/Users/camilla/opt/anaconda3/lib/python3.8/site-packages/matplotlib/backends/backend_agg.py:183: RuntimeWarning: Glyph 32676 missing from current font.\n",
      "  font.set_text(s, 0, flags=flags)\n",
      "/Users/camilla/opt/anaconda3/lib/python3.8/site-packages/matplotlib/backends/backend_agg.py:183: RuntimeWarning: Glyph 33521 missing from current font.\n",
      "  font.set_text(s, 0, flags=flags)\n",
      "/Users/camilla/opt/anaconda3/lib/python3.8/site-packages/matplotlib/backends/backend_agg.py:183: RuntimeWarning: Glyph 20256 missing from current font.\n",
      "  font.set_text(s, 0, flags=flags)\n",
      "/Users/camilla/opt/anaconda3/lib/python3.8/site-packages/matplotlib/backends/backend_agg.py:183: RuntimeWarning: Glyph 65290 missing from current font.\n",
      "  font.set_text(s, 0, flags=flags)\n",
      "/Users/camilla/opt/anaconda3/lib/python3.8/site-packages/matplotlib/backends/backend_agg.py:183: RuntimeWarning: Glyph 40857 missing from current font.\n",
      "  font.set_text(s, 0, flags=flags)\n",
      "/Users/camilla/opt/anaconda3/lib/python3.8/site-packages/matplotlib/backends/backend_agg.py:183: RuntimeWarning: Glyph 23830 missing from current font.\n",
      "  font.set_text(s, 0, flags=flags)\n"
     ]
    },
    {
     "data": {
      "image/png": "[encoded data removed]",
      "text/plain": [
       "<Figure size 1296x504 with 1 Axes>"
      ]
     },
     "metadata": {
      "needs_background": "light"
     },
     "output_type": "display_data"
    }
   ],
   "source": [
    "n_reviews_per_app.plot.bar(figsize=(18,7))"
   ]
  },
  {
   "cell_type": "markdown",
   "metadata": {},
   "source": [
    "Since this plot is unreadable due to the very high number of applications, we decide to plot also the top50 apps with the most number of reviews."
   ]
  },
  {
   "cell_type": "code",
   "execution_count": 31,
   "metadata": {},
   "outputs": [
    {
     "data": {
      "text/plain": [
       "<matplotlib.axes._subplots.AxesSubplot at 0x7fda6fdc1fa0>"
      ]
     },
     "execution_count": 31,
     "metadata": {},
     "output_type": "execute_result"
    },
    {
     "data": {
      "image/png": "[encoded data removed]",
      "text/plain": [
       "<Figure size 1296x504 with 1 Axes>"
      ]
     },
     "metadata": {
      "needs_background": "light"
     },
     "output_type": "display_data"
    }
   ],
   "source": [
    "n_reviews_per_app[0:50].plot.bar(figsize=(18,7)) "
   ]
  },
  {
   "cell_type": "markdown",
   "metadata": {},
   "source": [
    "#### RQ 2.2 - APPS WITH THE BEST Weighted Vote Score?"
   ]
  },
  {
   "cell_type": "code",
   "execution_count": 32,
   "metadata": {},
   "outputs": [
    {
     "data": {
      "text/plain": [
       "app_name\n",
       "20XX                                    0.933389\n",
       "A Hat in Time                           0.960150\n",
       "A Short Hike                            0.931559\n",
       "A Way Out                               0.936102\n",
       "ARK: Survival Evolved                   0.981134\n",
       "                                          ...   \n",
       "XCOM 2                                  0.960939\n",
       "Yakuza 0                                0.990103\n",
       "Youtubers Life                          0.939689\n",
       "theHunter: Call of the Wild™            0.987502\n",
       "三国群英传8 Heroes of the Three Kingdoms 8   0.955287\n",
       "Name: weighted_vote_score, Length: 315, dtype: float64"
      ]
     },
     "execution_count": 32,
     "metadata": {},
     "output_type": "execute_result"
    }
   ],
   "source": [
    "#for each application the highest weighted_vote_score\n",
    "data.groupby(\"app_name\").weighted_vote_score.max()"
   ]
  },
  {
   "cell_type": "markdown",
   "metadata": {},
   "source": [
    "We were asked to find out which applications had the best *weighted_vote_score*. In the first moment we decided to compute for each app the highest weighted vote score value, but we didn't consider that in this way it is muche easier to encounter outliers that would affect our analysis. \n",
    "So, we change our idea, and decide to consider as \"applications with the best *weighted_vote_score* the apps with the higher *weighted_vote_score* mean. "
   ]
  },
  {
   "cell_type": "code",
   "execution_count": 33,
   "metadata": {},
   "outputs": [
    {
     "data": {
      "text/plain": [
       "app_name\n",
       "20XX                                    0.209669\n",
       "A Hat in Time                           0.167795\n",
       "A Short Hike                            0.138614\n",
       "A Way Out                               0.161408\n",
       "ARK: Survival Evolved                   0.193318\n",
       "                                          ...   \n",
       "XCOM 2                                  0.174430\n",
       "Yakuza 0                                0.197338\n",
       "Youtubers Life                          0.250953\n",
       "theHunter: Call of the Wild™            0.181929\n",
       "三国群英传8 Heroes of the Three Kingdoms 8   0.120984\n",
       "Name: weighted_vote_score, Length: 315, dtype: float64"
      ]
     },
     "execution_count": 33,
     "metadata": {},
     "output_type": "execute_result"
    }
   ],
   "source": [
    "#for each application the avg weighted_vote_score\n",
    "avg_wvs=data.groupby(\"app_name\").weighted_vote_score.mean()\n",
    "avg_wvs"
   ]
  },
  {
   "cell_type": "code",
   "execution_count": 34,
   "metadata": {},
   "outputs": [
    {
     "data": {
      "text/plain": [
       "app_name\n",
       "Hunt Down The Freeman               0.501874\n",
       "Urban Empire                        0.438582\n",
       "METAL GEAR SURVIVE                  0.421726\n",
       "Identity                            0.415280\n",
       "Umbrella Corps                      0.414151\n",
       "                                      ...   \n",
       "There Is No Game: Wrong Dimension   0.085903\n",
       "Bloons TD 6                         0.085018\n",
       "People Playground                   0.083553\n",
       "Among Us                            0.078406\n",
       "Totally Accurate Battle Simulator   0.077028\n",
       "Name: weighted_vote_score, Length: 315, dtype: float64"
      ]
     },
     "execution_count": 34,
     "metadata": {},
     "output_type": "execute_result"
    }
   ],
   "source": [
    "avg_wvs.sort_values(ascending=False)"
   ]
  },
  {
   "cell_type": "markdown",
   "metadata": {},
   "source": [
    "From the output, we notice that the top5 apps with the highest *weighted_vote_score* are:\n",
    "1. Hunt Down The Freeman                0.502150\n",
    "2. Urban Empire                         0.438623\n",
    "3. METAL GEAR SURVIVE                   0.421632\n",
    "4. Identity                             0.415384\n",
    "5. Umbrella Corps                       0.414678"
   ]
  },
  {
   "cell_type": "markdown",
   "metadata": {},
   "source": [
    "#### RQ 2.3 - APPS WITH THE MOST AND LEAST RECOMMENDATION"
   ]
  },
  {
   "cell_type": "code",
   "execution_count": 35,
   "metadata": {},
   "outputs": [
    {
     "data": {
      "text/plain": [
       "app_name\n",
       "20XX                                       3343\n",
       "A Hat in Time                             34279\n",
       "A Short Hike                               5795\n",
       "A Way Out                                  9753\n",
       "ARK: Survival Evolved                    314118\n",
       "                                          ...  \n",
       "XCOM 2                                    52580\n",
       "Yakuza 0                                  29736\n",
       "Youtubers Life                             9513\n",
       "theHunter: Call of the Wild™              57306\n",
       "三国群英传8 Heroes of the Three Kingdoms 8      4674\n",
       "Name: recommended, Length: 315, dtype: int64"
      ]
     },
     "execution_count": 35,
     "metadata": {},
     "output_type": "execute_result"
    }
   ],
   "source": [
    "#number of recommendation per app\n",
    "n_rec=data.groupby('app_name')['recommended'].apply(lambda x: x[x == True].count())\n",
    "n_rec"
   ]
  },
  {
   "cell_type": "code",
   "execution_count": 36,
   "metadata": {},
   "outputs": [
    {
     "data": {
      "text/plain": [
       "app_name\n",
       "PLAYERUNKNOWN'S BATTLEGROUNDS     885189\n",
       "Grand Theft Auto V                828903\n",
       "Tom Clancy's Rainbow Six Siege    740479\n",
       "Terraria                          657385\n",
       "Garry's Mod                       630931\n",
       "                                   ...  \n",
       "Out of the Park Baseball 19          594\n",
       "Shadow Complex Remastered            587\n",
       "Identity                             439\n",
       "DRAGON QUEST HEROES™ II              423\n",
       "Neon Hardcorps                        88\n",
       "Name: recommended, Length: 315, dtype: int64"
      ]
     },
     "execution_count": 36,
     "metadata": {},
     "output_type": "execute_result"
    }
   ],
   "source": [
    "n_rec_sorted=n_rec.sort_values(ascending=False)\n",
    "n_rec_sorted"
   ]
  },
  {
   "cell_type": "code",
   "execution_count": 37,
   "metadata": {},
   "outputs": [
    {
     "data": {
      "text/plain": [
       "app_name\n",
       "PLAYERUNKNOWN'S BATTLEGROUNDS     885189\n",
       "Grand Theft Auto V                828903\n",
       "Tom Clancy's Rainbow Six Siege    740479\n",
       "Terraria                          657385\n",
       "Garry's Mod                       630931\n",
       "Name: recommended, dtype: int64"
      ]
     },
     "execution_count": 37,
     "metadata": {},
     "output_type": "execute_result"
    }
   ],
   "source": [
    "top5_rec=n_rec_sorted[0:5]\n",
    "top5_rec"
   ]
  },
  {
   "cell_type": "code",
   "execution_count": 38,
   "metadata": {},
   "outputs": [
    {
     "name": "stdout",
     "output_type": "stream",
     "text": [
      "The top 5 apps that have the higher number of recommendations are app_name\n",
      "PLAYERUNKNOWN'S BATTLEGROUNDS     885189\n",
      "Grand Theft Auto V                828903\n",
      "Tom Clancy's Rainbow Six Siege    740479\n",
      "Terraria                          657385\n",
      "Garry's Mod                       630931\n",
      "Name: recommended, dtype: int64\n"
     ]
    }
   ],
   "source": [
    "print(f\"The top 5 apps that have the higher number of recommendations are {top5_rec}\")"
   ]
  },
  {
   "cell_type": "code",
   "execution_count": 39,
   "metadata": {},
   "outputs": [
    {
     "data": {
      "text/plain": [
       "app_name\n",
       "Out of the Park Baseball 19    594\n",
       "Shadow Complex Remastered      587\n",
       "Identity                       439\n",
       "DRAGON QUEST HEROES™ II        423\n",
       "Neon Hardcorps                  88\n",
       "Name: recommended, dtype: int64"
      ]
     },
     "execution_count": 39,
     "metadata": {},
     "output_type": "execute_result"
    }
   ],
   "source": [
    "least_5_rec=n_rec_sorted[310:315]\n",
    "least_5_rec"
   ]
  },
  {
   "cell_type": "code",
   "execution_count": 40,
   "metadata": {},
   "outputs": [
    {
     "name": "stdout",
     "output_type": "stream",
     "text": [
      "The top 5 apps that have the least number of recommendations are app_name\n",
      "Out of the Park Baseball 19    594\n",
      "Shadow Complex Remastered      587\n",
      "Identity                       439\n",
      "DRAGON QUEST HEROES™ II        423\n",
      "Neon Hardcorps                  88\n",
      "Name: recommended, dtype: int64\n"
     ]
    }
   ],
   "source": [
    "print(f\"The top 5 apps that have the least number of recommendations are {least_5_rec}\")"
   ]
  },
  {
   "cell_type": "markdown",
   "metadata": {},
   "source": [
    "We decided to see also the amount of non recommendation per app just to complete the analysis."
   ]
  },
  {
   "cell_type": "code",
   "execution_count": 41,
   "metadata": {},
   "outputs": [
    {
     "data": {
      "text/plain": [
       "app_name\n",
       "20XX                                       261\n",
       "A Hat in Time                              660\n",
       "A Short Hike                                50\n",
       "A Way Out                                 1174\n",
       "ARK: Survival Evolved                    84333\n",
       "                                         ...  \n",
       "XCOM 2                                    8873\n",
       "Yakuza 0                                  2000\n",
       "Youtubers Life                            3040\n",
       "theHunter: Call of the Wild™              9773\n",
       "三国群英传8 Heroes of the Three Kingdoms 8     3433\n",
       "Name: recommended, Length: 315, dtype: int64"
      ]
     },
     "execution_count": 41,
     "metadata": {},
     "output_type": "execute_result"
    }
   ],
   "source": [
    "#number of non recommendation per app\n",
    "n_not_rec=data.groupby('app_name')['recommended'].apply(lambda x: x[x == False].count())\n",
    "n_not_rec"
   ]
  },
  {
   "cell_type": "code",
   "execution_count": 42,
   "metadata": {},
   "outputs": [
    {
     "data": {
      "text/plain": [
       "app_name\n",
       "PLAYERUNKNOWN'S BATTLEGROUNDS      757442\n",
       "Grand Theft Auto V                 187469\n",
       "Tom Clancy's Rainbow Six Siege      99359\n",
       "ARK: Survival Evolved               84333\n",
       "Rust                                80044\n",
       "                                    ...  \n",
       "Nova Drift                             65\n",
       "A Short Hike                           50\n",
       "Senren＊Banka                           30\n",
       "ULTRAKILL                              26\n",
       "Don't Escape: 4 Days to Survive        15\n",
       "Name: recommended, Length: 315, dtype: int64"
      ]
     },
     "execution_count": 42,
     "metadata": {},
     "output_type": "execute_result"
    }
   ],
   "source": [
    "not_rec_app_sorted=n_not_rec.sort_values(ascending=False)\n",
    "not_rec_app_sorted"
   ]
  },
  {
   "cell_type": "markdown",
   "metadata": {},
   "source": [
    "Is interesting to notice that the 3 most recommended apps are also the top 3 apps with negative recommendations."
   ]
  },
  {
   "cell_type": "markdown",
   "metadata": {},
   "source": [
    "#### RQ 2.4 - NUMBER OF APPS PURCHASED AND GIVEN FOR FREE"
   ]
  },
  {
   "cell_type": "code",
   "execution_count": 43,
   "metadata": {},
   "outputs": [
    {
     "data": {
      "text/plain": [
       "16796130"
      ]
     },
     "execution_count": 43,
     "metadata": {},
     "output_type": "execute_result"
    }
   ],
   "source": [
    "#number of apps purchased\n",
    "app_purchased=len(data[data['steam_purchase']== True])\n",
    "app_purchased"
   ]
  },
  {
   "cell_type": "code",
   "execution_count": 44,
   "metadata": {},
   "outputs": [
    {
     "name": "stdout",
     "output_type": "stream",
     "text": [
      "The number of purchased apps is 16796130.\n"
     ]
    }
   ],
   "source": [
    "print(f\"The number of purchased apps is {app_purchased}.\")"
   ]
  },
  {
   "cell_type": "code",
   "execution_count": 45,
   "metadata": {},
   "outputs": [
    {
     "data": {
      "text/plain": [
       "686443"
      ]
     },
     "execution_count": 45,
     "metadata": {},
     "output_type": "execute_result"
    }
   ],
   "source": [
    "#number of apps received for free\n",
    "app_free=len(data[data['received_for_free']==True])\n",
    "app_free"
   ]
  },
  {
   "cell_type": "markdown",
   "metadata": {},
   "source": [
    "Now we want to check if the number of purchased and received for free apps corresponds to the number of reviews of the dataset. "
   ]
  },
  {
   "cell_type": "code",
   "execution_count": 46,
   "metadata": {},
   "outputs": [
    {
     "data": {
      "text/plain": [
       "17482573"
      ]
     },
     "execution_count": 46,
     "metadata": {},
     "output_type": "execute_result"
    }
   ],
   "source": [
    "app_free+app_purchased"
   ]
  },
  {
   "cell_type": "markdown",
   "metadata": {},
   "source": [
    "From this output, we find out that there is a difference between the number of reviews and the number of purchased/received for free apps. We imagine that some author maybe already had the game they reviews, or maybe wrote a review without having played at the game, or maybe didn't purchased the game directly on steam, but on another platform."
   ]
  },
  {
   "cell_type": "markdown",
   "metadata": {},
   "source": [
    "### [RQ3] Now it's important to understand the preferred time to do reviews.\n",
    "\n",
    "What is the most common time that authors review an application? For example, authors usually write a review at 17:44.\n",
    "Create a function that receives as a parameter a list of time intervals and returns the plot the number of reviews for each of the intervals.\n",
    "Use the function that you created in the previous literal to plot the number of reviews between the following time intervals:"
   ]
  },
  {
   "cell_type": "code",
   "execution_count": 115,
   "metadata": {},
   "outputs": [
    {
     "data": {
      "text/html": [
       "<div>\n",
       "<style scoped>\n",
       "    .dataframe tbody tr th:only-of-type {\n",
       "        vertical-align: middle;\n",
       "    }\n",
       "\n",
       "    .dataframe tbody tr th {\n",
       "        vertical-align: top;\n",
       "    }\n",
       "\n",
       "    .dataframe thead th {\n",
       "        text-align: right;\n",
       "    }\n",
       "</style>\n",
       "<table border=\"1\" class=\"dataframe\">\n",
       "  <thead>\n",
       "    <tr style=\"text-align: right;\">\n",
       "      <th></th>\n",
       "      <th>Initial time</th>\n",
       "      <th>Final time</th>\n",
       "    </tr>\n",
       "  </thead>\n",
       "  <tbody>\n",
       "    <tr>\n",
       "      <th>0</th>\n",
       "      <td>06:00:00</td>\n",
       "      <td>10:59:59</td>\n",
       "    </tr>\n",
       "    <tr>\n",
       "      <th>1</th>\n",
       "      <td>11:00:00</td>\n",
       "      <td>13:59:59</td>\n",
       "    </tr>\n",
       "    <tr>\n",
       "      <th>2</th>\n",
       "      <td>14:00:00</td>\n",
       "      <td>16:59:59</td>\n",
       "    </tr>\n",
       "    <tr>\n",
       "      <th>3</th>\n",
       "      <td>17:00:00</td>\n",
       "      <td>19:59:59</td>\n",
       "    </tr>\n",
       "    <tr>\n",
       "      <th>4</th>\n",
       "      <td>20:00:00</td>\n",
       "      <td>23:59:59</td>\n",
       "    </tr>\n",
       "    <tr>\n",
       "      <th>5</th>\n",
       "      <td>00:00:00</td>\n",
       "      <td>02:59:59</td>\n",
       "    </tr>\n",
       "    <tr>\n",
       "      <th>6</th>\n",
       "      <td>03:00:00</td>\n",
       "      <td>05:59:59</td>\n",
       "    </tr>\n",
       "  </tbody>\n",
       "</table>\n",
       "</div>"
      ],
      "text/plain": [
       "  Initial time Final time\n",
       "0     06:00:00   10:59:59\n",
       "1     11:00:00   13:59:59\n",
       "2     14:00:00   16:59:59\n",
       "3     17:00:00   19:59:59\n",
       "4     20:00:00   23:59:59\n",
       "5     00:00:00   02:59:59\n",
       "6     03:00:00   05:59:59"
      ]
     },
     "execution_count": 115,
     "metadata": {},
     "output_type": "execute_result"
    }
   ],
   "source": [
    "time_intervals = pd.read_excel('time_interval_cami2.xlsx', header='infer' )\n",
    "time_intervals"
   ]
  },
  {
   "cell_type": "code",
   "execution_count": 89,
   "metadata": {},
   "outputs": [
    {
     "data": {
      "text/plain": [
       "0           06:00:29\n",
       "1           05:50:30\n",
       "2           05:46:40\n",
       "3           05:32:50\n",
       "4           05:23:47\n",
       "              ...   \n",
       "21747366    18:05:04\n",
       "21747367    18:04:53\n",
       "21747368    18:04:33\n",
       "21747369    18:03:51\n",
       "21747370    18:01:45\n",
       "Name: new_time, Length: 21687951, dtype: object"
      ]
     },
     "execution_count": 89,
     "metadata": {},
     "output_type": "execute_result"
    }
   ],
   "source": [
    "# create a dataframe with datetime and review id\n",
    "c = pd.DataFrame(data['timestamp_created'])\n",
    "c['new_date'] = [d.date() for d in data['timestamp_created']]\n",
    "c['new_time'] = [d.time() for d in data['timestamp_created']]\n",
    "c['new_time']"
   ]
  },
  {
   "cell_type": "markdown",
   "metadata": {},
   "source": [
    "remember that a record corresponds to a review"
   ]
  },
  {
   "cell_type": "code",
   "execution_count": 118,
   "metadata": {},
   "outputs": [
    {
     "data": {
      "text/plain": [
       "[[datetime.time(6, 0), datetime.time(10, 59, 59)],\n",
       " [datetime.time(11, 0), datetime.time(13, 59, 59)],\n",
       " [datetime.time(14, 0), datetime.time(16, 59, 59)],\n",
       " [datetime.time(17, 0), datetime.time(19, 59, 59)],\n",
       " [datetime.time(20, 0), datetime.time(23, 59, 59)],\n",
       " [datetime.time(0, 0), datetime.time(2, 59, 59)],\n",
       " [datetime.time(3, 0), datetime.time(5, 59, 59)]]"
      ]
     },
     "execution_count": 118,
     "metadata": {},
     "output_type": "execute_result"
    }
   ],
   "source": [
    "init = list(time_intervals['Initial time'])\n",
    "final = list(time_intervals['Final time'])\n",
    "list_time_intervals = []\n",
    "for i in range(len(init)):\n",
    "    for j in range(len(final)):\n",
    "        if i == j:\n",
    "            list_time_intervals.append([datetime.strptime(init[i], '%H:%M:%S').time(),datetime.strptime(final[j], '%H:%M:%S').time()])\n",
    "list_time_intervals"
   ]
  },
  {
   "cell_type": "code",
   "execution_count": 119,
   "metadata": {},
   "outputs": [],
   "source": [
    "def num_reviews_per_time(t_intervals):\n",
    "    rev_count = {}\n",
    "    for i in range(len(t_intervals)):\n",
    "        rev_count[t_intervals[i][0],t_intervals[i][1]]=0\n",
    "        for time_rev in c['new_time']:\n",
    "            if t_intervals[i][0] <= time_rev <= t_intervals[i][1]:\n",
    "                rev_count[t_intervals[i][0],t_intervals[i][1]] += 1\n",
    "    return rev_count "
   ]
  },
  {
   "cell_type": "code",
   "execution_count": 120,
   "metadata": {},
   "outputs": [
    {
     "data": {
      "text/plain": [
       "{(datetime.time(6, 0), datetime.time(10, 59, 59)): 3915909,\n",
       " (datetime.time(11, 0), datetime.time(13, 59, 59)): 2964185,\n",
       " (datetime.time(14, 0), datetime.time(16, 59, 59)): 3368161,\n",
       " (datetime.time(17, 0), datetime.time(19, 59, 59)): 3247872,\n",
       " (datetime.time(20, 0), datetime.time(23, 59, 59)): 3606292,\n",
       " (datetime.time(0, 0), datetime.time(2, 59, 59)): 2345145,\n",
       " (datetime.time(3, 0), datetime.time(5, 59, 59)): 2240387}"
      ]
     },
     "execution_count": 120,
     "metadata": {},
     "output_type": "execute_result"
    }
   ],
   "source": [
    "k = num_reviews_per_time(list_time_intervals)\n",
    "k"
   ]
  },
  {
   "cell_type": "code",
   "execution_count": 121,
   "metadata": {},
   "outputs": [
    {
     "data": {
      "text/plain": [
       "[3915909, 2964185, 3368161, 3247872, 3606292, 2345145, 2240387]"
      ]
     },
     "execution_count": 121,
     "metadata": {},
     "output_type": "execute_result"
    }
   ],
   "source": [
    "review_time = list(num_reviews_per_time(list_time_intervals).values())\n",
    "lb = [list_time_intervals[i][0] for i in range(len(list_time_intervals))]\n",
    "ub = [list_time_intervals[i][1] for i in range(len(list_time_intervals))]\n",
    "review_time"
   ]
  },
  {
   "cell_type": "code",
   "execution_count": 122,
   "metadata": {},
   "outputs": [
    {
     "data": {
      "text/html": [
       "<div>\n",
       "<style scoped>\n",
       "    .dataframe tbody tr th:only-of-type {\n",
       "        vertical-align: middle;\n",
       "    }\n",
       "\n",
       "    .dataframe tbody tr th {\n",
       "        vertical-align: top;\n",
       "    }\n",
       "\n",
       "    .dataframe thead th {\n",
       "        text-align: right;\n",
       "    }\n",
       "</style>\n",
       "<table border=\"1\" class=\"dataframe\">\n",
       "  <thead>\n",
       "    <tr style=\"text-align: right;\">\n",
       "      <th></th>\n",
       "      <th></th>\n",
       "      <th>count</th>\n",
       "    </tr>\n",
       "  </thead>\n",
       "  <tbody>\n",
       "    <tr>\n",
       "      <th>06:00:00</th>\n",
       "      <th>10:59:59</th>\n",
       "      <td>3915909</td>\n",
       "    </tr>\n",
       "    <tr>\n",
       "      <th>11:00:00</th>\n",
       "      <th>13:59:59</th>\n",
       "      <td>2964185</td>\n",
       "    </tr>\n",
       "    <tr>\n",
       "      <th>14:00:00</th>\n",
       "      <th>16:59:59</th>\n",
       "      <td>3368161</td>\n",
       "    </tr>\n",
       "    <tr>\n",
       "      <th>17:00:00</th>\n",
       "      <th>19:59:59</th>\n",
       "      <td>3247872</td>\n",
       "    </tr>\n",
       "    <tr>\n",
       "      <th>20:00:00</th>\n",
       "      <th>23:59:59</th>\n",
       "      <td>3606292</td>\n",
       "    </tr>\n",
       "    <tr>\n",
       "      <th>00:00:00</th>\n",
       "      <th>02:59:59</th>\n",
       "      <td>2345145</td>\n",
       "    </tr>\n",
       "    <tr>\n",
       "      <th>03:00:00</th>\n",
       "      <th>05:59:59</th>\n",
       "      <td>2240387</td>\n",
       "    </tr>\n",
       "  </tbody>\n",
       "</table>\n",
       "</div>"
      ],
      "text/plain": [
       "                     count\n",
       "06:00:00 10:59:59  3915909\n",
       "11:00:00 13:59:59  2964185\n",
       "14:00:00 16:59:59  3368161\n",
       "17:00:00 19:59:59  3247872\n",
       "20:00:00 23:59:59  3606292\n",
       "00:00:00 02:59:59  2345145\n",
       "03:00:00 05:59:59  2240387"
      ]
     },
     "execution_count": 122,
     "metadata": {},
     "output_type": "execute_result"
    }
   ],
   "source": [
    "rev_int = pd.DataFrame(index = [lb,ub], columns = ['count'])\n",
    "j = list(k.values())\n",
    "rev_int['count'] = j\n",
    "rev_int"
   ]
  },
  {
   "cell_type": "code",
   "execution_count": 123,
   "metadata": {},
   "outputs": [
    {
     "data": {
      "text/plain": [
       "Text(0, 0.5, 'reviews per interval')"
      ]
     },
     "execution_count": 123,
     "metadata": {},
     "output_type": "execute_result"
    },
    {
     "data": {
      "image/png": "[encoded data removed]",
      "text/plain": [
       "<Figure size 432x288 with 1 Axes>"
      ]
     },
     "metadata": {
      "needs_background": "light"
     },
     "output_type": "display_data"
    }
   ],
   "source": [
    "rev_int.plot(kind ='bar',color = 'cyan')\n",
    "plt.xlabel(\"time intervals\")\n",
    "plt.ylabel('reviews per interval')"
   ]
  },
  {
   "cell_type": "markdown",
   "metadata": {},
   "source": [
    "### [RQ4] As Steam is a worldwide platform, the reviews can be done in many languages. Let's extract some information about it.\n",
    "\n",
    "What are the top 3 languages used to review applications?\n",
    "Create a function that receives as parameters both the name of a data set and a list of languages’ names and returns a data frame filtered only with the reviews written in the provided languages.\n",
    "Use the function created in the previous literal to find what percentage of these reviews (associated with the top 3 languages) were voted as funny?\n",
    "Use the function created in the literal “a” to find what percentage of these reviews (associated with the top 3 languages) were voted as helpful?"
   ]
  },
  {
   "cell_type": "markdown",
   "metadata": {},
   "source": [
    "#### RQ 4.1 - TOP 3 LANGUAGES USED"
   ]
  },
  {
   "cell_type": "code",
   "execution_count": 50,
   "metadata": {},
   "outputs": [
    {
     "data": {
      "text/plain": [
       "english       9606842\n",
       "schinese      3758222\n",
       "russian       2342828\n",
       "brazilian      835949\n",
       "spanish        811599\n",
       "german         749869\n",
       "turkish        634369\n",
       "koreana        612538\n",
       "french         538829\n",
       "polish         493640\n",
       "tchinese       217692\n",
       "czech          133300\n",
       "italian        132932\n",
       "thai           127214\n",
       "japanese        81570\n",
       "portuguese      81083\n",
       "swedish         79794\n",
       "dutch           77264\n",
       "hungarian       70644\n",
       "latam           70036\n",
       "danish          55611\n",
       "finnish         54471\n",
       "norwegian       36646\n",
       "romanian        32586\n",
       "ukrainian       21077\n",
       "greek           14373\n",
       "bulgarian       10403\n",
       "vietnamese       6570\n",
       "Name: language, dtype: int64"
      ]
     },
     "execution_count": 50,
     "metadata": {},
     "output_type": "execute_result"
    }
   ],
   "source": [
    "data['language'].value_counts() #using value_counts the value are sorted"
   ]
  },
  {
   "cell_type": "code",
   "execution_count": 51,
   "metadata": {},
   "outputs": [
    {
     "data": {
      "text/plain": [
       "<matplotlib.axes._subplots.AxesSubplot at 0x7fdc5e32efa0>"
      ]
     },
     "execution_count": 51,
     "metadata": {},
     "output_type": "execute_result"
    },
    {
     "data": {
      "image/png": "[encoded data removed]",
      "text/plain": [
       "<Figure size 1296x504 with 1 Axes>"
      ]
     },
     "metadata": {
      "needs_background": "light"
     },
     "output_type": "display_data"
    }
   ],
   "source": [
    "data['language'].value_counts().plot.bar(figsize=(18,7), xlabel='language', ylabel='number of reviews', title = 'Reviews per language')"
   ]
  },
  {
   "cell_type": "markdown",
   "metadata": {},
   "source": [
    "As we can see both from the output of the code and from the plot, the top three languages used are english (9635437), schinese (3764967) and russian (2348900)."
   ]
  },
  {
   "cell_type": "markdown",
   "metadata": {},
   "source": [
    "#### RQ 4.2 - FUNCTION FILTER DATASET ON LANGUAGE"
   ]
  },
  {
   "cell_type": "code",
   "execution_count": 52,
   "metadata": {},
   "outputs": [],
   "source": [
    "def filter_data_on_language(dataset, languages) :\n",
    "    return dataset[dataset['language'].isin(languages)]"
   ]
  },
  {
   "cell_type": "code",
   "execution_count": 53,
   "metadata": {},
   "outputs": [],
   "source": [
    "languages=['english', 'schinese', 'russian']"
   ]
  },
  {
   "cell_type": "code",
   "execution_count": 54,
   "metadata": {},
   "outputs": [
    {
     "data": {
      "text/html": [
       "<div>\n",
       "<style scoped>\n",
       "    .dataframe tbody tr th:only-of-type {\n",
       "        vertical-align: middle;\n",
       "    }\n",
       "\n",
       "    .dataframe tbody tr th {\n",
       "        vertical-align: top;\n",
       "    }\n",
       "\n",
       "    .dataframe thead th {\n",
       "        text-align: right;\n",
       "    }\n",
       "</style>\n",
       "<table border=\"1\" class=\"dataframe\">\n",
       "  <thead>\n",
       "    <tr style=\"text-align: right;\">\n",
       "      <th></th>\n",
       "      <th>Unnamed: 0</th>\n",
       "      <th>app_id</th>\n",
       "      <th>app_name</th>\n",
       "      <th>review_id</th>\n",
       "      <th>language</th>\n",
       "      <th>review</th>\n",
       "      <th>timestamp_created</th>\n",
       "      <th>timestamp_updated</th>\n",
       "      <th>recommended</th>\n",
       "      <th>votes_helpful</th>\n",
       "      <th>...</th>\n",
       "      <th>steam_purchase</th>\n",
       "      <th>received_for_free</th>\n",
       "      <th>written_during_early_access</th>\n",
       "      <th>author.steamid</th>\n",
       "      <th>author.num_games_owned</th>\n",
       "      <th>author.num_reviews</th>\n",
       "      <th>author.playtime_forever</th>\n",
       "      <th>author.playtime_last_two_weeks</th>\n",
       "      <th>author.playtime_at_review</th>\n",
       "      <th>author.last_played</th>\n",
       "    </tr>\n",
       "  </thead>\n",
       "  <tbody>\n",
       "    <tr>\n",
       "      <th>0</th>\n",
       "      <td>0</td>\n",
       "      <td>292030</td>\n",
       "      <td>The Witcher 3: Wild Hunt</td>\n",
       "      <td>85185598</td>\n",
       "      <td>schinese</td>\n",
       "      <td>不玩此生遗憾，RPG游戏里的天花板，太吸引人了</td>\n",
       "      <td>2021-01-23 06:00:29</td>\n",
       "      <td>2021-01-23 06:00:29</td>\n",
       "      <td>True</td>\n",
       "      <td>0</td>\n",
       "      <td>...</td>\n",
       "      <td>True</td>\n",
       "      <td>False</td>\n",
       "      <td>False</td>\n",
       "      <td>76561199095369542</td>\n",
       "      <td>6</td>\n",
       "      <td>2</td>\n",
       "      <td>1909.000000</td>\n",
       "      <td>1448.000000</td>\n",
       "      <td>1909.000000</td>\n",
       "      <td>2021-01-22 19:23:03</td>\n",
       "    </tr>\n",
       "    <tr>\n",
       "      <th>1</th>\n",
       "      <td>1</td>\n",
       "      <td>292030</td>\n",
       "      <td>The Witcher 3: Wild Hunt</td>\n",
       "      <td>85185250</td>\n",
       "      <td>schinese</td>\n",
       "      <td>拔DIAO无情打桩机--杰洛特!!!</td>\n",
       "      <td>2021-01-23 05:50:30</td>\n",
       "      <td>2021-01-23 05:50:30</td>\n",
       "      <td>True</td>\n",
       "      <td>0</td>\n",
       "      <td>...</td>\n",
       "      <td>True</td>\n",
       "      <td>False</td>\n",
       "      <td>False</td>\n",
       "      <td>76561198949504115</td>\n",
       "      <td>30</td>\n",
       "      <td>10</td>\n",
       "      <td>2764.000000</td>\n",
       "      <td>2743.000000</td>\n",
       "      <td>2674.000000</td>\n",
       "      <td>2021-01-23 07:18:27</td>\n",
       "    </tr>\n",
       "    <tr>\n",
       "      <th>2</th>\n",
       "      <td>2</td>\n",
       "      <td>292030</td>\n",
       "      <td>The Witcher 3: Wild Hunt</td>\n",
       "      <td>85185111</td>\n",
       "      <td>schinese</td>\n",
       "      <td>巫师3NB</td>\n",
       "      <td>2021-01-23 05:46:40</td>\n",
       "      <td>2021-01-23 05:46:40</td>\n",
       "      <td>True</td>\n",
       "      <td>0</td>\n",
       "      <td>...</td>\n",
       "      <td>True</td>\n",
       "      <td>False</td>\n",
       "      <td>False</td>\n",
       "      <td>76561199090098988</td>\n",
       "      <td>5</td>\n",
       "      <td>1</td>\n",
       "      <td>1061.000000</td>\n",
       "      <td>1061.000000</td>\n",
       "      <td>1060.000000</td>\n",
       "      <td>2021-01-23 06:36:17</td>\n",
       "    </tr>\n",
       "    <tr>\n",
       "      <th>3</th>\n",
       "      <td>3</td>\n",
       "      <td>292030</td>\n",
       "      <td>The Witcher 3: Wild Hunt</td>\n",
       "      <td>85184605</td>\n",
       "      <td>english</td>\n",
       "      <td>One of the best RPG's of all time, worthy of a...</td>\n",
       "      <td>2021-01-23 05:32:50</td>\n",
       "      <td>2021-01-23 05:32:50</td>\n",
       "      <td>True</td>\n",
       "      <td>0</td>\n",
       "      <td>...</td>\n",
       "      <td>True</td>\n",
       "      <td>False</td>\n",
       "      <td>False</td>\n",
       "      <td>76561199054755373</td>\n",
       "      <td>5</td>\n",
       "      <td>3</td>\n",
       "      <td>5587.000000</td>\n",
       "      <td>3200.000000</td>\n",
       "      <td>5524.000000</td>\n",
       "      <td>2021-01-23 06:35:44</td>\n",
       "    </tr>\n",
       "    <tr>\n",
       "      <th>4</th>\n",
       "      <td>4</td>\n",
       "      <td>292030</td>\n",
       "      <td>The Witcher 3: Wild Hunt</td>\n",
       "      <td>85184287</td>\n",
       "      <td>schinese</td>\n",
       "      <td>大作</td>\n",
       "      <td>2021-01-23 05:23:47</td>\n",
       "      <td>2021-01-23 05:23:47</td>\n",
       "      <td>True</td>\n",
       "      <td>0</td>\n",
       "      <td>...</td>\n",
       "      <td>True</td>\n",
       "      <td>False</td>\n",
       "      <td>False</td>\n",
       "      <td>76561199028326951</td>\n",
       "      <td>7</td>\n",
       "      <td>4</td>\n",
       "      <td>217.000000</td>\n",
       "      <td>42.000000</td>\n",
       "      <td>217.000000</td>\n",
       "      <td>2021-01-16 09:10:49</td>\n",
       "    </tr>\n",
       "    <tr>\n",
       "      <th>...</th>\n",
       "      <td>...</td>\n",
       "      <td>...</td>\n",
       "      <td>...</td>\n",
       "      <td>...</td>\n",
       "      <td>...</td>\n",
       "      <td>...</td>\n",
       "      <td>...</td>\n",
       "      <td>...</td>\n",
       "      <td>...</td>\n",
       "      <td>...</td>\n",
       "      <td>...</td>\n",
       "      <td>...</td>\n",
       "      <td>...</td>\n",
       "      <td>...</td>\n",
       "      <td>...</td>\n",
       "      <td>...</td>\n",
       "      <td>...</td>\n",
       "      <td>...</td>\n",
       "      <td>...</td>\n",
       "      <td>...</td>\n",
       "      <td>...</td>\n",
       "    </tr>\n",
       "    <tr>\n",
       "      <th>21747366</th>\n",
       "      <td>21747371</td>\n",
       "      <td>546560</td>\n",
       "      <td>Half-Life: Alyx</td>\n",
       "      <td>65645125</td>\n",
       "      <td>english</td>\n",
       "      <td>Holy balls</td>\n",
       "      <td>2020-03-23 18:05:04</td>\n",
       "      <td>2020-03-23 18:05:04</td>\n",
       "      <td>True</td>\n",
       "      <td>0</td>\n",
       "      <td>...</td>\n",
       "      <td>True</td>\n",
       "      <td>False</td>\n",
       "      <td>False</td>\n",
       "      <td>76561197967033932</td>\n",
       "      <td>431</td>\n",
       "      <td>7</td>\n",
       "      <td>432.000000</td>\n",
       "      <td>0.000000</td>\n",
       "      <td>29.000000</td>\n",
       "      <td>2020-04-11 17:56:56</td>\n",
       "    </tr>\n",
       "    <tr>\n",
       "      <th>21747367</th>\n",
       "      <td>21747372</td>\n",
       "      <td>546560</td>\n",
       "      <td>Half-Life: Alyx</td>\n",
       "      <td>65645115</td>\n",
       "      <td>english</td>\n",
       "      <td>A tripod thing bears down on you, it looks imm...</td>\n",
       "      <td>2020-03-23 18:04:53</td>\n",
       "      <td>2020-03-23 18:04:53</td>\n",
       "      <td>True</td>\n",
       "      <td>0</td>\n",
       "      <td>...</td>\n",
       "      <td>False</td>\n",
       "      <td>False</td>\n",
       "      <td>False</td>\n",
       "      <td>76561198046495482</td>\n",
       "      <td>70</td>\n",
       "      <td>10</td>\n",
       "      <td>3296.000000</td>\n",
       "      <td>15.000000</td>\n",
       "      <td>24.000000</td>\n",
       "      <td>2021-01-19 18:17:11</td>\n",
       "    </tr>\n",
       "    <tr>\n",
       "      <th>21747368</th>\n",
       "      <td>21747373</td>\n",
       "      <td>546560</td>\n",
       "      <td>Half-Life: Alyx</td>\n",
       "      <td>65645100</td>\n",
       "      <td>english</td>\n",
       "      <td>Honestly this is the best vr game ever</td>\n",
       "      <td>2020-03-23 18:04:33</td>\n",
       "      <td>2020-03-23 18:04:33</td>\n",
       "      <td>True</td>\n",
       "      <td>0</td>\n",
       "      <td>...</td>\n",
       "      <td>True</td>\n",
       "      <td>False</td>\n",
       "      <td>False</td>\n",
       "      <td>76561198176379749</td>\n",
       "      <td>79</td>\n",
       "      <td>17</td>\n",
       "      <td>2654.000000</td>\n",
       "      <td>0.000000</td>\n",
       "      <td>34.000000</td>\n",
       "      <td>2020-06-08 16:29:13</td>\n",
       "    </tr>\n",
       "    <tr>\n",
       "      <th>21747369</th>\n",
       "      <td>21747374</td>\n",
       "      <td>546560</td>\n",
       "      <td>Half-Life: Alyx</td>\n",
       "      <td>65645066</td>\n",
       "      <td>english</td>\n",
       "      <td>Smooth turning is not working right now.\\nIt a...</td>\n",
       "      <td>2020-03-23 18:03:51</td>\n",
       "      <td>2020-04-08 21:47:02</td>\n",
       "      <td>True</td>\n",
       "      <td>0</td>\n",
       "      <td>...</td>\n",
       "      <td>True</td>\n",
       "      <td>False</td>\n",
       "      <td>False</td>\n",
       "      <td>76561198041763187</td>\n",
       "      <td>140</td>\n",
       "      <td>3</td>\n",
       "      <td>210.000000</td>\n",
       "      <td>0.000000</td>\n",
       "      <td>12.000000</td>\n",
       "      <td>2020-05-17 11:36:55</td>\n",
       "    </tr>\n",
       "    <tr>\n",
       "      <th>21747370</th>\n",
       "      <td>21747375</td>\n",
       "      <td>546560</td>\n",
       "      <td>Half-Life: Alyx</td>\n",
       "      <td>65644930</td>\n",
       "      <td>schinese</td>\n",
       "      <td>WMR加载中闪退，无法进入游戏\\nWMR Flashback in Load，cant pl...</td>\n",
       "      <td>2020-03-23 18:01:45</td>\n",
       "      <td>2020-06-13 15:06:40</td>\n",
       "      <td>True</td>\n",
       "      <td>0</td>\n",
       "      <td>...</td>\n",
       "      <td>True</td>\n",
       "      <td>False</td>\n",
       "      <td>False</td>\n",
       "      <td>76561198116747069</td>\n",
       "      <td>253</td>\n",
       "      <td>7</td>\n",
       "      <td>1062.000000</td>\n",
       "      <td>0.000000</td>\n",
       "      <td>8.000000</td>\n",
       "      <td>2020-10-16 14:12:23</td>\n",
       "    </tr>\n",
       "  </tbody>\n",
       "</table>\n",
       "<p>15707892 rows × 23 columns</p>\n",
       "</div>"
      ],
      "text/plain": [
       "          Unnamed: 0  app_id                  app_name  review_id  language  \\\n",
       "0                  0  292030  The Witcher 3: Wild Hunt   85185598  schinese   \n",
       "1                  1  292030  The Witcher 3: Wild Hunt   85185250  schinese   \n",
       "2                  2  292030  The Witcher 3: Wild Hunt   85185111  schinese   \n",
       "3                  3  292030  The Witcher 3: Wild Hunt   85184605   english   \n",
       "4                  4  292030  The Witcher 3: Wild Hunt   85184287  schinese   \n",
       "...              ...     ...                       ...        ...       ...   \n",
       "21747366    21747371  546560           Half-Life: Alyx   65645125   english   \n",
       "21747367    21747372  546560           Half-Life: Alyx   65645115   english   \n",
       "21747368    21747373  546560           Half-Life: Alyx   65645100   english   \n",
       "21747369    21747374  546560           Half-Life: Alyx   65645066   english   \n",
       "21747370    21747375  546560           Half-Life: Alyx   65644930  schinese   \n",
       "\n",
       "                                                     review  \\\n",
       "0                                   不玩此生遗憾，RPG游戏里的天花板，太吸引人了   \n",
       "1                                        拔DIAO无情打桩机--杰洛特!!!   \n",
       "2                                                     巫师3NB   \n",
       "3         One of the best RPG's of all time, worthy of a...   \n",
       "4                                                        大作   \n",
       "...                                                     ...   \n",
       "21747366                                         Holy balls   \n",
       "21747367  A tripod thing bears down on you, it looks imm...   \n",
       "21747368             Honestly this is the best vr game ever   \n",
       "21747369  Smooth turning is not working right now.\\nIt a...   \n",
       "21747370  WMR加载中闪退，无法进入游戏\\nWMR Flashback in Load，cant pl...   \n",
       "\n",
       "           timestamp_created   timestamp_updated  recommended  votes_helpful  \\\n",
       "0        2021-01-23 06:00:29 2021-01-23 06:00:29         True              0   \n",
       "1        2021-01-23 05:50:30 2021-01-23 05:50:30         True              0   \n",
       "2        2021-01-23 05:46:40 2021-01-23 05:46:40         True              0   \n",
       "3        2021-01-23 05:32:50 2021-01-23 05:32:50         True              0   \n",
       "4        2021-01-23 05:23:47 2021-01-23 05:23:47         True              0   \n",
       "...                      ...                 ...          ...            ...   \n",
       "21747366 2020-03-23 18:05:04 2020-03-23 18:05:04         True              0   \n",
       "21747367 2020-03-23 18:04:53 2020-03-23 18:04:53         True              0   \n",
       "21747368 2020-03-23 18:04:33 2020-03-23 18:04:33         True              0   \n",
       "21747369 2020-03-23 18:03:51 2020-04-08 21:47:02         True              0   \n",
       "21747370 2020-03-23 18:01:45 2020-06-13 15:06:40         True              0   \n",
       "\n",
       "          ...  steam_purchase  received_for_free  written_during_early_access  \\\n",
       "0         ...            True              False                        False   \n",
       "1         ...            True              False                        False   \n",
       "2         ...            True              False                        False   \n",
       "3         ...            True              False                        False   \n",
       "4         ...            True              False                        False   \n",
       "...       ...             ...                ...                          ...   \n",
       "21747366  ...            True              False                        False   \n",
       "21747367  ...           False              False                        False   \n",
       "21747368  ...            True              False                        False   \n",
       "21747369  ...            True              False                        False   \n",
       "21747370  ...            True              False                        False   \n",
       "\n",
       "             author.steamid  author.num_games_owned  author.num_reviews  \\\n",
       "0         76561199095369542                       6                   2   \n",
       "1         76561198949504115                      30                  10   \n",
       "2         76561199090098988                       5                   1   \n",
       "3         76561199054755373                       5                   3   \n",
       "4         76561199028326951                       7                   4   \n",
       "...                     ...                     ...                 ...   \n",
       "21747366  76561197967033932                     431                   7   \n",
       "21747367  76561198046495482                      70                  10   \n",
       "21747368  76561198176379749                      79                  17   \n",
       "21747369  76561198041763187                     140                   3   \n",
       "21747370  76561198116747069                     253                   7   \n",
       "\n",
       "          author.playtime_forever  author.playtime_last_two_weeks  \\\n",
       "0                     1909.000000                     1448.000000   \n",
       "1                     2764.000000                     2743.000000   \n",
       "2                     1061.000000                     1061.000000   \n",
       "3                     5587.000000                     3200.000000   \n",
       "4                      217.000000                       42.000000   \n",
       "...                           ...                             ...   \n",
       "21747366               432.000000                        0.000000   \n",
       "21747367              3296.000000                       15.000000   \n",
       "21747368              2654.000000                        0.000000   \n",
       "21747369               210.000000                        0.000000   \n",
       "21747370              1062.000000                        0.000000   \n",
       "\n",
       "          author.playtime_at_review  author.last_played  \n",
       "0                       1909.000000 2021-01-22 19:23:03  \n",
       "1                       2674.000000 2021-01-23 07:18:27  \n",
       "2                       1060.000000 2021-01-23 06:36:17  \n",
       "3                       5524.000000 2021-01-23 06:35:44  \n",
       "4                        217.000000 2021-01-16 09:10:49  \n",
       "...                             ...                 ...  \n",
       "21747366                  29.000000 2020-04-11 17:56:56  \n",
       "21747367                  24.000000 2021-01-19 18:17:11  \n",
       "21747368                  34.000000 2020-06-08 16:29:13  \n",
       "21747369                  12.000000 2020-05-17 11:36:55  \n",
       "21747370                   8.000000 2020-10-16 14:12:23  \n",
       "\n",
       "[15707892 rows x 23 columns]"
      ]
     },
     "execution_count": 54,
     "metadata": {},
     "output_type": "execute_result"
    }
   ],
   "source": [
    "new_df=filter_data_on_language(data, languages)\n",
    "new_df"
   ]
  },
  {
   "cell_type": "markdown",
   "metadata": {},
   "source": [
    "#### RQ 4.3 - PERCENTAGE OF FUNNY VOTES ON NEW DF FILTERED ON LAGUAGES"
   ]
  },
  {
   "cell_type": "code",
   "execution_count": 55,
   "metadata": {},
   "outputs": [
    {
     "data": {
      "text/plain": [
       "1918752"
      ]
     },
     "execution_count": 55,
     "metadata": {},
     "output_type": "execute_result"
    }
   ],
   "source": [
    "n_funny=len(new_df[new_df['votes_funny']>=1])\n",
    "n_funny"
   ]
  },
  {
   "cell_type": "code",
   "execution_count": 56,
   "metadata": {},
   "outputs": [
    {
     "data": {
      "text/plain": [
       "12.215210035821483"
      ]
     },
     "execution_count": 56,
     "metadata": {},
     "output_type": "execute_result"
    }
   ],
   "source": [
    "perc_funny=n_funny/len(new_df)*100\n",
    "perc_funny"
   ]
  },
  {
   "cell_type": "code",
   "execution_count": 57,
   "metadata": {},
   "outputs": [
    {
     "data": {
      "text/plain": [
       "87.78478996417851"
      ]
     },
     "execution_count": 57,
     "metadata": {},
     "output_type": "execute_result"
    }
   ],
   "source": [
    "perc_not_funny= 100-perc_funny\n",
    "perc_not_funny"
   ]
  },
  {
   "cell_type": "markdown",
   "metadata": {},
   "source": [
    "The 12.2% of the reviews of the reviews filtered on the top 3 languages were voted funny. \n",
    "\n",
    "Now, it would be interesting to see the distribution per language; we decided to report also this analysis. "
   ]
  },
  {
   "cell_type": "code",
   "execution_count": 58,
   "metadata": {},
   "outputs": [
    {
     "data": {
      "text/plain": [
       "language\n",
       "english     1083556\n",
       "russian      391018\n",
       "schinese     444178\n",
       "Name: votes_funny, dtype: int64"
      ]
     },
     "execution_count": 58,
     "metadata": {},
     "output_type": "execute_result"
    }
   ],
   "source": [
    "n_funny_language=new_df.groupby('language')['votes_funny'].apply(lambda x: x[x >= 1].count())\n",
    "n_funny_language"
   ]
  },
  {
   "cell_type": "code",
   "execution_count": 59,
   "metadata": {},
   "outputs": [
    {
     "data": {
      "text/plain": [
       "language\n",
       "english    6.898163\n",
       "russian    2.489309\n",
       "schinese   2.827738\n",
       "Name: votes_funny, dtype: float64"
      ]
     },
     "execution_count": 59,
     "metadata": {},
     "output_type": "execute_result"
    }
   ],
   "source": [
    "perc_funny_language=n_funny_language/len(new_df)*100\n",
    "perc_funny_language"
   ]
  },
  {
   "cell_type": "code",
   "execution_count": 60,
   "metadata": {},
   "outputs": [
    {
     "data": {
      "text/plain": [
       "<function matplotlib.pyplot.show(*args, **kw)>"
      ]
     },
     "execution_count": 60,
     "metadata": {},
     "output_type": "execute_result"
    },
    {
     "data": {
      "image/png": "[encoded data removed]",
      "text/plain": [
       "<Figure size 432x288 with 1 Axes>"
      ]
     },
     "metadata": {},
     "output_type": "display_data"
    }
   ],
   "source": [
    "labels=['english', 'schinese', 'russian', 'perc_notfunny']\n",
    "perc_notfunny=100-perc_funny\n",
    "funny_perc_language=[6.895524, 2.487627, 2.825172, perc_notfunny]\n",
    "\n",
    "plt.title('Percentage of reviews considered funny according to the top3 languages used')\n",
    "plt.pie(funny_perc_language, labels=labels, autopct='%1.2f')\n",
    "plt.show"
   ]
  },
  {
   "cell_type": "markdown",
   "metadata": {},
   "source": [
    "#### RQ 4.4 - PERCENTAGE OF HELPFUL VOTES ON NEW DF FILTERED ON LAGUAGES"
   ]
  },
  {
   "cell_type": "code",
   "execution_count": 61,
   "metadata": {},
   "outputs": [
    {
     "data": {
      "text/plain": [
       "4583438"
      ]
     },
     "execution_count": 61,
     "metadata": {},
     "output_type": "execute_result"
    }
   ],
   "source": [
    "n_helpful=len(new_df[new_df['votes_helpful']>=1])\n",
    "n_helpful"
   ]
  },
  {
   "cell_type": "code",
   "execution_count": 62,
   "metadata": {},
   "outputs": [
    {
     "data": {
      "text/plain": [
       "29.179204949970373"
      ]
     },
     "execution_count": 62,
     "metadata": {},
     "output_type": "execute_result"
    }
   ],
   "source": [
    "perc_helpful=n_helpful/len(new_df)*100\n",
    "perc_helpful"
   ]
  },
  {
   "cell_type": "markdown",
   "metadata": {},
   "source": [
    "The 29.2% of the reviews were voted as helpful. \n",
    "\n",
    "As we did in the prevoius point, we will report also the analysis per language."
   ]
  },
  {
   "cell_type": "code",
   "execution_count": 63,
   "metadata": {},
   "outputs": [
    {
     "data": {
      "text/plain": [
       "language\n",
       "english     2807795\n",
       "russian      832217\n",
       "schinese     943426\n",
       "Name: votes_helpful, dtype: int64"
      ]
     },
     "execution_count": 63,
     "metadata": {},
     "output_type": "execute_result"
    }
   ],
   "source": [
    "n_helpful_language=new_df.groupby('language')['votes_helpful'].apply(lambda x: x[x >= 1].count())\n",
    "n_helpful_language"
   ]
  },
  {
   "cell_type": "code",
   "execution_count": 64,
   "metadata": {},
   "outputs": [
    {
     "data": {
      "text/plain": [
       "language\n",
       "english    17.875059\n",
       "russian     5.298082\n",
       "schinese    6.006064\n",
       "Name: votes_helpful, dtype: float64"
      ]
     },
     "execution_count": 64,
     "metadata": {},
     "output_type": "execute_result"
    }
   ],
   "source": [
    "perc_helpful_language=n_helpful_language/len(new_df)*100\n",
    "perc_helpful_language"
   ]
  },
  {
   "cell_type": "code",
   "execution_count": 65,
   "metadata": {},
   "outputs": [
    {
     "data": {
      "text/plain": [
       "<function matplotlib.pyplot.show(*args, **kw)>"
      ]
     },
     "execution_count": 65,
     "metadata": {},
     "output_type": "execute_result"
    },
    {
     "data": {
      "image/png": "[encoded data removed]",
      "text/plain": [
       "<Figure size 432x288 with 1 Axes>"
      ]
     },
     "metadata": {},
     "output_type": "display_data"
    }
   ],
   "source": [
    "labels=['english', 'schinese', 'russian', 'perc_nothelpful']\n",
    "perc_nothelpful=100-perc_helpful\n",
    "helpful_perc_language=[17.866650, 5.294812, 6.001262, perc_nothelpful]\n",
    "\n",
    "plt.title('Percentage of reviews considered helpful according to the top3 languages used')\n",
    "plt.pie(helpful_perc_language, labels=labels, autopct='%1.2f')\n",
    "plt.show"
   ]
  },
  {
   "cell_type": "markdown",
   "metadata": {},
   "source": [
    "Thanks to this plot we can see that 17.87% voted helpful are reviewed in english, il 6% in russian, il 5.30% in schinese. "
   ]
  },
  {
   "cell_type": "markdown",
   "metadata": {},
   "source": [
    "### [RQ5] The reviews' authors are users from the game that provide their opinion on it. Now you can check how often they make reviews.\n",
    "\n",
    "\n",
    "Plot the top 10 most popular reviewers and the number of reviews.\n",
    "What applications did the most popular author review?\n",
    "How many applications did he purchase, and how many did he get as free? Provide the number (count) and the percentage.\n",
    "How many of the applications he purchased reviewed positively, and how many negatively? How about the applications he received for free?"
   ]
  },
  {
   "cell_type": "markdown",
   "metadata": {},
   "source": [
    "#### RQ 5.1 - TOP 10 POPULAR REVIERS AND NUMBER OF REVIEWS"
   ]
  },
  {
   "cell_type": "code",
   "execution_count": 66,
   "metadata": {},
   "outputs": [
    {
     "data": {
      "text/plain": [
       "76561198062813911    149\n",
       "76561198315585536    132\n",
       "76561198192166873    107\n",
       "76561198239163744    106\n",
       "76561198045381877    103\n",
       "                    ... \n",
       "76561198253020754      1\n",
       "76561198109326238      1\n",
       "76561198322721026      1\n",
       "76561198016622209      1\n",
       "76561198046495482      1\n",
       "Name: author.steamid, Length: 12381952, dtype: int64"
      ]
     },
     "execution_count": 66,
     "metadata": {},
     "output_type": "execute_result"
    }
   ],
   "source": [
    "#n reviews per steamid -- most popular reviewers = the one which have the highest number of reviews \n",
    "numreviews_per_author=data['author.steamid'].value_counts()\n",
    "numreviews_per_author"
   ]
  },
  {
   "cell_type": "code",
   "execution_count": 67,
   "metadata": {},
   "outputs": [
    {
     "data": {
      "text/plain": [
       "76561198062813911    149\n",
       "76561198315585536    132\n",
       "76561198192166873    107\n",
       "76561198239163744    106\n",
       "76561198045381877    103\n",
       "76561198064946151    100\n",
       "76561198013146396     99\n",
       "76561198027973295     91\n",
       "76561197969749884     88\n",
       "76561197989746995     86\n",
       "Name: author.steamid, dtype: int64"
      ]
     },
     "execution_count": 67,
     "metadata": {},
     "output_type": "execute_result"
    }
   ],
   "source": [
    "author_topten=numreviews_per_author[0:10]\n",
    "author_topten"
   ]
  },
  {
   "cell_type": "code",
   "execution_count": 68,
   "metadata": {},
   "outputs": [
    {
     "data": {
      "text/plain": [
       "<matplotlib.axes._subplots.AxesSubplot at 0x7fdc1c5545b0>"
      ]
     },
     "execution_count": 68,
     "metadata": {},
     "output_type": "execute_result"
    },
    {
     "data": {
      "image/png": "[encoded data removed]",
      "text/plain": [
       "<Figure size 432x288 with 1 Axes>"
      ]
     },
     "metadata": {
      "needs_background": "light"
     },
     "output_type": "display_data"
    }
   ],
   "source": [
    "author_topten.plot.bar(xlabel='Author Steam ID', ylabel='Number of reviews', \n",
    "                       title='Top 10 popular reviewers and number of reviews')"
   ]
  },
  {
   "cell_type": "markdown",
   "metadata": {},
   "source": [
    "#### RQ 5.2 - What applications did the most popular author review?"
   ]
  },
  {
   "cell_type": "code",
   "execution_count": 69,
   "metadata": {},
   "outputs": [
    {
     "data": {
      "text/plain": [
       "76561198062813911    149\n",
       "Name: author.steamid, dtype: int64"
      ]
     },
     "execution_count": 69,
     "metadata": {},
     "output_type": "execute_result"
    }
   ],
   "source": [
    "numreviews_per_author=data['author.steamid'].value_counts()\n",
    "numreviews_per_author.head(1)\n",
    "#here we knew that the most popular author is 76561198062813911"
   ]
  },
  {
   "cell_type": "code",
   "execution_count": 70,
   "metadata": {},
   "outputs": [
    {
     "data": {
      "text/html": [
       "<div>\n",
       "<style scoped>\n",
       "    .dataframe tbody tr th:only-of-type {\n",
       "        vertical-align: middle;\n",
       "    }\n",
       "\n",
       "    .dataframe tbody tr th {\n",
       "        vertical-align: top;\n",
       "    }\n",
       "\n",
       "    .dataframe thead th {\n",
       "        text-align: right;\n",
       "    }\n",
       "</style>\n",
       "<table border=\"1\" class=\"dataframe\">\n",
       "  <thead>\n",
       "    <tr style=\"text-align: right;\">\n",
       "      <th></th>\n",
       "      <th>author.steamid</th>\n",
       "      <th>app_name</th>\n",
       "    </tr>\n",
       "  </thead>\n",
       "  <tbody>\n",
       "    <tr>\n",
       "      <th>0</th>\n",
       "      <td>76561199095369542</td>\n",
       "      <td>The Witcher 3: Wild Hunt</td>\n",
       "    </tr>\n",
       "    <tr>\n",
       "      <th>1</th>\n",
       "      <td>76561198949504115</td>\n",
       "      <td>The Witcher 3: Wild Hunt</td>\n",
       "    </tr>\n",
       "    <tr>\n",
       "      <th>2</th>\n",
       "      <td>76561199090098988</td>\n",
       "      <td>The Witcher 3: Wild Hunt</td>\n",
       "    </tr>\n",
       "    <tr>\n",
       "      <th>3</th>\n",
       "      <td>76561199054755373</td>\n",
       "      <td>The Witcher 3: Wild Hunt</td>\n",
       "    </tr>\n",
       "    <tr>\n",
       "      <th>4</th>\n",
       "      <td>76561199028326951</td>\n",
       "      <td>The Witcher 3: Wild Hunt</td>\n",
       "    </tr>\n",
       "    <tr>\n",
       "      <th>...</th>\n",
       "      <td>...</td>\n",
       "      <td>...</td>\n",
       "    </tr>\n",
       "    <tr>\n",
       "      <th>21747366</th>\n",
       "      <td>76561197967033932</td>\n",
       "      <td>Half-Life: Alyx</td>\n",
       "    </tr>\n",
       "    <tr>\n",
       "      <th>21747367</th>\n",
       "      <td>76561198046495482</td>\n",
       "      <td>Half-Life: Alyx</td>\n",
       "    </tr>\n",
       "    <tr>\n",
       "      <th>21747368</th>\n",
       "      <td>76561198176379749</td>\n",
       "      <td>Half-Life: Alyx</td>\n",
       "    </tr>\n",
       "    <tr>\n",
       "      <th>21747369</th>\n",
       "      <td>76561198041763187</td>\n",
       "      <td>Half-Life: Alyx</td>\n",
       "    </tr>\n",
       "    <tr>\n",
       "      <th>21747370</th>\n",
       "      <td>76561198116747069</td>\n",
       "      <td>Half-Life: Alyx</td>\n",
       "    </tr>\n",
       "  </tbody>\n",
       "</table>\n",
       "<p>21687951 rows × 2 columns</p>\n",
       "</div>"
      ],
      "text/plain": [
       "             author.steamid                  app_name\n",
       "0         76561199095369542  The Witcher 3: Wild Hunt\n",
       "1         76561198949504115  The Witcher 3: Wild Hunt\n",
       "2         76561199090098988  The Witcher 3: Wild Hunt\n",
       "3         76561199054755373  The Witcher 3: Wild Hunt\n",
       "4         76561199028326951  The Witcher 3: Wild Hunt\n",
       "...                     ...                       ...\n",
       "21747366  76561197967033932           Half-Life: Alyx\n",
       "21747367  76561198046495482           Half-Life: Alyx\n",
       "21747368  76561198176379749           Half-Life: Alyx\n",
       "21747369  76561198041763187           Half-Life: Alyx\n",
       "21747370  76561198116747069           Half-Life: Alyx\n",
       "\n",
       "[21687951 rows x 2 columns]"
      ]
     },
     "execution_count": 70,
     "metadata": {},
     "output_type": "execute_result"
    }
   ],
   "source": [
    "data[['author.steamid', 'app_name']]"
   ]
  },
  {
   "cell_type": "code",
   "execution_count": 71,
   "metadata": {},
   "outputs": [
    {
     "data": {
      "text/plain": [
       "512675                     Half-Life\n",
       "539037        Counter-Strike: Source\n",
       "658130      Half-Life 2: Episode Two\n",
       "849477                      Portal 2\n",
       "1549581                  Garry's Mod\n",
       "                      ...           \n",
       "21578107               Hollow Knight\n",
       "21624890               Day of Infamy\n",
       "21651066                  SimAirport\n",
       "21656340               Dead Rising 4\n",
       "21672218    Styx: Shards of Darkness\n",
       "Name: app_name, Length: 149, dtype: object"
      ]
     },
     "execution_count": 71,
     "metadata": {},
     "output_type": "execute_result"
    }
   ],
   "source": [
    "#here by knowing the most popular author review we can define which \n",
    "#apps he reviewed\n",
    "data.loc[data['author.steamid']==76561198062813911, 'app_name']\n"
   ]
  },
  {
   "cell_type": "markdown",
   "metadata": {},
   "source": [
    "#### RQ 5.3 - NUMBER AND PERCENTAGE OF PURCHASED APPS AND OF FREE APPS OF THE MOST POPULAR AUTHOR"
   ]
  },
  {
   "cell_type": "code",
   "execution_count": 72,
   "metadata": {},
   "outputs": [
    {
     "name": "stdout",
     "output_type": "stream",
     "text": [
      "110 number of purchases\n"
     ]
    }
   ],
   "source": [
    "top_author_purchase=data[(data['author.steamid'] == 76561198062813911) & (data['steam_purchase']==True)]\n",
    "print(len(top_author_purchase), 'number of purchases')\n",
    "#number he made purchase =110"
   ]
  },
  {
   "cell_type": "code",
   "execution_count": 74,
   "metadata": {},
   "outputs": [
    {
     "name": "stdout",
     "output_type": "stream",
     "text": [
      "149 is total number of values in steam_purchase\n"
     ]
    }
   ],
   "source": [
    "tt_purchase_ofall=data.loc[data['author.steamid']== 76561198062813911, 'steam_purchase']\n",
    "print(len(tt_purchase_ofall),'is total number of values in steam_purchase')\n",
    "#we got all values as well as true and false"
   ]
  },
  {
   "cell_type": "code",
   "execution_count": 76,
   "metadata": {},
   "outputs": [
    {
     "name": "stdout",
     "output_type": "stream",
     "text": [
      "73.8255033557047 % he made positive purchase\n"
     ]
    }
   ],
   "source": [
    "percent=len(top_author_purchase)*100/len(tt_purchase_ofall)\n",
    "print(percent,'% he made positive purchase')"
   ]
  },
  {
   "cell_type": "code",
   "execution_count": 77,
   "metadata": {},
   "outputs": [
    {
     "name": "stdout",
     "output_type": "stream",
     "text": [
      "4 is the number of free apps he received\n"
     ]
    }
   ],
   "source": [
    "top_author_free=data[(data['author.steamid'] == 76561198062813911) & (data['received_for_free']==True)]\n",
    "print(len(top_author_free),'is the number of free apps he received')\n",
    "#it is the number of free purchases =4"
   ]
  },
  {
   "cell_type": "code",
   "execution_count": 78,
   "metadata": {},
   "outputs": [
    {
     "name": "stdout",
     "output_type": "stream",
     "text": [
      "149 is total number of values in received_for_free\n"
     ]
    }
   ],
   "source": [
    "tt_free_ofall=data.loc[data['author.steamid']== 76561198062813911, 'received_for_free']\n",
    "print(len(tt_free_ofall),'is total number of values in received_for_free')\n",
    "#total number of received_for_free"
   ]
  },
  {
   "cell_type": "code",
   "execution_count": 79,
   "metadata": {},
   "outputs": [
    {
     "name": "stdout",
     "output_type": "stream",
     "text": [
      "2.684563758389262 % he received for free\n"
     ]
    }
   ],
   "source": [
    "percent_of_free=len(top_author_free)*100/len(tt_free_ofall)\n",
    "print(percent_of_free,'% he received for free')"
   ]
  },
  {
   "cell_type": "markdown",
   "metadata": {},
   "source": [
    "#### RQ 5.4 - N. OF APPS REVIEWED POSITIVELY AND NEGATIVELY"
   ]
  },
  {
   "cell_type": "code",
   "execution_count": 80,
   "metadata": {
    "tags": []
   },
   "outputs": [
    {
     "name": "stdout",
     "output_type": "stream",
     "text": [
      "108 he purchased reviewed positively\n"
     ]
    }
   ],
   "source": [
    "top_author_review_pos_purchase=data[(data['author.steamid'] == 76561198062813911) & (data['steam_purchase']==True) & (data['recommended']==True)]\n",
    "print(len(top_author_review_pos_purchase),'he purchased reviewed positively')"
   ]
  },
  {
   "cell_type": "code",
   "execution_count": 81,
   "metadata": {},
   "outputs": [
    {
     "name": "stdout",
     "output_type": "stream",
     "text": [
      "2 he purchased reviewed negatively\n"
     ]
    }
   ],
   "source": [
    "top_author_review_neg_purchase=data[(data['author.steamid'] == 76561198062813911) & (data['steam_purchase']==True) & (data['recommended']==False)]\n",
    "print(len(top_author_review_neg_purchase),'he purchased reviewed negatively')"
   ]
  },
  {
   "cell_type": "code",
   "execution_count": 82,
   "metadata": {},
   "outputs": [
    {
     "name": "stdout",
     "output_type": "stream",
     "text": [
      "4 he received for free reviewed positively\n"
     ]
    }
   ],
   "source": [
    "top_author_review_pos_free=data[(data['author.steamid'] == 76561198062813911) & (data['received_for_free']==True)& (data['recommended']==True)]\n",
    "print(len(top_author_review_pos_free),'he received for free reviewed positively')"
   ]
  },
  {
   "cell_type": "code",
   "execution_count": 83,
   "metadata": {},
   "outputs": [
    {
     "name": "stdout",
     "output_type": "stream",
     "text": [
      "0 he received for free reviewed negatively\n"
     ]
    }
   ],
   "source": [
    "top_author_review_neg_free=data[(data['author.steamid'] == 76561198062813911) & (data['received_for_free']==True)& (data['recommended']==False)]\n",
    "print(len(top_author_review_neg_free),'he received for free reviewed negatively')"
   ]
  },
  {
   "cell_type": "markdown",
   "metadata": {},
   "source": [
    "### [RQ6]  It's time to get information from the updates that a user does to his reviews."
   ]
  },
  {
   "cell_type": "markdown",
   "metadata": {},
   "source": [
    "#### RQ 6.1 - AVG TIME BEFORE UPDATING A REVIEW"
   ]
  },
  {
   "cell_type": "code",
   "execution_count": 124,
   "metadata": {},
   "outputs": [
    {
     "name": "stdout",
     "output_type": "stream",
     "text": [
      "0           0 days 00:00:00\n",
      "1           0 days 00:00:00\n",
      "2           0 days 00:00:00\n",
      "3           0 days 00:00:00\n",
      "4           0 days 00:00:00\n",
      "                 ...       \n",
      "21747366    0 days 00:00:00\n",
      "21747367    0 days 00:00:00\n",
      "21747368    0 days 00:00:00\n",
      "21747369   16 days 03:43:11\n",
      "21747370   81 days 21:04:55\n",
      "Length: 21687951, dtype: timedelta64[ns]\n"
     ]
    }
   ],
   "source": [
    "#we are calculating the time it spent from when the review was \n",
    "#created to when it was updated \n",
    "duration=data['timestamp_updated']-data['timestamp_created']\n",
    "print(duration)"
   ]
  },
  {
   "cell_type": "code",
   "execution_count": 125,
   "metadata": {},
   "outputs": [
    {
     "data": {
      "text/plain": [
       "Timedelta('36 days 04:59:57.478384160')"
      ]
     },
     "execution_count": 125,
     "metadata": {},
     "output_type": "execute_result"
    }
   ],
   "source": [
    "#the average of updating the reviews\n",
    "upd_mean=duration.mean()\n",
    "upd_mean"
   ]
  },
  {
   "cell_type": "markdown",
   "metadata": {},
   "source": [
    "The average time it passes before a review is updated is of 36 days, and nearly 5 hours."
   ]
  },
  {
   "cell_type": "markdown",
   "metadata": {},
   "source": [
    "#### RQ 6.2 - TOP 3 AUTHORS THAT USUALLY UPDATE THEIR REVIEWS"
   ]
  },
  {
   "cell_type": "code",
   "execution_count": 126,
   "metadata": {},
   "outputs": [
    {
     "data": {
      "text/plain": [
       "2018-11-22 15:54:53    256\n",
       "2017-11-23 17:56:41    120\n",
       "2017-11-23 17:53:12    101\n",
       "Name: timestamp_updated, dtype: int64"
      ]
     },
     "execution_count": 126,
     "metadata": {},
     "output_type": "execute_result"
    }
   ],
   "source": [
    "num_upd_per_author1=data['timestamp_updated'].value_counts()\n",
    "author_topthree1=num_upd_per_author1[0:3]\n",
    "author_topthree1\n"
   ]
  },
  {
   "cell_type": "code",
   "execution_count": 127,
   "metadata": {},
   "outputs": [
    {
     "data": {
      "text/plain": [
       "76561198192166873    95\n",
       "76561198206999976    61\n",
       "76561198072450805    60\n",
       "Name: author.steamid, dtype: int64"
      ]
     },
     "execution_count": 127,
     "metadata": {},
     "output_type": "execute_result"
    }
   ],
   "source": [
    "#getting which were updated by checking it by condition like above and seeing which one \n",
    "#repeating and getting top 3\n",
    "\n",
    "tt=data.loc[data['timestamp_updated']!=data['timestamp_created'], 'author.steamid']\n",
    "top=tt.value_counts()\n",
    "top1=top[0:3]\n",
    "top1"
   ]
  },
  {
   "cell_type": "markdown",
   "metadata": {},
   "source": [
    "The top 3 author that usually update their review are the one with the following steamid:\n",
    "1. 76561198192166873 with 95 updates\n",
    "2. 76561198206999976 with 61 updates\n",
    "3. 76561198072450805 with 60 updates"
   ]
  },
  {
   "cell_type": "code",
   "execution_count": 128,
   "metadata": {},
   "outputs": [
    {
     "data": {
      "text/plain": [
       "<matplotlib.axes._subplots.AxesSubplot at 0x7fdcc3f5d280>"
      ]
     },
     "execution_count": 128,
     "metadata": {},
     "output_type": "execute_result"
    },
    {
     "data": {
      "image/png": "[encoded data removed]",
      "text/plain": [
       "<Figure size 432x288 with 1 Axes>"
      ]
     },
     "metadata": {
      "needs_background": "light"
     },
     "output_type": "display_data"
    }
   ],
   "source": [
    "top1.plot.bar(xlabel='Author Steam ID', ylabel='Number of updates', title='Top 3 uthors that usually update their reviews')"
   ]
  },
  {
   "cell_type": "markdown",
   "metadata": {},
   "source": [
    "### [RQ7] Of course, calculating probabilities is a job that any Data Scientist must know. Let's compute Some interesting figures."
   ]
  },
  {
   "cell_type": "markdown",
   "metadata": {},
   "source": [
    "#### RQ 7.1 - PROBABILITY THAT *WEIGHTED_VOTE_SCORE* >= 0.5"
   ]
  },
  {
   "cell_type": "markdown",
   "metadata": {},
   "source": [
    "To compute the probability that a review has a Weighted Vote Score equal or bigger than 0.5 we can consider the classical definition of probability. So this probability is equal to the number of reviews that have a Weighted Vote Score equal or bigger than 0.5 over the total number of reviews. "
   ]
  },
  {
   "cell_type": "code",
   "execution_count": 129,
   "metadata": {},
   "outputs": [
    {
     "data": {
      "text/plain": [
       "4775651"
      ]
     },
     "execution_count": 129,
     "metadata": {},
     "output_type": "execute_result"
    }
   ],
   "source": [
    "n_big_wvs=data.loc[(data['weighted_vote_score'] >= 0.5)].shape[0]\n",
    "n_big_wvs"
   ]
  },
  {
   "cell_type": "code",
   "execution_count": 130,
   "metadata": {},
   "outputs": [
    {
     "data": {
      "text/plain": [
       "21687951"
      ]
     },
     "execution_count": 130,
     "metadata": {},
     "output_type": "execute_result"
    }
   ],
   "source": [
    "n_reviews=len(data.weighted_vote_score)\n",
    "n_reviews"
   ]
  },
  {
   "cell_type": "code",
   "execution_count": 131,
   "metadata": {
    "tags": []
   },
   "outputs": [
    {
     "data": {
      "text/plain": [
       "0.22019834884355835"
      ]
     },
     "execution_count": 131,
     "metadata": {},
     "output_type": "execute_result"
    }
   ],
   "source": [
    "prob_big_wvs = n_big_wvs/n_reviews\n",
    "prob_big_wvs"
   ]
  },
  {
   "cell_type": "markdown",
   "metadata": {},
   "source": [
    "So, the probability that a review has a weighted vote score equal to or bigger than 0.5 is 0.22. "
   ]
  },
  {
   "cell_type": "markdown",
   "metadata": {},
   "source": [
    "#### RQ 7.2 - Probability that a review has at least one vote as funny given that the Weighted Vote Score is bigger than 0.5?"
   ]
  },
  {
   "cell_type": "markdown",
   "metadata": {},
   "source": [
    "The conditional probability is given by the following: $$ P(A|B)=\\frac{P(A \\cap B)}{P(B)}$$. "
   ]
  },
  {
   "cell_type": "markdown",
   "metadata": {},
   "source": [
    "To simplify, we consider only the variables we're interested in. So we create new boolean columns in the dataset that have value of 1 if the review has at least one vote as funny. "
   ]
  },
  {
   "cell_type": "code",
   "execution_count": 132,
   "metadata": {},
   "outputs": [],
   "source": [
    "pd.options.mode.chained_assignment = None"
   ]
  },
  {
   "cell_type": "code",
   "execution_count": 133,
   "metadata": {},
   "outputs": [],
   "source": [
    "data['one_funny_or_more'] = np.where(data['votes_funny']>=1, 1, 0)"
   ]
  },
  {
   "cell_type": "code",
   "execution_count": 134,
   "metadata": {},
   "outputs": [],
   "source": [
    "data['wvs_bigger_0.5'] = np.where(data['weighted_vote_score']>0.5, 1, 0)"
   ]
  },
  {
   "cell_type": "code",
   "execution_count": 135,
   "metadata": {},
   "outputs": [],
   "source": [
    "data['count']=1"
   ]
  },
  {
   "cell_type": "markdown",
   "metadata": {},
   "source": [
    "Now we create a new dataframe dropping all the columns we don't need."
   ]
  },
  {
   "cell_type": "code",
   "execution_count": 137,
   "metadata": {},
   "outputs": [
    {
     "data": {
      "text/html": [
       "<div>\n",
       "<style scoped>\n",
       "    .dataframe tbody tr th:only-of-type {\n",
       "        vertical-align: middle;\n",
       "    }\n",
       "\n",
       "    .dataframe tbody tr th {\n",
       "        vertical-align: top;\n",
       "    }\n",
       "\n",
       "    .dataframe thead th {\n",
       "        text-align: right;\n",
       "    }\n",
       "</style>\n",
       "<table border=\"1\" class=\"dataframe\">\n",
       "  <thead>\n",
       "    <tr style=\"text-align: right;\">\n",
       "      <th></th>\n",
       "      <th>one_funny_or_more</th>\n",
       "      <th>wvs_bigger_0.5</th>\n",
       "      <th>count</th>\n",
       "    </tr>\n",
       "  </thead>\n",
       "  <tbody>\n",
       "    <tr>\n",
       "      <th>0</th>\n",
       "      <td>0</td>\n",
       "      <td>0</td>\n",
       "      <td>1</td>\n",
       "    </tr>\n",
       "    <tr>\n",
       "      <th>1</th>\n",
       "      <td>0</td>\n",
       "      <td>0</td>\n",
       "      <td>1</td>\n",
       "    </tr>\n",
       "    <tr>\n",
       "      <th>2</th>\n",
       "      <td>0</td>\n",
       "      <td>0</td>\n",
       "      <td>1</td>\n",
       "    </tr>\n",
       "    <tr>\n",
       "      <th>3</th>\n",
       "      <td>0</td>\n",
       "      <td>0</td>\n",
       "      <td>1</td>\n",
       "    </tr>\n",
       "    <tr>\n",
       "      <th>4</th>\n",
       "      <td>0</td>\n",
       "      <td>0</td>\n",
       "      <td>1</td>\n",
       "    </tr>\n",
       "  </tbody>\n",
       "</table>\n",
       "</div>"
      ],
      "text/plain": [
       "   one_funny_or_more  wvs_bigger_0.5  count\n",
       "0                  0               0      1\n",
       "1                  0               0      1\n",
       "2                  0               0      1\n",
       "3                  0               0      1\n",
       "4                  0               0      1"
      ]
     },
     "execution_count": 137,
     "metadata": {},
     "output_type": "execute_result"
    }
   ],
   "source": [
    "new_df_prob=data[['one_funny_or_more', 'wvs_bigger_0.5', 'count']]\n",
    "new_df_prob.head()"
   ]
  },
  {
   "cell_type": "code",
   "execution_count": 138,
   "metadata": {},
   "outputs": [
    {
     "data": {
      "text/plain": [
       "21687951"
      ]
     },
     "execution_count": 138,
     "metadata": {},
     "output_type": "execute_result"
    }
   ],
   "source": [
    "len(new_df_prob)"
   ]
  },
  {
   "cell_type": "markdown",
   "metadata": {},
   "source": [
    "We then create a pivot table to summarize all the data we need to compute the probabilities."
   ]
  },
  {
   "cell_type": "code",
   "execution_count": 139,
   "metadata": {},
   "outputs": [
    {
     "data": {
      "text/html": [
       "<div>\n",
       "<style scoped>\n",
       "    .dataframe tbody tr th:only-of-type {\n",
       "        vertical-align: middle;\n",
       "    }\n",
       "\n",
       "    .dataframe tbody tr th {\n",
       "        vertical-align: top;\n",
       "    }\n",
       "\n",
       "    .dataframe thead th {\n",
       "        text-align: right;\n",
       "    }\n",
       "</style>\n",
       "<table border=\"1\" class=\"dataframe\">\n",
       "  <thead>\n",
       "    <tr style=\"text-align: right;\">\n",
       "      <th>wvs_bigger_0.5</th>\n",
       "      <th>0</th>\n",
       "      <th>1</th>\n",
       "    </tr>\n",
       "    <tr>\n",
       "      <th>one_funny_or_more</th>\n",
       "      <th></th>\n",
       "      <th></th>\n",
       "    </tr>\n",
       "  </thead>\n",
       "  <tbody>\n",
       "    <tr>\n",
       "      <th>0</th>\n",
       "      <td>15612429</td>\n",
       "      <td>3477618</td>\n",
       "    </tr>\n",
       "    <tr>\n",
       "      <th>1</th>\n",
       "      <td>1439726</td>\n",
       "      <td>1158178</td>\n",
       "    </tr>\n",
       "  </tbody>\n",
       "</table>\n",
       "</div>"
      ],
      "text/plain": [
       "wvs_bigger_0.5            0        1\n",
       "one_funny_or_more                   \n",
       "0                  15612429  3477618\n",
       "1                   1439726  1158178"
      ]
     },
     "execution_count": 139,
     "metadata": {},
     "output_type": "execute_result"
    }
   ],
   "source": [
    "pd.pivot_table(new_df_prob, values='count', index=['one_funny_or_more'], columns=['wvs_bigger_0.5'],\n",
    "               aggfunc=np.size, fill_value=0)"
   ]
  },
  {
   "cell_type": "code",
   "execution_count": 140,
   "metadata": {},
   "outputs": [
    {
     "data": {
      "text/plain": [
       "0.1197855897037023"
      ]
     },
     "execution_count": 140,
     "metadata": {},
     "output_type": "execute_result"
    }
   ],
   "source": [
    "p_funny=(1439726+1158178)/(15612429+3477618+1439726+1158178)\n",
    "p_funny"
   ]
  },
  {
   "cell_type": "code",
   "execution_count": 141,
   "metadata": {},
   "outputs": [
    {
     "data": {
      "text/plain": [
       "0.2137498374097212"
      ]
     },
     "execution_count": 141,
     "metadata": {},
     "output_type": "execute_result"
    }
   ],
   "source": [
    "p_wvs_bigger_0_5=(3477618+1158178)/(15612429+3477618+1439726+1158178)\n",
    "p_wvs_bigger_0_5"
   ]
  },
  {
   "cell_type": "code",
   "execution_count": 142,
   "metadata": {},
   "outputs": [
    {
     "data": {
      "text/plain": [
       "0.05340190965942333"
      ]
     },
     "execution_count": 142,
     "metadata": {},
     "output_type": "execute_result"
    }
   ],
   "source": [
    "p_funny_and_wvs_bigger=1158178/(15612429+3477618+1439726+1158178)\n",
    "p_funny_and_wvs_bigger"
   ]
  },
  {
   "cell_type": "code",
   "execution_count": 143,
   "metadata": {},
   "outputs": [
    {
     "data": {
      "text/plain": [
       "0.24983368552024288"
      ]
     },
     "execution_count": 143,
     "metadata": {},
     "output_type": "execute_result"
    }
   ],
   "source": [
    "cond_prob=p_funny_and_wvs_bigger/p_wvs_bigger_0_5\n",
    "cond_prob"
   ]
  },
  {
   "cell_type": "markdown",
   "metadata": {},
   "source": [
    "So the probability of getting at least one vote funny given that the weighted vote score is bigger than 0.5 is 25%. "
   ]
  },
  {
   "cell_type": "markdown",
   "metadata": {},
   "source": [
    "#### RQ 7.3 - Is the probability that “a review has at least one vote as funny” independent of the “probability that a review has a Weighted Vote Score equal or bigger than 0.5”?"
   ]
  },
  {
   "cell_type": "markdown",
   "metadata": {},
   "source": [
    "Now, to check if “a review has at least one vote as funny” is independent of the “probability that a review has a Weighted Vote Score equal or bigger than 0.5” we can verify the condition of probability independence, that is: $$ P(A \\cap B)=P(A)*P(B) $$"
   ]
  },
  {
   "cell_type": "markdown",
   "metadata": {},
   "source": [
    "Now, we will do the same steps as the previous point, but considering the *weighted vote score* equal or bigger than 0.5."
   ]
  },
  {
   "cell_type": "code",
   "execution_count": 144,
   "metadata": {},
   "outputs": [],
   "source": [
    "data['wvs_bigger_equal_0.5'] = np.where(data['weighted_vote_score']>=0.5, 1, 0)"
   ]
  },
  {
   "cell_type": "code",
   "execution_count": 145,
   "metadata": {},
   "outputs": [],
   "source": [
    "data['one_funny_or_more'] = np.where(data['votes_funny']>=1, 1, 0)"
   ]
  },
  {
   "cell_type": "code",
   "execution_count": 146,
   "metadata": {},
   "outputs": [],
   "source": [
    "data['count']=1"
   ]
  },
  {
   "cell_type": "code",
   "execution_count": 147,
   "metadata": {},
   "outputs": [
    {
     "data": {
      "text/html": [
       "<div>\n",
       "<style scoped>\n",
       "    .dataframe tbody tr th:only-of-type {\n",
       "        vertical-align: middle;\n",
       "    }\n",
       "\n",
       "    .dataframe tbody tr th {\n",
       "        vertical-align: top;\n",
       "    }\n",
       "\n",
       "    .dataframe thead th {\n",
       "        text-align: right;\n",
       "    }\n",
       "</style>\n",
       "<table border=\"1\" class=\"dataframe\">\n",
       "  <thead>\n",
       "    <tr style=\"text-align: right;\">\n",
       "      <th></th>\n",
       "      <th>one_funny_or_more</th>\n",
       "      <th>wvs_bigger_equal_0.5</th>\n",
       "      <th>count</th>\n",
       "    </tr>\n",
       "  </thead>\n",
       "  <tbody>\n",
       "    <tr>\n",
       "      <th>0</th>\n",
       "      <td>0</td>\n",
       "      <td>0</td>\n",
       "      <td>1</td>\n",
       "    </tr>\n",
       "    <tr>\n",
       "      <th>1</th>\n",
       "      <td>0</td>\n",
       "      <td>0</td>\n",
       "      <td>1</td>\n",
       "    </tr>\n",
       "    <tr>\n",
       "      <th>2</th>\n",
       "      <td>0</td>\n",
       "      <td>0</td>\n",
       "      <td>1</td>\n",
       "    </tr>\n",
       "    <tr>\n",
       "      <th>3</th>\n",
       "      <td>0</td>\n",
       "      <td>0</td>\n",
       "      <td>1</td>\n",
       "    </tr>\n",
       "    <tr>\n",
       "      <th>4</th>\n",
       "      <td>0</td>\n",
       "      <td>0</td>\n",
       "      <td>1</td>\n",
       "    </tr>\n",
       "  </tbody>\n",
       "</table>\n",
       "</div>"
      ],
      "text/plain": [
       "   one_funny_or_more  wvs_bigger_equal_0.5  count\n",
       "0                  0                     0      1\n",
       "1                  0                     0      1\n",
       "2                  0                     0      1\n",
       "3                  0                     0      1\n",
       "4                  0                     0      1"
      ]
     },
     "execution_count": 147,
     "metadata": {},
     "output_type": "execute_result"
    }
   ],
   "source": [
    "new_df_prob_2=data[['one_funny_or_more', 'wvs_bigger_equal_0.5', 'count']]\n",
    "new_df_prob_2.head()"
   ]
  },
  {
   "cell_type": "code",
   "execution_count": 148,
   "metadata": {},
   "outputs": [
    {
     "data": {
      "text/html": [
       "<div>\n",
       "<style scoped>\n",
       "    .dataframe tbody tr th:only-of-type {\n",
       "        vertical-align: middle;\n",
       "    }\n",
       "\n",
       "    .dataframe tbody tr th {\n",
       "        vertical-align: top;\n",
       "    }\n",
       "\n",
       "    .dataframe thead th {\n",
       "        text-align: right;\n",
       "    }\n",
       "</style>\n",
       "<table border=\"1\" class=\"dataframe\">\n",
       "  <thead>\n",
       "    <tr style=\"text-align: right;\">\n",
       "      <th>wvs_bigger_equal_0.5</th>\n",
       "      <th>0</th>\n",
       "      <th>1</th>\n",
       "    </tr>\n",
       "    <tr>\n",
       "      <th>one_funny_or_more</th>\n",
       "      <th></th>\n",
       "      <th></th>\n",
       "    </tr>\n",
       "  </thead>\n",
       "  <tbody>\n",
       "    <tr>\n",
       "      <th>0</th>\n",
       "      <td>15504453</td>\n",
       "      <td>3585594</td>\n",
       "    </tr>\n",
       "    <tr>\n",
       "      <th>1</th>\n",
       "      <td>1407847</td>\n",
       "      <td>1190057</td>\n",
       "    </tr>\n",
       "  </tbody>\n",
       "</table>\n",
       "</div>"
      ],
      "text/plain": [
       "wvs_bigger_equal_0.5         0        1\n",
       "one_funny_or_more                      \n",
       "0                     15504453  3585594\n",
       "1                      1407847  1190057"
      ]
     },
     "execution_count": 148,
     "metadata": {},
     "output_type": "execute_result"
    }
   ],
   "source": [
    "pd.pivot_table(new_df_prob_2, values='count', index=['one_funny_or_more'], columns=['wvs_bigger_equal_0.5'],\n",
    "               aggfunc=np.size, fill_value=0)"
   ]
  },
  {
   "cell_type": "code",
   "execution_count": 149,
   "metadata": {},
   "outputs": [
    {
     "data": {
      "text/plain": [
       "0.05480736039312522"
      ]
     },
     "execution_count": 149,
     "metadata": {},
     "output_type": "execute_result"
    }
   ],
   "source": [
    "#prob that the wvs score is bigger or equal to 0.5 AND at least one vote funny\n",
    "p_wvs_bigger_equal_and_funny=1191916/(15552123+3592176+1411156+1191916)\n",
    "p_wvs_bigger_equal_and_funny"
   ]
  },
  {
   "cell_type": "code",
   "execution_count": 150,
   "metadata": {},
   "outputs": [
    {
     "data": {
      "text/plain": [
       "0.21998484322541792"
      ]
     },
     "execution_count": 150,
     "metadata": {},
     "output_type": "execute_result"
    }
   ],
   "source": [
    "#prob that wvs score is bigger or equal to 0.5\n",
    "p_wvs_bigger_equal=(3592176+1191916)/(15552123+3592176+1411156+1191916)\n",
    "p_wvs_bigger_equal"
   ]
  },
  {
   "cell_type": "code",
   "execution_count": 151,
   "metadata": {},
   "outputs": [
    {
     "data": {
      "text/plain": [
       "False"
      ]
     },
     "execution_count": 151,
     "metadata": {},
     "output_type": "execute_result"
    }
   ],
   "source": [
    "#check if the condition is verified \n",
    "p_funny*p_wvs_bigger_equal_and_funny==p_funny_and_wvs_bigger"
   ]
  },
  {
   "cell_type": "markdown",
   "metadata": {},
   "source": [
    "Since this condition is not verified, the two events are not independent from each other. "
   ]
  },
  {
   "cell_type": "markdown",
   "metadata": {},
   "source": [
    "### [RQ8] Every decision you take in a data-based environment should be reinforced with charts, statistical tests and analysis methods to check if a hypothesis is correct or not."
   ]
  },
  {
   "cell_type": "markdown",
   "metadata": {},
   "source": [
    "#### RQ 8.1 - Difference in the Weighted Vote Score of reviews made in Chinese vs the ones made in Russian? Use an appropriate statistical test or technique and support your choice."
   ]
  },
  {
   "cell_type": "code",
   "execution_count": 152,
   "metadata": {},
   "outputs": [
    {
     "data": {
      "text/html": [
       "<div>\n",
       "<style scoped>\n",
       "    .dataframe tbody tr th:only-of-type {\n",
       "        vertical-align: middle;\n",
       "    }\n",
       "\n",
       "    .dataframe tbody tr th {\n",
       "        vertical-align: top;\n",
       "    }\n",
       "\n",
       "    .dataframe thead th {\n",
       "        text-align: right;\n",
       "    }\n",
       "</style>\n",
       "<table border=\"1\" class=\"dataframe\">\n",
       "  <thead>\n",
       "    <tr style=\"text-align: right;\">\n",
       "      <th></th>\n",
       "      <th>language</th>\n",
       "      <th>weighted_vote_score</th>\n",
       "    </tr>\n",
       "  </thead>\n",
       "  <tbody>\n",
       "    <tr>\n",
       "      <th>0</th>\n",
       "      <td>schinese</td>\n",
       "      <td>0.000000</td>\n",
       "    </tr>\n",
       "    <tr>\n",
       "      <th>1</th>\n",
       "      <td>schinese</td>\n",
       "      <td>0.000000</td>\n",
       "    </tr>\n",
       "    <tr>\n",
       "      <th>2</th>\n",
       "      <td>schinese</td>\n",
       "      <td>0.000000</td>\n",
       "    </tr>\n",
       "    <tr>\n",
       "      <th>3</th>\n",
       "      <td>english</td>\n",
       "      <td>0.000000</td>\n",
       "    </tr>\n",
       "    <tr>\n",
       "      <th>4</th>\n",
       "      <td>schinese</td>\n",
       "      <td>0.000000</td>\n",
       "    </tr>\n",
       "    <tr>\n",
       "      <th>...</th>\n",
       "      <td>...</td>\n",
       "      <td>...</td>\n",
       "    </tr>\n",
       "    <tr>\n",
       "      <th>21747366</th>\n",
       "      <td>english</td>\n",
       "      <td>0.000000</td>\n",
       "    </tr>\n",
       "    <tr>\n",
       "      <th>21747367</th>\n",
       "      <td>english</td>\n",
       "      <td>0.000000</td>\n",
       "    </tr>\n",
       "    <tr>\n",
       "      <th>21747368</th>\n",
       "      <td>english</td>\n",
       "      <td>0.474138</td>\n",
       "    </tr>\n",
       "    <tr>\n",
       "      <th>21747369</th>\n",
       "      <td>english</td>\n",
       "      <td>0.386022</td>\n",
       "    </tr>\n",
       "    <tr>\n",
       "      <th>21747370</th>\n",
       "      <td>schinese</td>\n",
       "      <td>0.416107</td>\n",
       "    </tr>\n",
       "  </tbody>\n",
       "</table>\n",
       "<p>21687951 rows × 2 columns</p>\n",
       "</div>"
      ],
      "text/plain": [
       "          language  weighted_vote_score\n",
       "0         schinese             0.000000\n",
       "1         schinese             0.000000\n",
       "2         schinese             0.000000\n",
       "3          english             0.000000\n",
       "4         schinese             0.000000\n",
       "...            ...                  ...\n",
       "21747366   english             0.000000\n",
       "21747367   english             0.000000\n",
       "21747368   english             0.474138\n",
       "21747369   english             0.386022\n",
       "21747370  schinese             0.416107\n",
       "\n",
       "[21687951 rows x 2 columns]"
      ]
     },
     "execution_count": 152,
     "metadata": {},
     "output_type": "execute_result"
    }
   ],
   "source": [
    "df_lan_wvs = data[['language','weighted_vote_score']]\n",
    "df_lan_wvs"
   ]
  },
  {
   "cell_type": "code",
   "execution_count": 153,
   "metadata": {
    "scrolled": true
   },
   "outputs": [
    {
     "data": {
      "text/html": [
       "<div>\n",
       "<style scoped>\n",
       "    .dataframe tbody tr th:only-of-type {\n",
       "        vertical-align: middle;\n",
       "    }\n",
       "\n",
       "    .dataframe tbody tr th {\n",
       "        vertical-align: top;\n",
       "    }\n",
       "\n",
       "    .dataframe thead th {\n",
       "        text-align: right;\n",
       "    }\n",
       "</style>\n",
       "<table border=\"1\" class=\"dataframe\">\n",
       "  <thead>\n",
       "    <tr style=\"text-align: right;\">\n",
       "      <th></th>\n",
       "      <th>count</th>\n",
       "      <th>mean</th>\n",
       "      <th>std</th>\n",
       "      <th>min</th>\n",
       "      <th>25%</th>\n",
       "      <th>50%</th>\n",
       "      <th>75%</th>\n",
       "      <th>max</th>\n",
       "    </tr>\n",
       "    <tr>\n",
       "      <th>language</th>\n",
       "      <th></th>\n",
       "      <th></th>\n",
       "      <th></th>\n",
       "      <th></th>\n",
       "      <th></th>\n",
       "      <th></th>\n",
       "      <th></th>\n",
       "      <th></th>\n",
       "    </tr>\n",
       "  </thead>\n",
       "  <tbody>\n",
       "    <tr>\n",
       "      <th>russian</th>\n",
       "      <td>2342828.000000</td>\n",
       "      <td>0.213616</td>\n",
       "      <td>0.257783</td>\n",
       "      <td>0.000000</td>\n",
       "      <td>0.000000</td>\n",
       "      <td>0.000000</td>\n",
       "      <td>0.505300</td>\n",
       "      <td>0.989523</td>\n",
       "    </tr>\n",
       "    <tr>\n",
       "      <th>schinese</th>\n",
       "      <td>3758222.000000</td>\n",
       "      <td>0.145538</td>\n",
       "      <td>0.239511</td>\n",
       "      <td>0.000000</td>\n",
       "      <td>0.000000</td>\n",
       "      <td>0.000000</td>\n",
       "      <td>0.476190</td>\n",
       "      <td>0.995987</td>\n",
       "    </tr>\n",
       "  </tbody>\n",
       "</table>\n",
       "</div>"
      ],
      "text/plain": [
       "                  count     mean      std      min      25%      50%      75%  \\\n",
       "language                                                                        \n",
       "russian  2342828.000000 0.213616 0.257783 0.000000 0.000000 0.000000 0.505300   \n",
       "schinese 3758222.000000 0.145538 0.239511 0.000000 0.000000 0.000000 0.476190   \n",
       "\n",
       "              max  \n",
       "language           \n",
       "russian  0.989523  \n",
       "schinese 0.995987  "
      ]
     },
     "execution_count": 153,
     "metadata": {},
     "output_type": "execute_result"
    }
   ],
   "source": [
    "chi_rus = data[(data.language=='schinese') | (data.language=='russian')].groupby('language').weighted_vote_score.describe()\n",
    "chi_rus"
   ]
  },
  {
   "cell_type": "code",
   "execution_count": 133,
   "metadata": {
    "scrolled": true
   },
   "outputs": [
    {
     "data": {
      "text/plain": [
       "Text(0.5, 0.4, 'count chinese = 3764967.0')"
      ]
     },
     "execution_count": 133,
     "metadata": {},
     "output_type": "execute_result"
    },
    {
     "data": {
      "image/png": "[encoded data removed]",
      "text/plain": [
       "<Figure size 1080x288 with 1 Axes>"
      ]
     },
     "metadata": {
      "needs_background": "light"
     },
     "output_type": "display_data"
    }
   ],
   "source": [
    "chi_rus.iloc[0,1:].plot(figsize = (15,4), color = 'blue')\n",
    "chi_rus.iloc[1,1:].plot(figsize = (15,4), color = 'orange')\n",
    "plt.annotate(\"count russian = {}\".format(chi_rus.iloc[0,0]), xy = (0.5,0.5), color = 'blue')\n",
    "plt.annotate(\"count chinese = {}\".format(chi_rus.iloc[1,0]), xy = (0.5,0.4), color = 'orange')"
   ]
  },
  {
   "cell_type": "markdown",
   "metadata": {},
   "source": [
    "To check if there are significant differences between the weighted vote score written in chinese and the one written in russian, we compute a t-test using the scipy.stats.ttest_ind function."
   ]
  },
  {
   "cell_type": "code",
   "execution_count": 137,
   "metadata": {
    "tags": []
   },
   "outputs": [
    {
     "data": {
      "text/plain": [
       "Ttest_indResult(statistic=-331.415758641803, pvalue=0.0)"
      ]
     },
     "execution_count": 137,
     "metadata": {},
     "output_type": "execute_result"
    }
   ],
   "source": [
    "chinese_wvs = [data.loc[i, \"weighted_vote_score\"] for i in range(len(data[\"weighted_vote_score\"])) if data.loc[i,\"language\"] == \"schinese\"]\n",
    "russian_wvs = [data.loc[i, \"weighted_vote_score\"] for i in range(len(data[\"weighted_vote_score\"])) if data.loc[i,\"language\"] == \"russian\"]\n",
    "scipy.stats.ttest_ind(chinese_wvs, russian_wvs)"
   ]
  },
  {
   "cell_type": "markdown",
   "metadata": {},
   "source": [
    "The t-test quantifies the difference between the means of the two samples (weighted_vote_score in chinese and in russian). The p-value quantifies the probability of observing as or more extreme values assuming the null hypothesis, that the samples are drawn from populations with the same population means, is true $ (H_0: µ_1 - µ_2 = 0) $. A p-value larger than a chosen threshold (e.g. 5% or 1%) indicates that our observation is not so unlikely to have occurred by chance. Therefore, we do not reject the null hypothesis of equal population means. If the p-value is smaller than our threshold, then we have evidence against the null hypothesis of equal population means.\n",
    "In this case p-value = 0.0, that's mean that we have evidence against the null hypothesis, so we can conclude that the mean of the russian wvs and the chinese wvs are not the same."
   ]
  },
  {
   "cell_type": "markdown",
   "metadata": {},
   "source": [
    "The amount of reviews written in chinese is much higher than the one written in russian. We are doing some basic statistics on samples of different numerosity. \n",
    "We observe that there are not stronger differences between the two lines.\n"
   ]
  },
  {
   "cell_type": "markdown",
   "metadata": {},
   "source": [
    "#### RQ 8.2 - Time a user lets pass before updating the review is timestamp_updated - timestamp_created."
   ]
  },
  {
   "cell_type": "markdown",
   "metadata": {},
   "source": [
    "For each review, we compute this interval, and use the pearson coefficient to evaluate any possible correlation between that interval and the weighted vote score, r is a very small number so we can assume that there is no correlation between the interval a user lets pass before he update the review and the weighted vote score. In addition, we can consider this analysis pretty reliable, since the values are sufficiently concentrated around the mean. We computed the scatter plot to give a graphical idea."
   ]
  },
  {
   "cell_type": "code",
   "execution_count": 154,
   "metadata": {},
   "outputs": [
    {
     "data": {
      "text/plain": [
       "0                0.000000\n",
       "1                0.000000\n",
       "2                0.000000\n",
       "3                0.000000\n",
       "4                0.000000\n",
       "                ...      \n",
       "21747366         0.000000\n",
       "21747367         0.000000\n",
       "21747368         0.000000\n",
       "21747369   1395791.000000\n",
       "21747370   7074295.000000\n",
       "Length: 21687951, dtype: float64"
      ]
     },
     "execution_count": 154,
     "metadata": {},
     "output_type": "execute_result"
    }
   ],
   "source": [
    "duration=data['timestamp_updated']-data['timestamp_created']\n",
    "duration_in_sec=duration.dt.total_seconds()\n",
    "duration_in_sec"
   ]
  },
  {
   "cell_type": "code",
   "execution_count": 155,
   "metadata": {},
   "outputs": [
    {
     "data": {
      "text/html": [
       "<div>\n",
       "<style scoped>\n",
       "    .dataframe tbody tr th:only-of-type {\n",
       "        vertical-align: middle;\n",
       "    }\n",
       "\n",
       "    .dataframe tbody tr th {\n",
       "        vertical-align: top;\n",
       "    }\n",
       "\n",
       "    .dataframe thead th {\n",
       "        text-align: right;\n",
       "    }\n",
       "</style>\n",
       "<table border=\"1\" class=\"dataframe\">\n",
       "  <thead>\n",
       "    <tr style=\"text-align: right;\">\n",
       "      <th></th>\n",
       "      <th>duration_in_sec</th>\n",
       "      <th>weighted_vote_score</th>\n",
       "    </tr>\n",
       "  </thead>\n",
       "  <tbody>\n",
       "    <tr>\n",
       "      <th>0</th>\n",
       "      <td>0.000000</td>\n",
       "      <td>0.000000</td>\n",
       "    </tr>\n",
       "    <tr>\n",
       "      <th>1</th>\n",
       "      <td>0.000000</td>\n",
       "      <td>0.000000</td>\n",
       "    </tr>\n",
       "    <tr>\n",
       "      <th>2</th>\n",
       "      <td>0.000000</td>\n",
       "      <td>0.000000</td>\n",
       "    </tr>\n",
       "    <tr>\n",
       "      <th>3</th>\n",
       "      <td>0.000000</td>\n",
       "      <td>0.000000</td>\n",
       "    </tr>\n",
       "    <tr>\n",
       "      <th>4</th>\n",
       "      <td>0.000000</td>\n",
       "      <td>0.000000</td>\n",
       "    </tr>\n",
       "    <tr>\n",
       "      <th>...</th>\n",
       "      <td>...</td>\n",
       "      <td>...</td>\n",
       "    </tr>\n",
       "    <tr>\n",
       "      <th>21747366</th>\n",
       "      <td>0.000000</td>\n",
       "      <td>0.000000</td>\n",
       "    </tr>\n",
       "    <tr>\n",
       "      <th>21747367</th>\n",
       "      <td>0.000000</td>\n",
       "      <td>0.000000</td>\n",
       "    </tr>\n",
       "    <tr>\n",
       "      <th>21747368</th>\n",
       "      <td>0.000000</td>\n",
       "      <td>0.474138</td>\n",
       "    </tr>\n",
       "    <tr>\n",
       "      <th>21747369</th>\n",
       "      <td>1395791.000000</td>\n",
       "      <td>0.386022</td>\n",
       "    </tr>\n",
       "    <tr>\n",
       "      <th>21747370</th>\n",
       "      <td>7074295.000000</td>\n",
       "      <td>0.416107</td>\n",
       "    </tr>\n",
       "  </tbody>\n",
       "</table>\n",
       "<p>21687951 rows × 2 columns</p>\n",
       "</div>"
      ],
      "text/plain": [
       "          duration_in_sec  weighted_vote_score\n",
       "0                0.000000             0.000000\n",
       "1                0.000000             0.000000\n",
       "2                0.000000             0.000000\n",
       "3                0.000000             0.000000\n",
       "4                0.000000             0.000000\n",
       "...                   ...                  ...\n",
       "21747366         0.000000             0.000000\n",
       "21747367         0.000000             0.000000\n",
       "21747368         0.000000             0.474138\n",
       "21747369   1395791.000000             0.386022\n",
       "21747370   7074295.000000             0.416107\n",
       "\n",
       "[21687951 rows x 2 columns]"
      ]
     },
     "execution_count": 155,
     "metadata": {},
     "output_type": "execute_result"
    }
   ],
   "source": [
    "int_updating = pd.DataFrame(columns = ['duration_in_sec', 'weighted_vote_score'])\n",
    "int_updating['duration_in_sec'] = duration_in_sec\n",
    "int_updating['weighted_vote_score'] = data['weighted_vote_score']\n",
    "int_updating"
   ]
  },
  {
   "cell_type": "code",
   "execution_count": 156,
   "metadata": {},
   "outputs": [
    {
     "data": {
      "text/plain": [
       "0.07207335352704707"
      ]
     },
     "execution_count": 156,
     "metadata": {},
     "output_type": "execute_result"
    }
   ],
   "source": [
    "x = np.array(int_updating[\"duration_in_sec\"])\n",
    "y = np.array(int_updating[\"weighted_vote_score\"])\n",
    "r = int_updating['duration_in_sec'].corr(int_updating['weighted_vote_score'])\n",
    "r"
   ]
  },
  {
   "cell_type": "code",
   "execution_count": 142,
   "metadata": {
    "scrolled": true
   },
   "outputs": [
    {
     "data": {
      "text/plain": [
       "<matplotlib.axes._subplots.AxesSubplot at 0x7f927a4623d0>"
      ]
     },
     "execution_count": 142,
     "metadata": {},
     "output_type": "execute_result"
    },
    {
     "data": {
      "image/png": "[encoded data removed]",
      "text/plain": [
       "<Figure size 1080x288 with 1 Axes>"
      ]
     },
     "metadata": {
      "needs_background": "light"
     },
     "output_type": "display_data"
    }
   ],
   "source": [
    "int_updating.plot.scatter(x = 'duration_in_sec',y = 'weighted_vote_score',figsize = (15,4))"
   ]
  },
  {
   "cell_type": "markdown",
   "metadata": {},
   "source": [
    "Both from the value of the correlation and by visualizing the scatter plot we notice that there is no correlation between the *weighted_vote_score* and the *time between the creation and the update of a review*. Infact the pearson correlation is very close to 0, and the scatter plot doesn't explain anything. \n",
    "\n",
    "We are aware of the fact that most of the reviews weren't updated so most of the duration is equal to 0. For this reason, we believe that it could be helpful to considerr only the reviews which had an update and check what would change."
   ]
  },
  {
   "cell_type": "code",
   "execution_count": 157,
   "metadata": {
    "scrolled": true,
    "tags": []
   },
   "outputs": [
    {
     "data": {
      "text/html": [
       "<div>\n",
       "<style scoped>\n",
       "    .dataframe tbody tr th:only-of-type {\n",
       "        vertical-align: middle;\n",
       "    }\n",
       "\n",
       "    .dataframe tbody tr th {\n",
       "        vertical-align: top;\n",
       "    }\n",
       "\n",
       "    .dataframe thead th {\n",
       "        text-align: right;\n",
       "    }\n",
       "</style>\n",
       "<table border=\"1\" class=\"dataframe\">\n",
       "  <thead>\n",
       "    <tr style=\"text-align: right;\">\n",
       "      <th></th>\n",
       "      <th>duration_in_sec</th>\n",
       "      <th>weighted_vote_score</th>\n",
       "    </tr>\n",
       "  </thead>\n",
       "  <tbody>\n",
       "    <tr>\n",
       "      <th>13</th>\n",
       "      <td>71.000000</td>\n",
       "      <td>0.000000</td>\n",
       "    </tr>\n",
       "    <tr>\n",
       "      <th>27</th>\n",
       "      <td>10765.000000</td>\n",
       "      <td>0.784226</td>\n",
       "    </tr>\n",
       "    <tr>\n",
       "      <th>39</th>\n",
       "      <td>69.000000</td>\n",
       "      <td>0.000000</td>\n",
       "    </tr>\n",
       "    <tr>\n",
       "      <th>41</th>\n",
       "      <td>2345.000000</td>\n",
       "      <td>0.000000</td>\n",
       "    </tr>\n",
       "    <tr>\n",
       "      <th>51</th>\n",
       "      <td>51.000000</td>\n",
       "      <td>0.000000</td>\n",
       "    </tr>\n",
       "    <tr>\n",
       "      <th>...</th>\n",
       "      <td>...</td>\n",
       "      <td>...</td>\n",
       "    </tr>\n",
       "    <tr>\n",
       "      <th>21747356</th>\n",
       "      <td>602648.000000</td>\n",
       "      <td>0.191392</td>\n",
       "    </tr>\n",
       "    <tr>\n",
       "      <th>21747357</th>\n",
       "      <td>2908.000000</td>\n",
       "      <td>0.619158</td>\n",
       "    </tr>\n",
       "    <tr>\n",
       "      <th>21747362</th>\n",
       "      <td>138672.000000</td>\n",
       "      <td>0.521739</td>\n",
       "    </tr>\n",
       "    <tr>\n",
       "      <th>21747369</th>\n",
       "      <td>1395791.000000</td>\n",
       "      <td>0.386022</td>\n",
       "    </tr>\n",
       "    <tr>\n",
       "      <th>21747370</th>\n",
       "      <td>7074295.000000</td>\n",
       "      <td>0.416107</td>\n",
       "    </tr>\n",
       "  </tbody>\n",
       "</table>\n",
       "<p>2446415 rows × 2 columns</p>\n",
       "</div>"
      ],
      "text/plain": [
       "          duration_in_sec  weighted_vote_score\n",
       "13              71.000000             0.000000\n",
       "27           10765.000000             0.784226\n",
       "39              69.000000             0.000000\n",
       "41            2345.000000             0.000000\n",
       "51              51.000000             0.000000\n",
       "...                   ...                  ...\n",
       "21747356    602648.000000             0.191392\n",
       "21747357      2908.000000             0.619158\n",
       "21747362    138672.000000             0.521739\n",
       "21747369   1395791.000000             0.386022\n",
       "21747370   7074295.000000             0.416107\n",
       "\n",
       "[2446415 rows x 2 columns]"
      ]
     },
     "execution_count": 157,
     "metadata": {},
     "output_type": "execute_result"
    }
   ],
   "source": [
    "x = int_updating[(int_updating['duration_in_sec'] > 0)]\n",
    "x"
   ]
  },
  {
   "cell_type": "code",
   "execution_count": 158,
   "metadata": {},
   "outputs": [
    {
     "data": {
      "text/plain": [
       "-0.03618286144999928"
      ]
     },
     "execution_count": 158,
     "metadata": {},
     "output_type": "execute_result"
    }
   ],
   "source": [
    "r1 = x['duration_in_sec'].corr(x['weighted_vote_score'])\n",
    "r1"
   ]
  },
  {
   "cell_type": "code",
   "execution_count": 159,
   "metadata": {},
   "outputs": [
    {
     "data": {
      "text/plain": [
       "<matplotlib.axes._subplots.AxesSubplot at 0x7fdbf0aa7220>"
      ]
     },
     "execution_count": 159,
     "metadata": {},
     "output_type": "execute_result"
    },
    {
     "data": {
      "image/png": "[encoded data removed]",
      "text/plain": [
       "<Figure size 1080x288 with 1 Axes>"
      ]
     },
     "metadata": {
      "needs_background": "light"
     },
     "output_type": "display_data"
    }
   ],
   "source": [
    "x.plot.scatter(x = 'duration_in_sec',y = 'weighted_vote_score',figsize = (15,4))"
   ]
  },
  {
   "cell_type": "markdown",
   "metadata": {},
   "source": [
    "Our choice of dropping all the values which had the duration_in_sec = 0 didn't change much the relationship with the *weighted vote score* variable. The pearson correlation is now negative but still very close to 0, confirming that there is no correlation between the two variables."
   ]
  },
  {
   "cell_type": "markdown",
   "metadata": {},
   "source": [
    "#### RQ 8.3 - Is there any change in the relationship of the variables mentioned in the previous literal if you include whether an application is recommended or not in the review? "
   ]
  },
  {
   "cell_type": "code",
   "execution_count": 160,
   "metadata": {
    "scrolled": true
   },
   "outputs": [
    {
     "data": {
      "text/html": [
       "<div>\n",
       "<style scoped>\n",
       "    .dataframe tbody tr th:only-of-type {\n",
       "        vertical-align: middle;\n",
       "    }\n",
       "\n",
       "    .dataframe tbody tr th {\n",
       "        vertical-align: top;\n",
       "    }\n",
       "\n",
       "    .dataframe thead th {\n",
       "        text-align: right;\n",
       "    }\n",
       "</style>\n",
       "<table border=\"1\" class=\"dataframe\">\n",
       "  <thead>\n",
       "    <tr style=\"text-align: right;\">\n",
       "      <th></th>\n",
       "      <th>duration_in_sec</th>\n",
       "      <th>recommended</th>\n",
       "    </tr>\n",
       "  </thead>\n",
       "  <tbody>\n",
       "    <tr>\n",
       "      <th>0</th>\n",
       "      <td>0.000000</td>\n",
       "      <td>1</td>\n",
       "    </tr>\n",
       "    <tr>\n",
       "      <th>1</th>\n",
       "      <td>0.000000</td>\n",
       "      <td>1</td>\n",
       "    </tr>\n",
       "    <tr>\n",
       "      <th>2</th>\n",
       "      <td>0.000000</td>\n",
       "      <td>1</td>\n",
       "    </tr>\n",
       "    <tr>\n",
       "      <th>3</th>\n",
       "      <td>0.000000</td>\n",
       "      <td>1</td>\n",
       "    </tr>\n",
       "    <tr>\n",
       "      <th>4</th>\n",
       "      <td>0.000000</td>\n",
       "      <td>1</td>\n",
       "    </tr>\n",
       "    <tr>\n",
       "      <th>...</th>\n",
       "      <td>...</td>\n",
       "      <td>...</td>\n",
       "    </tr>\n",
       "    <tr>\n",
       "      <th>21747366</th>\n",
       "      <td>0.000000</td>\n",
       "      <td>1</td>\n",
       "    </tr>\n",
       "    <tr>\n",
       "      <th>21747367</th>\n",
       "      <td>0.000000</td>\n",
       "      <td>1</td>\n",
       "    </tr>\n",
       "    <tr>\n",
       "      <th>21747368</th>\n",
       "      <td>0.000000</td>\n",
       "      <td>1</td>\n",
       "    </tr>\n",
       "    <tr>\n",
       "      <th>21747369</th>\n",
       "      <td>1395791.000000</td>\n",
       "      <td>1</td>\n",
       "    </tr>\n",
       "    <tr>\n",
       "      <th>21747370</th>\n",
       "      <td>7074295.000000</td>\n",
       "      <td>1</td>\n",
       "    </tr>\n",
       "  </tbody>\n",
       "</table>\n",
       "<p>21687951 rows × 2 columns</p>\n",
       "</div>"
      ],
      "text/plain": [
       "          duration_in_sec  recommended\n",
       "0                0.000000            1\n",
       "1                0.000000            1\n",
       "2                0.000000            1\n",
       "3                0.000000            1\n",
       "4                0.000000            1\n",
       "...                   ...          ...\n",
       "21747366         0.000000            1\n",
       "21747367         0.000000            1\n",
       "21747368         0.000000            1\n",
       "21747369   1395791.000000            1\n",
       "21747370   7074295.000000            1\n",
       "\n",
       "[21687951 rows x 2 columns]"
      ]
     },
     "execution_count": 160,
     "metadata": {},
     "output_type": "execute_result"
    }
   ],
   "source": [
    "recomm = []\n",
    "for i in data[\"recommended\"]:\n",
    "    if i == True:\n",
    "        recomm.append(1)\n",
    "    else:\n",
    "        recomm.append(0)\n",
    "reco = pd.DataFrame(columns = [\"duration_in_sec\", \"recommended\"])\n",
    "reco[\"duration_in_sec\"] = int_updating[\"duration_in_sec\"]\n",
    "reco[\"recommended\"] = recomm\n",
    "reco"
   ]
  },
  {
   "cell_type": "code",
   "execution_count": 161,
   "metadata": {},
   "outputs": [
    {
     "data": {
      "text/plain": [
       "-0.028592569308459718"
      ]
     },
     "execution_count": 161,
     "metadata": {},
     "output_type": "execute_result"
    }
   ],
   "source": [
    "r2 = reco[\"duration_in_sec\"].corr(reco[\"recommended\"])\n",
    "r2"
   ]
  },
  {
   "cell_type": "code",
   "execution_count": 154,
   "metadata": {},
   "outputs": [
    {
     "data": {
      "text/plain": [
       "<matplotlib.axes._subplots.AxesSubplot at 0x7f92cfeb4610>"
      ]
     },
     "execution_count": 154,
     "metadata": {},
     "output_type": "execute_result"
    },
    {
     "data": {
      "image/png": "[encoded data removed]",
      "text/plain": [
       "<Figure size 1080x288 with 1 Axes>"
      ]
     },
     "metadata": {
      "needs_background": "light"
     },
     "output_type": "display_data"
    }
   ],
   "source": [
    "reco.plot.scatter(x = 'duration_in_sec',y = 'recommended',figsize = (15,4))"
   ]
  },
  {
   "cell_type": "markdown",
   "metadata": {},
   "source": [
    "By doing a correlation analysis we conclude that there is no correlation between the duration_in_sec and the recommended count. So, we will try to see if there is a linear dependence between these two variables through a linear regression model and checking the R-Squared value. With this model we want to see if when the duration grows, also the recommended value increases. "
   ]
  },
  {
   "cell_type": "code",
   "execution_count": 164,
   "metadata": {},
   "outputs": [],
   "source": [
    "duration_in_sec=np.array(reco['duration_in_sec']).reshape((-1, 1))\n",
    "recommended=np.array(reco['recommended'])"
   ]
  },
  {
   "cell_type": "code",
   "execution_count": 165,
   "metadata": {},
   "outputs": [],
   "source": [
    "model = LinearRegression().fit(duration_in_sec, recommended)"
   ]
  },
  {
   "cell_type": "code",
   "execution_count": 166,
   "metadata": {},
   "outputs": [
    {
     "name": "stdout",
     "output_type": "stream",
     "text": [
      "coefficient of determination: 0.0008175350196618636\n"
     ]
    }
   ],
   "source": [
    "r_sq = model.score(duration_in_sec, recommended)\n",
    "print('coefficient of determination:', r_sq)"
   ]
  },
  {
   "cell_type": "markdown",
   "metadata": {},
   "source": [
    "The coefficient of determination is very close to 0, which means that the data doesn't fit the model. For this reason we confirm that there is no linear relationship nor correlation between the two variables."
   ]
  },
  {
   "cell_type": "markdown",
   "metadata": {},
   "source": [
    "#### RQ 8.4 - HISTOGRAMS, BARPLOTS, SCATTERPLOTS, PIECHARTS\n",
    "\n",
    "We use histograms, bar plots, scatterplots and pie charts as a way to explain data; bar charts and pie charts are mostly used for categorical data, which may be divided into groups because they assume values in a discete set. Pie charts show each value in relation with the whole, while bar plots show the values of the categorical variable on x-axis, and their frequency on the other.\n",
    "Indeed, histograms are for displaying quantitive data, after collecting data from a population, we split them into intervals we report on the x-axis, while on the y-axis it is shown the frequency or count. Intervals can be of different width, if so, it is represented by a different width of the bins.\n",
    "Lastly, scatterplots are used to represent a correlation between two variables, data are displayed in a collection of points, which coordinates are determined by the values of the first and the second variable. If the two variables are dependent, we can see that the points follow a certain direction (depending on which type of dependance it is: linear, polynomial, etc)."
   ]
  },
  {
   "cell_type": "markdown",
   "metadata": {
    "tags": []
   },
   "source": [
    "#### 8.5 - INSIGHT FROM BOXPLOTS\n",
    "\n",
    "Boxplots are useful to understand the distribution of the data, more in particular, they show the quartiles, so we can see where the values are centered (median = $q_2$), and also understand their spread via the $IQ = q_3 - q_1$ , the range (max-min) and so spot the outliers.\n",
    "they are also useful to compare distributions.\n"
   ]
  },
  {
   "cell_type": "markdown",
   "metadata": {},
   "source": [
    "### THEORETICAL QUESTIONS"
   ]
  },
  {
   "cell_type": "markdown",
   "metadata": {},
   "source": [
    "#### TQ1"
   ]
  },
  {
   "cell_type": "code",
   "execution_count": 167,
   "metadata": {},
   "outputs": [],
   "source": [
    "#Input: \n",
    "    #A: array of length n\n",
    "    #k: integers between 1 and n\n",
    " \n",
    "def alg(A, k):\n",
    "    s = np.random.choice(A)  # 1 step\n",
    "    L = [i for i in A if i <= s] # n step\n",
    "    R = [i for i in A if i > s] # n step\n",
    "    r = len(L) # 1 step\n",
    "    if k == r: # 1 step\n",
    "        return s \n",
    "    elif k < r:  \n",
    "        return alg(L, k) \n",
    "    else:\n",
    "        return alg(R, k - r) "
   ]
  },
  {
   "cell_type": "markdown",
   "metadata": {
    "tags": []
   },
   "source": [
    "#### 1. What does the algorithm compute?\n",
    "Given a list A of n elements and an integer k, the goal is to find the k-th smallest element of the list. The algorithm splits the list in two parts: L, containing the elements ≤ s and R containig the elements > s. The algorithm is computed again on both L and R, and it stops when k = r = len(L). \n",
    "If k = r, s will be the k-th smallest element of the list (example in the cell below).\n",
    "\n",
    "example for question 1:\n",
    "A = [1, 2, 4, 2, 3, 1, 5]\n",
    "We can see that, sorting the list:\n",
    "A_sorted = [1, 1, 2, 2, 3, 4, 5]\n",
    "\n",
    "- 1st smallest element is 1 (k = 1) -> ERROR\n",
    "- 2nd smallest element is 1 (k = 2) \n",
    "- 3rd smallest element is 2 (k = 3) -> ERROR\n",
    "- 4th smallest element is 2 (k = 4)\n",
    "- 5th smallest element is 3 (k = 5)\n",
    "- 6th smallest element is 4 (k = 6)\n",
    "- 7th smallest element is 5 (k = 7)\n",
    "\n",
    "You can run it and see that, if k is 1 or 3, the algorithm gives an error because there are two numbers (1 and 2) that have duplicates, and once A is splitted in L and R, L will never be of lenght k (k will be always ≠ r) because it will contain the same element twice (in this example).\n",
    "\n",
    "For example: if k = 1, the first smallest element of A is 1, suppose s = 2 => L = [1, 1, 2, 2], R = [3, 4, 5] and r = 4. In the first run k < r, so the algorithm is repeated on L, suppose now s = 1 => L' = [1, 1], \n",
    "R' = [2, 2] and r = 2 => k < r also this time, but we can see that r will never be 1, because L can't be splitted again (it contains the same element twice, so it will be at list of lenght 2), so the algorithm will give an error because it will never give back the first smallest element."
   ]
  },
  {
   "cell_type": "code",
   "execution_count": 168,
   "metadata": {},
   "outputs": [
    {
     "data": {
      "text/plain": [
       "2"
      ]
     },
     "execution_count": 168,
     "metadata": {},
     "output_type": "execute_result"
    }
   ],
   "source": [
    "# example of k = 4: 2 is the 4th smallest element of A\n",
    "alg([1, 2, 4, 2, 3, 1, 5], 4)"
   ]
  },
  {
   "cell_type": "code",
   "execution_count": 169,
   "metadata": {},
   "outputs": [
    {
     "ename": "RecursionError",
     "evalue": "maximum recursion depth exceeded while calling a Python object",
     "output_type": "error",
     "traceback": [
      "\u001b[0;31m---------------------------------------------------------------------------\u001b[0m",
      "\u001b[0;31mRecursionError\u001b[0m                            Traceback (most recent call last)",
      "\u001b[0;32m<ipython-input-169-b47f1b3594ed>\u001b[0m in \u001b[0;36m<module>\u001b[0;34m\u001b[0m\n\u001b[1;32m      1\u001b[0m \u001b[0;31m# example of worst case: maximum recursion depth exceeded\u001b[0m\u001b[0;34m\u001b[0m\u001b[0;34m\u001b[0m\u001b[0;34m\u001b[0m\u001b[0m\n\u001b[0;32m----> 2\u001b[0;31m \u001b[0malg\u001b[0m\u001b[0;34m(\u001b[0m\u001b[0;34m[\u001b[0m\u001b[0;36m1\u001b[0m\u001b[0;34m,\u001b[0m \u001b[0;36m2\u001b[0m\u001b[0;34m,\u001b[0m \u001b[0;36m4\u001b[0m\u001b[0;34m,\u001b[0m \u001b[0;36m2\u001b[0m\u001b[0;34m,\u001b[0m \u001b[0;36m3\u001b[0m\u001b[0;34m,\u001b[0m \u001b[0;36m1\u001b[0m\u001b[0;34m,\u001b[0m \u001b[0;36m5\u001b[0m\u001b[0;34m]\u001b[0m\u001b[0;34m,\u001b[0m \u001b[0;36m1\u001b[0m\u001b[0;34m)\u001b[0m\u001b[0;34m\u001b[0m\u001b[0;34m\u001b[0m\u001b[0m\n\u001b[0m",
      "\u001b[0;32m<ipython-input-167-6c002a2d9049>\u001b[0m in \u001b[0;36malg\u001b[0;34m(A, k)\u001b[0m\n\u001b[1;32m     11\u001b[0m         \u001b[0;32mreturn\u001b[0m \u001b[0ms\u001b[0m\u001b[0;34m\u001b[0m\u001b[0;34m\u001b[0m\u001b[0m\n\u001b[1;32m     12\u001b[0m     \u001b[0;32melif\u001b[0m \u001b[0mk\u001b[0m \u001b[0;34m<\u001b[0m \u001b[0mr\u001b[0m\u001b[0;34m:\u001b[0m\u001b[0;34m\u001b[0m\u001b[0;34m\u001b[0m\u001b[0m\n\u001b[0;32m---> 13\u001b[0;31m         \u001b[0;32mreturn\u001b[0m \u001b[0malg\u001b[0m\u001b[0;34m(\u001b[0m\u001b[0mL\u001b[0m\u001b[0;34m,\u001b[0m \u001b[0mk\u001b[0m\u001b[0;34m)\u001b[0m\u001b[0;34m\u001b[0m\u001b[0;34m\u001b[0m\u001b[0m\n\u001b[0m\u001b[1;32m     14\u001b[0m     \u001b[0;32melse\u001b[0m\u001b[0;34m:\u001b[0m\u001b[0;34m\u001b[0m\u001b[0;34m\u001b[0m\u001b[0m\n\u001b[1;32m     15\u001b[0m         \u001b[0;32mreturn\u001b[0m \u001b[0malg\u001b[0m\u001b[0;34m(\u001b[0m\u001b[0mR\u001b[0m\u001b[0;34m,\u001b[0m \u001b[0mk\u001b[0m \u001b[0;34m-\u001b[0m \u001b[0mr\u001b[0m\u001b[0;34m)\u001b[0m\u001b[0;34m\u001b[0m\u001b[0;34m\u001b[0m\u001b[0m\n",
      "... last 1 frames repeated, from the frame below ...\n",
      "\u001b[0;32m<ipython-input-167-6c002a2d9049>\u001b[0m in \u001b[0;36malg\u001b[0;34m(A, k)\u001b[0m\n\u001b[1;32m     11\u001b[0m         \u001b[0;32mreturn\u001b[0m \u001b[0ms\u001b[0m\u001b[0;34m\u001b[0m\u001b[0;34m\u001b[0m\u001b[0m\n\u001b[1;32m     12\u001b[0m     \u001b[0;32melif\u001b[0m \u001b[0mk\u001b[0m \u001b[0;34m<\u001b[0m \u001b[0mr\u001b[0m\u001b[0;34m:\u001b[0m\u001b[0;34m\u001b[0m\u001b[0;34m\u001b[0m\u001b[0m\n\u001b[0;32m---> 13\u001b[0;31m         \u001b[0;32mreturn\u001b[0m \u001b[0malg\u001b[0m\u001b[0;34m(\u001b[0m\u001b[0mL\u001b[0m\u001b[0;34m,\u001b[0m \u001b[0mk\u001b[0m\u001b[0;34m)\u001b[0m\u001b[0;34m\u001b[0m\u001b[0;34m\u001b[0m\u001b[0m\n\u001b[0m\u001b[1;32m     14\u001b[0m     \u001b[0;32melse\u001b[0m\u001b[0;34m:\u001b[0m\u001b[0;34m\u001b[0m\u001b[0;34m\u001b[0m\u001b[0m\n\u001b[1;32m     15\u001b[0m         \u001b[0;32mreturn\u001b[0m \u001b[0malg\u001b[0m\u001b[0;34m(\u001b[0m\u001b[0mR\u001b[0m\u001b[0;34m,\u001b[0m \u001b[0mk\u001b[0m \u001b[0;34m-\u001b[0m \u001b[0mr\u001b[0m\u001b[0;34m)\u001b[0m\u001b[0;34m\u001b[0m\u001b[0;34m\u001b[0m\u001b[0m\n",
      "\u001b[0;31mRecursionError\u001b[0m: maximum recursion depth exceeded while calling a Python object"
     ]
    }
   ],
   "source": [
    "# example of worst case: maximum recursion depth exceeded\n",
    "alg([1, 2, 4, 2, 3, 1, 5], 1)"
   ]
  },
  {
   "cell_type": "markdown",
   "metadata": {},
   "source": [
    "#### 2. What is asymptotically (i.e., we are asking for big-O complexity) the running time of the algorithm in the worst case, as a function of n?\n",
    "In the previous answer we saw that the worst case is the one in which k < r always, so the algorithm never stops. Particurarly, r = n-1 is the case in which A is splitted in the slowest way, so                          \n",
    "    $T(n) = (2n+4) + T(n-1) = (2n+4) + (2(n-1)+4) + (2(n-2)+4) +...+2^{i}n + 4+...+ 2^{n}n + 4 = O(n)$   \n",
    "    \n",
    "\n",
    "#### 3. What is asymptotically the running time of the algorithm in the best case?\n",
    "The best case is the one in which k = r, so the algorithm stops at the first 'if' and  $T(n) = 2n+4 = O(n)$"
   ]
  },
  {
   "cell_type": "markdown",
   "metadata": {},
   "source": [
    "#### TQ2"
   ]
  },
  {
   "cell_type": "markdown",
   "metadata": {},
   "source": [
    "#### 1) How much running time does it take to execute splitSwap(a, 0, n)?\n",
    "\n",
    "T(n) = n + 2 T(n/2)\n",
    "    \n",
    "     = n +  2 [2 T(n/4) + n/2]\n",
    " \n",
    "     = 2n + 4 T(n/4) \n",
    "\n",
    "     = 2n + 4 [2 T(n/8) + n/4] \n",
    "\n",
    "     = 3n + 8 T(n/8)\n",
    "\n",
    "     = 4n + 16 T(n/16) \n",
    "\n",
    "     = k n + 2^k T(n/2^k)  =\n",
    "[As we know that T(1)=1, this means we can do as follows:\n",
    "    n/2^k=1 or n=2^k or log_2 n=k\n",
    "so then we do as follows:]\n",
    "\n",
    "         =(log_2 n) *n +2^(log_2 n)T(1)\n",
    "         \n",
    "         = n*log_2 n  + n\n",
    "         \n",
    "         =O(n logn) $\n",
    "         \n",
    "         \n",
    "#### 2) What does this algorithm do? Is it optimal? Describe the mechanism of the algorithm in details, we do not want to know only its final result.\n",
    "\n",
    "Let's start from function splitSwap, here we send array, index and n. Where we write the if condition, as n<=1, which will return the function again but size n is halved. And another return is to halve the n and add it to i. Which will be continued until n=1 (length of sub-array =1). Then we move to swapList, where we swap elements until halved sub-array length. And it will arrive again to the first call but with new tmp. Algorithm is optimal."
   ]
  },
  {
   "cell_type": "markdown",
   "metadata": {
    "tags": []
   },
   "source": [
    "### TQ3 - Knapsack problem"
   ]
  },
  {
   "cell_type": "markdown",
   "metadata": {},
   "source": [
    "parameters:\n",
    "- w_i weight of i-th object\n",
    "- v_i value of i-th object\n",
    "- W weIght budget"
   ]
  },
  {
   "cell_type": "markdown",
   "metadata": {},
   "source": [
    "### First heuristic\n",
    "Order them in increasing order of weight and then visit them sequentially, adding them to the solution as long as the budget is not exceeded, suppose objects are numerated from 1 to n.\n",
    "\n",
    "Example\n",
    "- objects = [1, 2, 3, 4, 5]\n",
    "- w = [5, 3, 4, 3, 1]\n",
    "- v = [10, 20, 10, 3, 5]\n",
    "- W = 10\n",
    "\n",
    "1. Order them in increasing order of weight\n",
    "- w_sorted = [1, 3, 3, 4, 5]\n",
    "- obj_sorted = [5, 2, 4, 3, 1]\n",
    "\n",
    "2. Visit them sequentially adding them to the solition as long as budget is not exceeded\n",
    "- solution = [5, 2, 4]\n",
    "- weight = 7 (if we added 3 to the solution it woulb be 11, so we stop at 4)\n",
    "- value = 5+20+3 = 28\n",
    "\n",
    "It's easy to see that this solution is not optimal, for example [2, 3, 4] is a better one: weight( [2,3,4] ) = 10 and value( [2,3,4] ) = 33.\n",
    "\n"
   ]
  },
  {
   "cell_type": "markdown",
   "metadata": {},
   "source": [
    "### Second heuristic\n",
    "Order them in decreasing order of values, and then visit them sequentially, adding them to the solution if the budget is not exceeded.\n",
    "\n",
    "Example\n",
    "- objects = [1, 2, 3, 4, 5]\n",
    "- w = [5, 3, 4, 3, 1]\n",
    "- v = [10, 20, 10, 3, 5]\n",
    "- W = 10\n",
    "\n",
    "1. Order them in decreasing order of values\n",
    "- v_sorted = [20, 10, 10, 5, 3]\n",
    "- obj_sorted = [2, 1, 3, 5, 4]\n",
    "\n",
    "2. Visit them sequentially adding them to the solution if the budget is not exceeded\n",
    "- solution = [2,1]\n",
    "- weight = 8 (if we added 3 to the solution it woulb be 11, so we stop at 4)\n",
    "- value = 20+10 = 30\n",
    "\n",
    "It's easy to see that this solution is not optimal, for example [2, 3, 4] is a better one: weight( [2,3,4] ) = 10 and value( [2,3,4] ) = 33."
   ]
  },
  {
   "cell_type": "markdown",
   "metadata": {},
   "source": [
    "### Third heuristic\n",
    "Order them in decreasing relative value (v_i / w_i), and then visit them sequentially, adding them to the solution if the budget is not exceeded.\n",
    "\n",
    "Example\n",
    "- objects = [1, 2, 3, 4, 5]\n",
    "- w = [5, 3, 8, 1, 2]\n",
    "- v = [10, 18, 32, 3, 4]\n",
    "- W = 10\n",
    "- v/w = [2, 6, 4, 3, 2]\n",
    "\n",
    "1. Order them in decreasing order of relative value\n",
    "- w/v_sorted = [6, 4, 3, 2, 2]\n",
    "- obj_sorted = [2, 3, 4, 1, 5]\n",
    "\n",
    "2. Visit them sequentially adding them to the solution if the budget is not exceeded\n",
    "- solution = [2]\n",
    "- weight = 3 (if we added 3 to the solution it woulb be 11, so we stop at 2)\n",
    "- value = 18\n",
    "\n",
    "It's easy to see that this solution is not optimal, for example [1, 2, 5] is a better one: weight( [1,2,5] )=10 and value( [1,2,5] ) = 32."
   ]
  }
 ],
 "metadata": {
  "kernelspec": {
   "display_name": "Python 3",
   "language": "python",
   "name": "python3"
  },
  "language_info": {
   "codemirror_mode": {
    "name": "ipython",
    "version": 3
   },
   "file_extension": ".py",
   "mimetype": "text/x-python",
   "name": "python",
   "nbconvert_exporter": "python",
   "pygments_lexer": "ipython3",
   "version": "3.8.3"
  }
 },
 "nbformat": 4,
 "nbformat_minor": 4
}
